{
 "cells": [
  {
   "cell_type": "code",
   "execution_count": 128,
   "metadata": {},
   "outputs": [],
   "source": [
    "from  snippets.reader  import *\n",
    "from snippets.transform import *\n",
    "from snippets.vectorization import *\n",
    "import numpy as np\n",
    "import pandas as pd\n",
    "import matplotlib.pyplot as plt\n",
    "import seaborn as sns\n",
    "%matplotlib inline\n",
    "\n",
    "from sklearn.metrics import classification_report\n",
    "from sklearn.model_selection import train_test_split\n",
    "from sklearn.linear_model import LogisticRegression"
   ]
  },
  {
   "cell_type": "markdown",
   "metadata": {},
   "source": [
    "# テキストの読み込み"
   ]
  },
  {
   "cell_type": "code",
   "execution_count": 129,
   "metadata": {},
   "outputs": [],
   "source": [
    "natume=JapaneseCorpusReader('./dataset/corpas/natsume/',encoding='shift_jis')\n",
    "dazai=JapaneseCorpusReader('./dataset/corpas/dazai/',encoding='shift_jis')"
   ]
  },
  {
   "cell_type": "markdown",
   "metadata": {},
   "source": [
    "# 規格化"
   ]
  },
  {
   "cell_type": "code",
   "execution_count": 130,
   "metadata": {},
   "outputs": [],
   "source": [
    "nomalizer=JapaneseTextNormalizer()\n",
    "natume_normed=nomalizer.transform(natume,['助詞', '助動詞', '記号','動詞'])\n",
    "dazai_normed=nomalizer.transform(dazai,['助詞', '助動詞', '記号','動詞'])"
   ]
  },
  {
   "cell_type": "code",
   "execution_count": 131,
   "metadata": {},
   "outputs": [
    {
     "data": {
      "text/plain": [
       "array([0., 0., 0., ..., 0., 0., 1.])"
      ]
     },
     "execution_count": 131,
     "metadata": {},
     "output_type": "execute_result"
    }
   ],
   "source": [
    "# 正解ラベルを作成\n",
    "target=np.hstack((np.zeros(len(natume_normed)),np.ones(len(dazai_normed))))\n",
    "target[:len(natume_normed)+1]"
   ]
  },
  {
   "cell_type": "code",
   "execution_count": 139,
   "metadata": {},
   "outputs": [
    {
     "data": {
      "text/plain": [
       "4098"
      ]
     },
     "execution_count": 139,
     "metadata": {},
     "output_type": "execute_result"
    }
   ],
   "source": []
  },
  {
   "cell_type": "code",
   "execution_count": 132,
   "metadata": {},
   "outputs": [
    {
     "data": {
      "text/plain": [
       "6567"
      ]
     },
     "execution_count": 132,
     "metadata": {},
     "output_type": "execute_result"
    }
   ],
   "source": [
    "len(target)"
   ]
  },
  {
   "cell_type": "markdown",
   "metadata": {},
   "source": [
    "# 可視化"
   ]
  },
  {
   "cell_type": "markdown",
   "metadata": {},
   "source": [
    "### 頻度分布"
   ]
  },
  {
   "cell_type": "code",
   "execution_count": 133,
   "metadata": {},
   "outputs": [],
   "source": [
    "natume_word=pd.Series(sum(natume_normed,[]))\n",
    "dazai_word=pd.Series(sum(dazai_normed,[]))"
   ]
  },
  {
   "cell_type": "code",
   "execution_count": 146,
   "metadata": {
    "scrolled": true
   },
   "outputs": [
    {
     "data": {
      "text/plain": [
       "おれ     447\n",
       "の      343\n",
       "ない     265\n",
       "事      260\n",
       "もの     205\n",
       "ん      199\n",
       "人      199\n",
       "赤      162\n",
       "お      162\n",
       "よう     160\n",
       "一      159\n",
       "そう     155\n",
       "シャツ    154\n",
       "山嵐     148\n",
       "君      144\n",
       "この     135\n",
       "何      132\n",
       "二      111\n",
       "時      101\n",
       "方      100\n",
       "dtype: int64"
      ]
     },
     "execution_count": 146,
     "metadata": {},
     "output_type": "execute_result"
    }
   ],
   "source": [
    "natume_count=natume_word.value_counts()\n",
    "natume_count.head(20)"
   ]
  },
  {
   "cell_type": "code",
   "execution_count": 147,
   "metadata": {},
   "outputs": [
    {
     "data": {
      "text/plain": [
       "の     951\n",
       "自分    668\n",
       "僕     560\n",
       "事     468\n",
       "その    428\n",
       "よう    424\n",
       "もの    333\n",
       "それ    288\n",
       "さん    275\n",
       "お     261\n",
       "ん     248\n",
       "この    228\n",
       "たち    224\n",
       "人     212\n",
       "無い    203\n",
       "竹     183\n",
       "坊     177\n",
       "マア    177\n",
       "そう    171\n",
       "また    168\n",
       "dtype: int64"
      ]
     },
     "execution_count": 147,
     "metadata": {},
     "output_type": "execute_result"
    }
   ],
   "source": [
    "dazai_count=dazai_word.value_counts()\n",
    "dazai_count.head(20)"
   ]
  },
  {
   "cell_type": "code",
   "execution_count": 86,
   "metadata": {
    "scrolled": true
   },
   "outputs": [
    {
     "data": {
      "text/plain": [
       "<matplotlib.axes._subplots.AxesSubplot at 0x156cf8940>"
      ]
     },
     "execution_count": 86,
     "metadata": {},
     "output_type": "execute_result"
    },
    {
     "data": {
      "image/png": "[encoded data removed]",
      "text/plain": [
       "<Figure size 432x288 with 2 Axes>"
      ]
     },
     "metadata": {},
     "output_type": "display_data"
    }
   ],
   "source": [
    "fig,(ax1,ax2)=plt.subplots(1,2)\n",
    "natume_count.head(10).plot.bar(ax=ax1)\n",
    "dazai_count.head(10).plot.bar(ax=ax2)"
   ]
  },
  {
   "cell_type": "markdown",
   "metadata": {},
   "source": [
    "## それぞれの作品に特徴的な言葉を見つける"
   ]
  },
  {
   "cell_type": "code",
   "execution_count": 125,
   "metadata": {},
   "outputs": [],
   "source": [
    "dazai_word_set=set(dazai_word)\n",
    "natume_word_set=set(natume_word)\n"
   ]
  },
  {
   "cell_type": "markdown",
   "metadata": {},
   "source": [
    "### 太宰しかでてない言葉の頻度分布\n"
   ]
  },
  {
   "cell_type": "code",
   "execution_count": 126,
   "metadata": {
    "scrolled": true
   },
   "outputs": [
    {
     "data": {
      "text/plain": [
       "マア      177\n",
       "気持       78\n",
       "みたい      76\n",
       "堀木       73\n",
       "わけ       72\n",
       "道場       72\n",
       "けれども     64\n",
       "ひばり      50\n",
       "父        48\n",
       "ヒラメ      47\n",
       "助手       45\n",
       "固い       41\n",
       "道化       39\n",
       "ベッド      39\n",
       "塾生       38\n",
       "摩擦       36\n",
       "つくし      35\n",
       "口調       31\n",
       "パン       31\n",
       "或        30\n",
       "dtype: int64"
      ]
     },
     "execution_count": 126,
     "metadata": {},
     "output_type": "execute_result"
    }
   ],
   "source": [
    "# 差集合を取る\n",
    "only_dazai=dazai_word_set.difference(natume_word_set)\n",
    "dazai_count.loc[only_dazai].sort_values(ascending=False).head(20)\n"
   ]
  },
  {
   "cell_type": "markdown",
   "metadata": {},
   "source": [
    "## 夏目漱石しか出ていない言葉の頻度分布"
   ]
  },
  {
   "cell_type": "code",
   "execution_count": 127,
   "metadata": {
    "scrolled": true
   },
   "outputs": [
    {
     "data": {
      "text/plain": [
       "シャツ     154\n",
       "山嵐      148\n",
       "校長       59\n",
       "狸        34\n",
       "教頭       31\n",
       "驚        25\n",
       "マドンナ     23\n",
       "古賀       22\n",
       "団子       22\n",
       "今度       21\n",
       "芸者       20\n",
       "分        20\n",
       "相違       20\n",
       "込        18\n",
       "婆さん      18\n",
       "るい       18\n",
       "厘        18\n",
       "バッタ      18\n",
       "大分       18\n",
       "いっしょ     18\n",
       "dtype: int64"
      ]
     },
     "execution_count": 127,
     "metadata": {},
     "output_type": "execute_result"
    }
   ],
   "source": [
    "# 差集合を取る\n",
    "only_natsume=natume_word_set.difference(dazai_word_set)\n",
    "natume_count.loc[only_natsume].sort_values(ascending=False).head(20)\n"
   ]
  },
  {
   "cell_type": "markdown",
   "metadata": {},
   "source": [
    "# ベクトル化"
   ]
  },
  {
   "cell_type": "markdown",
   "metadata": {},
   "source": [
    "## tf_idf\n"
   ]
  },
  {
   "cell_type": "code",
   "execution_count": 12,
   "metadata": {},
   "outputs": [],
   "source": [
    "tfidf=TfidfVectorizer()"
   ]
  },
  {
   "cell_type": "code",
   "execution_count": 57,
   "metadata": {},
   "outputs": [],
   "source": [
    "## 全データを結合\n",
    "all_data=dazai_normed+natume_normed\n",
    "# 変換\n",
    "all_data=tfidf.transform(all_data)\n",
    "all_data=pd.DataFrame(all_data).fillna(0)\n",
    "all_data=all_data.to_sparse(fill_value=0)\n"
   ]
  },
  {
   "cell_type": "code",
   "execution_count": 58,
   "metadata": {
    "scrolled": true
   },
   "outputs": [
    {
     "data": {
      "text/html": [
       "<div>\n",
       "<style scoped>\n",
       "    .dataframe tbody tr th:only-of-type {\n",
       "        vertical-align: middle;\n",
       "    }\n",
       "\n",
       "    .dataframe tbody tr th {\n",
       "        vertical-align: top;\n",
       "    }\n",
       "\n",
       "    .dataframe thead th {\n",
       "        text-align: right;\n",
       "    }\n",
       "</style>\n",
       "<table border=\"1\" class=\"dataframe\">\n",
       "  <thead>\n",
       "    <tr style=\"text-align: right;\">\n",
       "      <th></th>\n",
       "      <th>-</th>\n",
       "      <th>.</th>\n",
       "      <th>/）</th>\n",
       "      <th>1</th>\n",
       "      <th>10</th>\n",
       "      <th>13</th>\n",
       "      <th>1945</th>\n",
       "      <th>1946</th>\n",
       "      <th>1948</th>\n",
       "      <th>1999</th>\n",
       "      <th>...</th>\n",
       "      <th>鼠</th>\n",
       "      <th>鼠小僧次郎吉</th>\n",
       "      <th>鼻</th>\n",
       "      <th>鼻つまみ</th>\n",
       "      <th>鼻柱</th>\n",
       "      <th>鼻緒</th>\n",
       "      <th>＃</th>\n",
       "      <th>２</th>\n",
       "      <th>ＤＩＡＬ</th>\n",
       "      <th>Ｐ</th>\n",
       "    </tr>\n",
       "  </thead>\n",
       "  <tbody>\n",
       "    <tr>\n",
       "      <th>0</th>\n",
       "      <td>0.0</td>\n",
       "      <td>0.0</td>\n",
       "      <td>0.0</td>\n",
       "      <td>0.0</td>\n",
       "      <td>0.0</td>\n",
       "      <td>0.0</td>\n",
       "      <td>0.0</td>\n",
       "      <td>0.0</td>\n",
       "      <td>0.0</td>\n",
       "      <td>0.0</td>\n",
       "      <td>...</td>\n",
       "      <td>0.0</td>\n",
       "      <td>0.0</td>\n",
       "      <td>0.0</td>\n",
       "      <td>0.0</td>\n",
       "      <td>0.0</td>\n",
       "      <td>0.0</td>\n",
       "      <td>0.0</td>\n",
       "      <td>0.0</td>\n",
       "      <td>0.0</td>\n",
       "      <td>0.0</td>\n",
       "    </tr>\n",
       "    <tr>\n",
       "      <th>1</th>\n",
       "      <td>0.0</td>\n",
       "      <td>0.0</td>\n",
       "      <td>0.0</td>\n",
       "      <td>0.0</td>\n",
       "      <td>0.0</td>\n",
       "      <td>0.0</td>\n",
       "      <td>0.0</td>\n",
       "      <td>0.0</td>\n",
       "      <td>0.0</td>\n",
       "      <td>0.0</td>\n",
       "      <td>...</td>\n",
       "      <td>0.0</td>\n",
       "      <td>0.0</td>\n",
       "      <td>0.0</td>\n",
       "      <td>0.0</td>\n",
       "      <td>0.0</td>\n",
       "      <td>0.0</td>\n",
       "      <td>0.0</td>\n",
       "      <td>0.0</td>\n",
       "      <td>0.0</td>\n",
       "      <td>0.0</td>\n",
       "    </tr>\n",
       "    <tr>\n",
       "      <th>2</th>\n",
       "      <td>0.0</td>\n",
       "      <td>0.0</td>\n",
       "      <td>0.0</td>\n",
       "      <td>0.0</td>\n",
       "      <td>0.0</td>\n",
       "      <td>0.0</td>\n",
       "      <td>0.0</td>\n",
       "      <td>0.0</td>\n",
       "      <td>0.0</td>\n",
       "      <td>0.0</td>\n",
       "      <td>...</td>\n",
       "      <td>0.0</td>\n",
       "      <td>0.0</td>\n",
       "      <td>0.0</td>\n",
       "      <td>0.0</td>\n",
       "      <td>0.0</td>\n",
       "      <td>0.0</td>\n",
       "      <td>0.0</td>\n",
       "      <td>0.0</td>\n",
       "      <td>0.0</td>\n",
       "      <td>0.0</td>\n",
       "    </tr>\n",
       "    <tr>\n",
       "      <th>3</th>\n",
       "      <td>0.0</td>\n",
       "      <td>0.0</td>\n",
       "      <td>0.0</td>\n",
       "      <td>0.0</td>\n",
       "      <td>0.0</td>\n",
       "      <td>0.0</td>\n",
       "      <td>0.0</td>\n",
       "      <td>0.0</td>\n",
       "      <td>0.0</td>\n",
       "      <td>0.0</td>\n",
       "      <td>...</td>\n",
       "      <td>0.0</td>\n",
       "      <td>0.0</td>\n",
       "      <td>0.0</td>\n",
       "      <td>0.0</td>\n",
       "      <td>0.0</td>\n",
       "      <td>0.0</td>\n",
       "      <td>0.0</td>\n",
       "      <td>0.0</td>\n",
       "      <td>0.0</td>\n",
       "      <td>0.0</td>\n",
       "    </tr>\n",
       "    <tr>\n",
       "      <th>4</th>\n",
       "      <td>0.0</td>\n",
       "      <td>0.0</td>\n",
       "      <td>0.0</td>\n",
       "      <td>0.0</td>\n",
       "      <td>0.0</td>\n",
       "      <td>0.0</td>\n",
       "      <td>0.0</td>\n",
       "      <td>0.0</td>\n",
       "      <td>0.0</td>\n",
       "      <td>0.0</td>\n",
       "      <td>...</td>\n",
       "      <td>0.0</td>\n",
       "      <td>0.0</td>\n",
       "      <td>0.0</td>\n",
       "      <td>0.0</td>\n",
       "      <td>0.0</td>\n",
       "      <td>0.0</td>\n",
       "      <td>0.0</td>\n",
       "      <td>0.0</td>\n",
       "      <td>0.0</td>\n",
       "      <td>0.0</td>\n",
       "    </tr>\n",
       "  </tbody>\n",
       "</table>\n",
       "<p>5 rows × 8132 columns</p>\n",
       "</div>"
      ],
      "text/plain": [
       "     -    .   /）    1   10   13  1945  1946  1948  1999 ...     鼠  鼠小僧次郎吉  \\\n",
       "0  0.0  0.0  0.0  0.0  0.0  0.0   0.0   0.0   0.0   0.0 ...   0.0     0.0   \n",
       "1  0.0  0.0  0.0  0.0  0.0  0.0   0.0   0.0   0.0   0.0 ...   0.0     0.0   \n",
       "2  0.0  0.0  0.0  0.0  0.0  0.0   0.0   0.0   0.0   0.0 ...   0.0     0.0   \n",
       "3  0.0  0.0  0.0  0.0  0.0  0.0   0.0   0.0   0.0   0.0 ...   0.0     0.0   \n",
       "4  0.0  0.0  0.0  0.0  0.0  0.0   0.0   0.0   0.0   0.0 ...   0.0     0.0   \n",
       "\n",
       "     鼻  鼻つまみ   鼻柱   鼻緒    ＃    ２  ＤＩＡＬ    Ｐ  \n",
       "0  0.0   0.0  0.0  0.0  0.0  0.0   0.0  0.0  \n",
       "1  0.0   0.0  0.0  0.0  0.0  0.0   0.0  0.0  \n",
       "2  0.0   0.0  0.0  0.0  0.0  0.0   0.0  0.0  \n",
       "3  0.0   0.0  0.0  0.0  0.0  0.0   0.0  0.0  \n",
       "4  0.0   0.0  0.0  0.0  0.0  0.0   0.0  0.0  \n",
       "\n",
       "[5 rows x 8132 columns]"
      ]
     },
     "execution_count": 58,
     "metadata": {},
     "output_type": "execute_result"
    }
   ],
   "source": [
    "all_data.head()"
   ]
  },
  {
   "cell_type": "markdown",
   "metadata": {},
   "source": [
    "##  targetを作成"
   ]
  },
  {
   "cell_type": "code",
   "execution_count": 60,
   "metadata": {},
   "outputs": [],
   "source": [
    "target_df=pd.Series(target)\n",
    "target_df.name='target'"
   ]
  },
  {
   "cell_type": "markdown",
   "metadata": {},
   "source": [
    "# モデルに適用"
   ]
  },
  {
   "cell_type": "markdown",
   "metadata": {},
   "source": [
    "## データの分割"
   ]
  },
  {
   "cell_type": "code",
   "execution_count": 62,
   "metadata": {},
   "outputs": [],
   "source": [
    "x_train,x_test,t_train,t_test=train_test_split(all_data,target_df,random_state=1)"
   ]
  },
  {
   "cell_type": "code",
   "execution_count": 63,
   "metadata": {},
   "outputs": [],
   "source": [
    "model=LogisticRegression()\n",
    "model.fit(x_train,t_train)\n",
    "pred=model.predict(x_test)"
   ]
  },
  {
   "cell_type": "markdown",
   "metadata": {},
   "source": [
    "# 評価"
   ]
  },
  {
   "cell_type": "code",
   "execution_count": 65,
   "metadata": {},
   "outputs": [
    {
     "name": "stdout",
     "output_type": "stream",
     "text": [
      "             precision    recall  f1-score   support\n",
      "\n",
      "        0.0       0.73      0.66      0.69       603\n",
      "        1.0       0.81      0.86      0.83      1039\n",
      "\n",
      "avg / total       0.78      0.78      0.78      1642\n",
      "\n"
     ]
    }
   ],
   "source": [
    "print(classification_report(t_test,pred))"
   ]
  }
 ],
 "metadata": {
  "kernelspec": {
   "display_name": "Python 3",
   "language": "python",
   "name": "python3"
  },
  "toc": {
   "base_numbering": 1,
   "nav_menu": {},
   "number_sections": true,
   "sideBar": true,
   "skip_h1_title": false,
   "title_cell": "Table of Contents",
   "title_sidebar": "Contents",
   "toc_cell": false,
   "toc_position": {},
   "toc_section_display": true,
   "toc_window_display": false
  }
 },
 "nbformat": 4,
 "nbformat_minor": 2
}
