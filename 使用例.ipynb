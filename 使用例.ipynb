{
 "cells": [
  {
   "cell_type": "code",
   "execution_count": 47,
   "metadata": {},
   "outputs": [],
   "source": [
    "from  snippets.reader  import *\n",
    "from snippets.transform import *\n",
    "from snippets.vectorization import *\n",
    "import numpy as np\n",
    "import pandas as pd\n",
    "import matplotlib.pyplot as plt\n",
    "import matplotlib as mpl\n",
    "\n",
    "import seaborn as sns\n",
    "%matplotlib inline\n",
    "\n",
    "from sklearn.metrics import classification_report\n",
    "from sklearn.model_selection import train_test_split\n",
    "from sklearn.linear_model import LogisticRegression"
   ]
  },
  {
   "cell_type": "code",
   "execution_count": 48,
   "metadata": {},
   "outputs": [],
   "source": [
    "# 日本語に対応しているフォントを以下の中から\n",
    "# import matplotlib.font_manager\n",
    "# print([f.name for f in matplotlib.font_manager.fontManager.ttflist])\n",
    "# で出力されるものの中から選ぶ\n",
    "mpl.rcParams['font.family'] = 'AppleGothic'\n",
    "\n",
    "\n",
    "plt.rcParams[\"figure.figsize\"] = [20, 15] # グラフのサイズを指定\n",
    "plt.rcParams['font.size'] = 20 #フォントサイズを設定 default : 12\n",
    "plt.rcParams['xtick.labelsize'] = 25 # 横軸のフォントサイズ\n",
    "plt.rcParams['ytick.labelsize'] = 25 # 縦軸のフォントサイズ\n",
    "plt.rcParams['legend.fontsize'] = 25 # 凡例のフォントサイズ\n",
    "plt.rcParams['axes.titlesize'] = 30 # タイトルのフォントサイズ\n",
    "plt.rcParams['axes.labelsize'] = 25 # 軸ラベルのフォントサイズ"
   ]
  },
  {
   "cell_type": "markdown",
   "metadata": {},
   "source": [
    "# テキストの読み込み"
   ]
  },
  {
   "cell_type": "code",
   "execution_count": 49,
   "metadata": {},
   "outputs": [],
   "source": [
    "natume=JapaneseCorpusReader('./dataset/corpas/natsume/',encoding='shift_jis')\n",
    "dazai=JapaneseCorpusReader('./dataset/corpas/dazai/',encoding='shift_jis')"
   ]
  },
  {
   "cell_type": "markdown",
   "metadata": {},
   "source": [
    "# 規格化"
   ]
  },
  {
   "cell_type": "code",
   "execution_count": null,
   "metadata": {},
   "outputs": [],
   "source": [
    "nomalizer=JapaneseTextNormalizer()\n",
    "natume_normed=nomalizer.transform(natume,['助詞', '助動詞', '記号','動詞'])\n",
    "dazai_normed=nomalizer.transform(dazai,['助詞', '助動詞', '記号','動詞'])"
   ]
  },
  {
   "cell_type": "code",
   "execution_count": null,
   "metadata": {},
   "outputs": [],
   "source": [
    "# 正解ラベルを作成\n",
    "target=np.hstack((np.zeros(len(natume_normed)),np.ones(len(dazai_normed))))\n",
    "target[:len(natume_normed)+1]"
   ]
  },
  {
   "cell_type": "code",
   "execution_count": null,
   "metadata": {},
   "outputs": [],
   "source": [
    "len(target)"
   ]
  },
  {
   "cell_type": "markdown",
   "metadata": {},
   "source": [
    "# 可視化"
   ]
  },
  {
   "cell_type": "markdown",
   "metadata": {},
   "source": [
    "### 頻度分布"
   ]
  },
  {
   "cell_type": "code",
   "execution_count": null,
   "metadata": {},
   "outputs": [],
   "source": [
    "natume_word=pd.Series(sum(natume_normed,[]))\n",
    "dazai_word=pd.Series(sum(dazai_normed,[]))"
   ]
  },
  {
   "cell_type": "code",
   "execution_count": null,
   "metadata": {
    "scrolled": true
   },
   "outputs": [],
   "source": [
    "natume_count=natume_word.value_counts()\n",
    "natume_count.head(20)"
   ]
  },
  {
   "cell_type": "code",
   "execution_count": null,
   "metadata": {},
   "outputs": [],
   "source": [
    "dazai_count=dazai_word.value_counts()\n",
    "dazai_count.head(20)"
   ]
  },
  {
   "cell_type": "code",
   "execution_count": null,
   "metadata": {
    "scrolled": false
   },
   "outputs": [],
   "source": [
    "fig,(ax1,ax2)=plt.subplots(1,2)\n",
    "natume_count.head(10).plot.bar(ax=ax1,rot=60,label=\"漱石\",title='漱石作品')\n",
    "dazai_count.head(10).plot.bar(ax=ax2,rot=60,label=\"太宰\",title=\"太宰作品\")"
   ]
  },
  {
   "cell_type": "markdown",
   "metadata": {},
   "source": [
    "## それぞれの作品に特徴的な言葉を見つける"
   ]
  },
  {
   "cell_type": "code",
   "execution_count": null,
   "metadata": {},
   "outputs": [],
   "source": [
    "dazai_word_set=set(dazai_word)\n",
    "natume_word_set=set(natume_word)\n"
   ]
  },
  {
   "cell_type": "markdown",
   "metadata": {},
   "source": [
    "### 太宰しかでてない言葉の頻度分布\n"
   ]
  },
  {
   "cell_type": "code",
   "execution_count": null,
   "metadata": {
    "scrolled": true
   },
   "outputs": [],
   "source": [
    "# 差集合を取る\n",
    "only_dazai=dazai_word_set.difference(natume_word_set)\n",
    "only_dazai_count=dazai_count.loc[only_dazai].sort_values(ascending=False)\n"
   ]
  },
  {
   "cell_type": "markdown",
   "metadata": {},
   "source": [
    "## 夏目漱石しか出ていない言葉の頻度分布"
   ]
  },
  {
   "cell_type": "code",
   "execution_count": null,
   "metadata": {
    "scrolled": false
   },
   "outputs": [],
   "source": [
    "# 差集合を取る\n",
    "only_natume=natume_word_set.difference(dazai_word_set)\n",
    "only_natume_count=natume_count.loc[only_natume].sort_values(ascending=False)\n"
   ]
  },
  {
   "cell_type": "code",
   "execution_count": null,
   "metadata": {},
   "outputs": [],
   "source": [
    "fig,(ax1,ax2)=plt.subplots(1,2)\n",
    "only_natume_count.head(10).plot.bar(ax=ax1,rot=60,label=\"漱石\",title='漱石作品にのみ出ることば')\n",
    "only_dazai_count.head(10).plot.bar(ax=ax2,rot=60,label=\"太宰\",title=\"太宰作品のみに出ることば\")"
   ]
  },
  {
   "cell_type": "markdown",
   "metadata": {},
   "source": [
    "# ベクトル化"
   ]
  },
  {
   "cell_type": "markdown",
   "metadata": {},
   "source": [
    "## tf_idf\n"
   ]
  },
  {
   "cell_type": "code",
   "execution_count": null,
   "metadata": {},
   "outputs": [],
   "source": [
    "tfidf=TfidfVectorizer()"
   ]
  },
  {
   "cell_type": "code",
   "execution_count": null,
   "metadata": {},
   "outputs": [],
   "source": [
    "## 全データを結合\n",
    "all_data=dazai_normed+natume_normed\n",
    "# 変換\n",
    "all_data=tfidf.transform(all_data)\n",
    "all_data=pd.DataFrame(all_data).fillna(0)\n",
    "all_data=all_data.to_sparse(fill_value=0)\n"
   ]
  },
  {
   "cell_type": "code",
   "execution_count": null,
   "metadata": {
    "scrolled": true
   },
   "outputs": [],
   "source": [
    "all_data.head()"
   ]
  },
  {
   "cell_type": "markdown",
   "metadata": {},
   "source": [
    "##  targetを作成"
   ]
  },
  {
   "cell_type": "code",
   "execution_count": null,
   "metadata": {},
   "outputs": [],
   "source": [
    "target_df=pd.Series(target)\n",
    "target_df.name='target'"
   ]
  },
  {
   "cell_type": "markdown",
   "metadata": {},
   "source": [
    "# モデルに適用"
   ]
  },
  {
   "cell_type": "markdown",
   "metadata": {},
   "source": [
    "## データの分割"
   ]
  },
  {
   "cell_type": "code",
   "execution_count": null,
   "metadata": {},
   "outputs": [],
   "source": [
    "x_train,x_test,t_train,t_test=train_test_split(all_data,target_df,random_state=1)"
   ]
  },
  {
   "cell_type": "code",
   "execution_count": null,
   "metadata": {},
   "outputs": [],
   "source": [
    "model=LogisticRegression()\n",
    "model.fit(x_train,t_train)\n",
    "pred=model.predict(x_test)"
   ]
  },
  {
   "cell_type": "markdown",
   "metadata": {},
   "source": [
    "# 評価"
   ]
  },
  {
   "cell_type": "code",
   "execution_count": null,
   "metadata": {},
   "outputs": [],
   "source": [
    "print(classification_report(t_test,pred))"
   ]
  }
 ],
 "metadata": {
  "kernelspec": {
   "display_name": "Python 3",
   "language": "python",
   "name": "python3"
  },
  "language_info": {
   "codemirror_mode": {
    "name": "ipython",
    "version": 3
   },
   "file_extension": ".py",
   "mimetype": "text/x-python",
   "name": "python",
   "nbconvert_exporter": "python",
   "pygments_lexer": "ipython3",
   "version": "3.6.5"
  },
  "toc": {
   "base_numbering": 1.0,
   "nav_menu": {},
   "number_sections": true,
   "sideBar": true,
   "skip_h1_title": false,
   "title_cell": "Table of Contents",
   "title_sidebar": "Contents",
   "toc_cell": false,
   "toc_position": {},
   "toc_section_display": true,
   "toc_window_display": false
  }
 },
 "nbformat": 4,
 "nbformat_minor": 2
}
