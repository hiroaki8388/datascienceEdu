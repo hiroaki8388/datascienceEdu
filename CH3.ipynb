{
 "cells": [
  {
   "cell_type": "markdown",
   "metadata": {},
   "source": [
    "# JapaneseCorpusReaderのテスト"
   ]
  },
  {
   "cell_type": "code",
   "execution_count": 1,
   "metadata": {},
   "outputs": [],
   "source": [
    "from  snippets.reader  import *\n",
    "from snippets.transform import *\n",
    "from snippets.vectorization import *\n",
    "import numpy as np\n"
   ]
  },
  {
   "cell_type": "code",
   "execution_count": 5,
   "metadata": {},
   "outputs": [],
   "source": [
    " jap=JapaneseCorpusReader(root='./dataset/corpas',encoding='shift_jis')"
   ]
  },
  {
   "cell_type": "code",
   "execution_count": 3,
   "metadata": {},
   "outputs": [
    {
     "data": {
      "text/plain": [
       "['kokoro.txt']"
      ]
     },
     "execution_count": 3,
     "metadata": {},
     "output_type": "execute_result"
    }
   ],
   "source": [
    "jap.fileids()"
   ]
  },
  {
   "cell_type": "code",
   "execution_count": 4,
   "metadata": {
    "scrolled": true
   },
   "outputs": [],
   "source": [
    "data=jap.sents()[0]"
   ]
  },
  {
   "cell_type": "code",
   "execution_count": null,
   "metadata": {},
   "outputs": [],
   "source": []
  },
  {
   "cell_type": "code",
   "execution_count": 5,
   "metadata": {},
   "outputs": [
    {
     "data": {
      "text/plain": [
       "['私\\t名詞,代名詞,一般,*,*,*,私,ワタシ,ワタシ',\n",
       " '《\\t記号,括弧開,*,*,*,*,《,《,《',\n",
       " 'わたくし\\t名詞,代名詞,一般,*,*,*,わたくし,ワタクシ,ワタクシ',\n",
       " '》\\t記号,括弧閉,*,*,*,*,》,》,》',\n",
       " 'は\\t助詞,係助詞,*,*,*,*,は,ハ,ワ',\n",
       " 'その\\t連体詞,*,*,*,*,*,その,ソノ,ソノ',\n",
       " '人\\t名詞,一般,*,*,*,*,人,ヒト,ヒト',\n",
       " 'を\\t助詞,格助詞,一般,*,*,*,を,ヲ,ヲ',\n",
       " '常に\\t副詞,一般,*,*,*,*,常に,ツネニ,ツネニ',\n",
       " '先生\\t名詞,一般,*,*,*,*,先生,センセイ,センセイ',\n",
       " 'と\\t助詞,格助詞,一般,*,*,*,と,ト,ト',\n",
       " '呼ん\\t動詞,自立,*,*,五段・バ行,連用タ接続,呼ぶ,ヨン,ヨン',\n",
       " 'で\\t助詞,接続助詞,*,*,*,*,で,デ,デ',\n",
       " 'い\\t動詞,非自立,*,*,一段,連用形,いる,イ,イ',\n",
       " 'た\\t助動詞,*,*,*,特殊・タ,基本形,た,タ,タ',\n",
       " '。\\t記号,句点,*,*,*,*,。,。,。']"
      ]
     },
     "execution_count": 5,
     "metadata": {},
     "output_type": "execute_result"
    }
   ],
   "source": [
    "[str(w) for w in data]"
   ]
  },
  {
   "cell_type": "code",
   "execution_count": 9,
   "metadata": {},
   "outputs": [],
   "source": [
    "a=data[0]"
   ]
  },
  {
   "cell_type": "code",
   "execution_count": 5,
   "metadata": {
    "scrolled": false
   },
   "outputs": [],
   "source": [
    "from snippets.transform import *"
   ]
  },
  {
   "cell_type": "code",
   "execution_count": 6,
   "metadata": {},
   "outputs": [
    {
     "ename": "NameError",
     "evalue": "name 'JapaneseTextNormalizer' is not defined",
     "traceback": [
      "\u001b[0;31m-------------------------------------------------------\u001b[0m",
      "\u001b[0;31mNameError\u001b[0m             Traceback (most recent call last)",
      "\u001b[0;32m<ipython-input-6-4b1446691726>\u001b[0m in \u001b[0;36m<module>\u001b[0;34m()\u001b[0m\n\u001b[0;32m----> 1\u001b[0;31m \u001b[0mjap_trans\u001b[0m\u001b[0;34m=\u001b[0m\u001b[0mJapaneseTextNormalizer\u001b[0m\u001b[0;34m(\u001b[0m\u001b[0;34m)\u001b[0m\u001b[0;34m\u001b[0m\u001b[0m\n\u001b[0m\u001b[1;32m      2\u001b[0m \u001b[0mtraned\u001b[0m\u001b[0;34m=\u001b[0m\u001b[0mjap_trans\u001b[0m\u001b[0;34m.\u001b[0m\u001b[0mtransform\u001b[0m\u001b[0;34m(\u001b[0m\u001b[0mcorpus\u001b[0m\u001b[0;34m=\u001b[0m\u001b[0mjap\u001b[0m\u001b[0;34m)\u001b[0m\u001b[0;34m\u001b[0m\u001b[0m\n",
      "\u001b[0;31mNameError\u001b[0m: name 'JapaneseTextNormalizer' is not defined"
     ],
     "output_type": "error"
    }
   ],
   "source": [
    "jap_trans=JapaneseTextNormalizer()\n",
    "traned=jap_trans.transform(corpus=jap)"
   ]
  },
  {
   "cell_type": "code",
   "execution_count": 5,
   "metadata": {},
   "outputs": [
    {
     "data": {
      "text/plain": [
       "array([3., 5., 7.])"
      ]
     },
     "execution_count": 5,
     "metadata": {},
     "output_type": "execute_result"
    }
   ],
   "source": [
    "import numpy as np\n",
    "\n",
    "\n",
    "a=[1,2,3]\n",
    "b=[2,3,4]\n",
    "d=np.zeros(3)\n",
    "a=np.array(a)\n",
    "b=np.array(b)\n",
    "c=[d,a,b,d]\n",
    "from functools import  reduce\n",
    "\n",
    "reduce(add,c)"
   ]
  },
  {
   "cell_type": "code",
   "execution_count": 7,
   "metadata": {
    "scrolled": true
   },
   "outputs": [],
   "source": [
    "# word2vec\n",
    "word2vec=GensimVectorizer('./dataset/latest-ja-word2vec-gensim-model/word2vec.gensim.model')"
   ]
  },
  {
   "cell_type": "code",
   "execution_count": 8,
   "metadata": {},
   "outputs": [],
   "source": [
    "sentvec=word2vec.transform(traned)"
   ]
  },
  {
   "cell_type": "code",
   "execution_count": 2,
   "metadata": {},
   "outputs": [],
   "source": [
    "jap = JapaneseCorpusReader(root='./dataset/corpas', encoding='shift_jis')\n",
    "jap_trans = JapaneseTextNormalizer()\n",
    "traned = jap_trans.transform(corpus=jap)\n",
    "model=GensimVectorizer('./dataset/latest-ja-word2vec-gensim-model/word2vec.gensim.model')\n",
    "vecs=model.transform(traned)\n"
   ]
  },
  {
   "cell_type": "code",
   "execution_count": 5,
   "metadata": {
    "scrolled": true
   },
   "outputs": [],
   "source": [
    "# vec2=vecs.copy()"
   ]
  },
  {
   "cell_type": "code",
   "execution_count": 3,
   "metadata": {},
   "outputs": [],
   "source": [
    "vecs=[vec for vec in vecs]"
   ]
  },
  {
   "cell_type": "code",
   "execution_count": 6,
   "metadata": {},
   "outputs": [
    {
     "data": {
      "text/plain": [
       "array([ 0.04665842,  0.06240005,  0.08904613, -0.04003966,  0.0588038 ,\n",
       "        0.03230398,  0.03100826, -0.08072286, -0.09102268, -0.09873834,\n",
       "        0.06709723,  0.02657022, -0.06401249,  0.06854478, -0.11991413,\n",
       "        0.0203349 , -0.15181446,  0.01628551, -0.06633512,  0.03069518,\n",
       "        0.00346872, -0.02377115,  0.01053918, -0.05669406, -0.04211437,\n",
       "       -0.09280998,  0.0072185 ,  0.03742616,  0.0449289 ,  0.02402251,\n",
       "       -0.04321304,  0.0419749 , -0.02368107, -0.05771204, -0.01074457,\n",
       "        0.03834247, -0.00770425,  0.06353041,  0.04824188, -0.09876865,\n",
       "       -0.00092404,  0.09987713,  0.02532976,  0.04575653, -0.01014339,\n",
       "        0.00446079,  0.05385602, -0.08168311, -0.01173535,  0.12506697],\n",
       "      dtype=float32)"
      ]
     },
     "execution_count": 6,
     "metadata": {},
     "output_type": "execute_result"
    }
   ],
   "source": [
    "vecs[]"
   ]
  },
  {
   "cell_type": "code",
   "execution_count": 157,
   "metadata": {
    "scrolled": true
   },
   "outputs": [
    {
     "data": {
      "text/plain": [
       "0"
      ]
     },
     "execution_count": 157,
     "metadata": {},
     "output_type": "execute_result"
    }
   ],
   "source": [
    "len(np.array([]))"
   ]
  },
  {
   "cell_type": "code",
   "execution_count": 7,
   "metadata": {
    "scrolled": true
   },
   "outputs": [
    {
     "name": "stdout",
     "output_type": "stream",
     "text": [
      "None\n"
     ]
    }
   ],
   "source": [
    "a=None\n",
    "a=[]\n",
    "\n",
    "if a ==None or  len(a)==0:\n",
    "    print('None')"
   ]
  },
  {
   "cell_type": "code",
   "execution_count": 8,
   "metadata": {
    "scrolled": true
   },
   "outputs": [],
   "source": [
    "f=list((a,b))"
   ]
  },
  {
   "cell_type": "code",
   "execution_count": 9,
   "metadata": {},
   "outputs": [
    {
     "data": {
      "text/plain": [
       "2"
      ]
     },
     "execution_count": 9,
     "metadata": {},
     "output_type": "execute_result"
    }
   ],
   "source": [
    "len(f)"
   ]
  }
 ],
 "metadata": {
  "kernelspec": {
   "display_name": "Python 3",
   "language": "python",
   "name": "python3"
  },
  "language_info": {
   "codemirror_mode": {
    "name": "ipython",
    "version": 3
   },
   "file_extension": ".py",
   "mimetype": "text/x-python",
   "name": "python",
   "nbconvert_exporter": "python",
   "pygments_lexer": "ipython3",
   "version": "3.6.5"
  },
  "toc": {
   "base_numbering": 1.0,
   "nav_menu": {},
   "number_sections": true,
   "sideBar": true,
   "skip_h1_title": false,
   "title_cell": "Table of Contents",
   "title_sidebar": "Contents",
   "toc_cell": false,
   "toc_position": {},
   "toc_section_display": true,
   "toc_window_display": false
  }
 },
 "nbformat": 4,
 "nbformat_minor": 2
}
