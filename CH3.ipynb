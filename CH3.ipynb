{
 "cells": [
  {
   "cell_type": "markdown",
   "metadata": {},
   "source": [
    "# JapaneseCorpusReaderのテスト"
   ]
  },
  {
   "cell_type": "code",
   "execution_count": 4,
   "metadata": {},
   "outputs": [],
   "source": [
    "from  snippets.reader  import *"
   ]
  },
  {
   "cell_type": "code",
   "execution_count": 5,
   "metadata": {},
   "outputs": [],
   "source": [
    "jap=JapaneseCorpusReader(root='./dataset/corpas',encoding='shift_jis')"
   ]
  },
  {
   "cell_type": "code",
   "execution_count": 6,
   "metadata": {},
   "outputs": [
    {
     "data": {
      "text/plain": [
       "['kokoro.txt']"
      ]
     },
     "execution_count": 6,
     "metadata": {},
     "output_type": "execute_result"
    }
   ],
   "source": [
    "jap.fileids()"
   ]
  },
  {
   "cell_type": "code",
   "execution_count": 7,
   "metadata": {
    "scrolled": true
   },
   "outputs": [],
   "source": [
    "data=jap.sents()[0]"
   ]
  },
  {
   "cell_type": "code",
   "execution_count": 8,
   "metadata": {},
   "outputs": [
    {
     "data": {
      "text/plain": [
       "['私\\t名詞,代名詞,一般,*,*,*,私,ワタシ,ワタシ',\n",
       " '《\\t記号,括弧開,*,*,*,*,《,《,《',\n",
       " 'わたくし\\t名詞,代名詞,一般,*,*,*,わたくし,ワタクシ,ワタクシ',\n",
       " '》\\t記号,括弧閉,*,*,*,*,》,》,》',\n",
       " 'は\\t助詞,係助詞,*,*,*,*,は,ハ,ワ',\n",
       " 'その\\t連体詞,*,*,*,*,*,その,ソノ,ソノ',\n",
       " '人\\t名詞,一般,*,*,*,*,人,ヒト,ヒト',\n",
       " 'を\\t助詞,格助詞,一般,*,*,*,を,ヲ,ヲ',\n",
       " '常に\\t副詞,一般,*,*,*,*,常に,ツネニ,ツネニ',\n",
       " '先生\\t名詞,一般,*,*,*,*,先生,センセイ,センセイ',\n",
       " 'と\\t助詞,格助詞,一般,*,*,*,と,ト,ト',\n",
       " '呼ん\\t動詞,自立,*,*,五段・バ行,連用タ接続,呼ぶ,ヨン,ヨン',\n",
       " 'で\\t助詞,接続助詞,*,*,*,*,で,デ,デ',\n",
       " 'い\\t動詞,非自立,*,*,一段,連用形,いる,イ,イ',\n",
       " 'た\\t助動詞,*,*,*,特殊・タ,基本形,た,タ,タ',\n",
       " '。\\t記号,句点,*,*,*,*,。,。,。']"
      ]
     },
     "execution_count": 8,
     "metadata": {},
     "output_type": "execute_result"
    }
   ],
   "source": [
    "[str(w) for w in data]"
   ]
  },
  {
   "cell_type": "code",
   "execution_count": 9,
   "metadata": {},
   "outputs": [],
   "source": [
    "a=data[0]"
   ]
  },
  {
   "cell_type": "code",
   "execution_count": 10,
   "metadata": {},
   "outputs": [],
   "source": [
    "from snippets.transform import *"
   ]
  },
  {
   "cell_type": "code",
   "execution_count": 11,
   "metadata": {},
   "outputs": [],
   "source": [
    "jap_trans=JapaneseTextNormalizer()\n",
    "traned=jap_trans.transform(corpus=jap)"
   ]
  },
  {
   "cell_type": "code",
   "execution_count": 12,
   "metadata": {},
   "outputs": [
    {
     "data": {
      "text/plain": [
       "['私', 'わたくし', 'その', '人', '常に', '先生', '呼ぶ', 'いる']"
      ]
     },
     "execution_count": 12,
     "metadata": {},
     "output_type": "execute_result"
    }
   ],
   "source": [
    "traned[0]"
   ]
  },
  {
   "cell_type": "code",
   "execution_count": 16,
   "metadata": {},
   "outputs": [],
   "source": [
    "from snippets.vectorization import freq_vectorize,one_hot_vectorize\n",
    "vec=map(freq_vectorize,traned)"
   ]
  },
  {
   "cell_type": "code",
   "execution_count": 17,
   "metadata": {},
   "outputs": [
    {
     "data": {
      "text/plain": [
       "defaultdict(int,\n",
       "            {'私': 1,\n",
       "             'わたくし': 1,\n",
       "             'その': 1,\n",
       "             '人': 1,\n",
       "             '常に': 1,\n",
       "             '先生': 1,\n",
       "             '呼ぶ': 1,\n",
       "             'いる': 1})"
      ]
     },
     "execution_count": 17,
     "metadata": {},
     "output_type": "execute_result"
    }
   ],
   "source": [
    "list(vec)[0]"
   ]
  },
  {
   "cell_type": "code",
   "execution_count": 18,
   "metadata": {},
   "outputs": [],
   "source": [
    "oh_vec=map(one_hot_vectorize,traned)"
   ]
  },
  {
   "cell_type": "code",
   "execution_count": 19,
   "metadata": {},
   "outputs": [
    {
     "data": {
      "text/plain": [
       "{'私': True,\n",
       " 'わたくし': True,\n",
       " 'その': True,\n",
       " '人': True,\n",
       " '常に': True,\n",
       " '先生': True,\n",
       " '呼ぶ': True,\n",
       " 'いる': True}"
      ]
     },
     "execution_count": 19,
     "metadata": {},
     "output_type": "execute_result"
    }
   ],
   "source": [
    "list(oh_vec)[0]"
   ]
  },
  {
   "cell_type": "code",
   "execution_count": null,
   "metadata": {},
   "outputs": [],
   "source": []
  }
 ],
 "metadata": {
  "kernelspec": {
   "display_name": "Python 3",
   "language": "python",
   "name": "python3"
  },
  "language_info": {
   "codemirror_mode": {
    "name": "ipython",
    "version": 3
   },
   "file_extension": ".py",
   "mimetype": "text/x-python",
   "name": "python",
   "nbconvert_exporter": "python",
   "pygments_lexer": "ipython3",
   "version": "3.6.5"
  },
  "toc": {
   "base_numbering": 1,
   "nav_menu": {},
   "number_sections": true,
   "sideBar": true,
   "skip_h1_title": false,
   "title_cell": "Table of Contents",
   "title_sidebar": "Contents",
   "toc_cell": false,
   "toc_position": {},
   "toc_section_display": true,
   "toc_window_display": false
  }
 },
 "nbformat": 4,
 "nbformat_minor": 2
}
