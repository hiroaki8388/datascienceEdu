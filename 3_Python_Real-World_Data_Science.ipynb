{
 "cells": [
  {
   "cell_type": "markdown",
   "metadata": {},
   "source": [
    "# classification"
   ]
  },
  {
   "cell_type": "code",
   "execution_count": 12,
   "metadata": {
    "scrolled": true
   },
   "outputs": [],
   "source": [
    "# irisデータを分類\n",
    "from sklearn.datasets import load_iris\n",
    "\n",
    "# データの読み込み\n",
    "dataset=load_iris()\n",
    "X=dataset.data\n",
    "y=dataset.target\n",
    "\n",
    "# print(dataset.DESCR)\n"
   ]
  },
  {
   "cell_type": "code",
   "execution_count": 17,
   "metadata": {},
   "outputs": [],
   "source": [
    "from collections import defaultdict\n",
    "from operator import itemgetter\n",
    "\n",
    "def train_feature_value(X,y_true,feature_index,value):\n",
    "    class_counts=defaultdict(int)\n",
    "    \n",
    "    for sample,y in zip(X,y_true):\n",
    "        if sample[feature_index]==value:\n",
    "            class_counts[y]+=1\n",
    "        sorted_class_counts=sorted(class_counts.items(),\n",
    "                                  key=itemgetter(1),\n",
    "                                  reverse=True)    \n",
    "        most_frequent_class=sorted_class_counts[0][0]\n",
    "        \n",
    "        incorrect_predictions=[\n",
    "            class_count for class_value,class_count \n",
    "            in class_counts.items() \n",
    "            if class_value!=most_frequent_class\n",
    "        ]\n",
    "        \n",
    "        error=sum(incorrect_predictions)\n",
    "        \n",
    "        return most_frequent_class,error"
   ]
  },
  {
   "cell_type": "code",
   "execution_count": 21,
   "metadata": {},
   "outputs": [],
   "source": [
    "\n",
    "def train_on_feature(X,y_true,feature_index):\n",
    "    values=set(X[:,feature_index])\n",
    "    predictors={}\n",
    "    errors=[]\n",
    "    \n",
    "    for current_value in values:\n",
    "        most_frequent_class,error=train_feature_value(\n",
    "        X,y_true,feature_index,current_value)\n",
    "        \n",
    "        predictors[current_value]=most_frequent_class\n",
    "        errors.append(error)\n",
    "        \n",
    "        total_error=sum(errors)\n",
    "        return predictors,total_error"
   ]
  },
  {
   "cell_type": "code",
   "execution_count": null,
   "metadata": {},
   "outputs": [],
   "source": []
  }
 ],
 "metadata": {
  "kernelspec": {
   "display_name": "Python 3",
   "language": "python",
   "name": "python3"
  },
  "language_info": {
   "codemirror_mode": {
    "name": "ipython",
    "version": 3
   },
   "file_extension": ".py",
   "mimetype": "text/x-python",
   "name": "python",
   "nbconvert_exporter": "python",
   "pygments_lexer": "ipython3",
   "version": "3.6.5"
  },
  "varInspector": {
   "cols": {
    "lenName": 16,
    "lenType": 16,
    "lenVar": 40
   },
   "kernels_config": {
    "python": {
     "delete_cmd_postfix": "",
     "delete_cmd_prefix": "del ",
     "library": "var_list.py",
     "varRefreshCmd": "print(var_dic_list())"
    },
    "r": {
     "delete_cmd_postfix": ") ",
     "delete_cmd_prefix": "rm(",
     "library": "var_list.r",
     "varRefreshCmd": "cat(var_dic_list()) "
    }
   },
   "types_to_exclude": [
    "module",
    "function",
    "builtin_function_or_method",
    "instance",
    "_Feature"
   ],
   "window_display": false
  }
 },
 "nbformat": 4,
 "nbformat_minor": 2
}
