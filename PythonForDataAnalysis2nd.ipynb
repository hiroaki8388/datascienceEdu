{
 "cells": [
  {
   "cell_type": "markdown",
   "metadata": {},
   "source": [
    "## Chapter2"
   ]
  },
  {
   "cell_type": "code",
   "execution_count": null,
   "metadata": {},
   "outputs": [],
   "source": [
    "# 辞書型をこのようにも作れる\n",
    "# rangeはiteratorを返す\n",
    "# forはListから一つずつとりだせる\n",
    "from numpy.random import randn\n",
    "data = {i : randn() for i in range(7)}\n",
    "data"
   ]
  },
  {
   "cell_type": "code",
   "execution_count": 1,
   "metadata": {},
   "outputs": [],
   "source": [
    "import numpy as np\n",
    "# 正規表現で検索\n",
    "np.*load*?\n"
   ]
  },
  {
   "cell_type": "code",
   "execution_count": 2,
   "metadata": {},
   "outputs": [
    {
     "data": {
      "text/plain": [
       "'/Users/hiroaki/Develop/project/DIUnit/pycoon'"
      ]
     },
     "execution_count": 2,
     "metadata": {},
     "output_type": "execute_result"
    }
   ],
   "source": [
    "# マジックコマンドで取得した値を代入できる\n",
    "foo = %pwd\n",
    "foo"
   ]
  },
  {
   "cell_type": "markdown",
   "metadata": {},
   "source": [
    "DYNAMIC REFERENCES, STRONG TYPES\n",
    "In contrast with many compiled languages, such as Java and C++, object references in Python have no type associated with them. There is no problem with the following:\n",
    "\n",
    "In [9]: a = 5\n",
    "\n",
    "In [10]: type(a)\n",
    "Out[10]: int\n",
    "\n",
    "In [11]: a = 'foo'\n",
    "\n",
    "In [12]: type(a)\n",
    "Out[12]: str\n",
    "Variables are names for objects within a particular namespace; the type information is stored in the object itself. Some observers might hastily conclude that Python is not a “typed language”. This is not true; consider this example:\n",
    "\n",
    "In [13]: '5' + 5\n",
    "---------------------------------------------------------------------------\n",
    "TypeError                                 Traceback (most recent call last)\n",
    "<ipython-input-13-f9dbf5f0b234> in <module>()\n",
    "----> 1 '5' + 5\n",
    "TypeError: must be str, not int\n",
    "In some languages, such as Visual Basic, the string '5' might get implicitly converted (or casted) to an integer, thus yielding 10. Yet in other languages, such as JavaScript, the integer 5 might be casted to a string, yielding the concatenated string '55'. In this regard Python is considered a strongly-typed language, which means that every object has a specific type (or class), and implicit conversions will occur only in certain obvious circumstances, such as the following:\n",
    "\n",
    "In [14]: a = 4.5\n",
    "\n",
    "In [15]: b = 2\n",
    "\n",
    "# String formatting, to be visited later\n",
    "In [16]: print('a is {0}, b is {1}'.format(type(a), type(b)))\n",
    "a is <class 'float'>, b is <class 'int'>\n",
    "\n",
    "In [17]: a / b\n",
    "Out[17]: 2.25\n",
    "Knowing the type of an object is important, and it’s useful to be able to write functions that can handle many different kinds of input. You can check that an object is an instance of a particular type using the isinstance function:\n",
    "\n",
    "In [18]: a = 5\n",
    "\n",
    "In [19]: isinstance(a, int)\n",
    "Out[19]: True\n",
    "isinstance can accept a tuple of types if you want to check that an object’s type is among those present in the tuple:\n",
    "\n",
    "In [20]: a = 5; b = 4.5\n",
    "\n",
    "In [21]: isinstance(a, (int, float))\n",
    "Out[21]: True\n",
    "\n",
    "In [22]: isinstance(b, (int, float))\n",
    "Out[22]: True"
   ]
  },
  {
   "cell_type": "markdown",
   "metadata": {},
   "source": [
    "“DUCK” TYPING\n",
    "Often you may not care about the type of an object but rather only whether it has certain methods or behavior. For example, you can verify that an object is iterable if it implemented the iterator protocol. For many objects, this means it has a __iter__ “magic method”, though an alternative and better way to check is to try using the iter function:\n",
    "\n",
    "def isiterable(obj):\n",
    "    try:\n",
    "        iter(obj)\n",
    "        return True\n",
    "    except TypeError: # not iterable\n",
    "        return False\n",
    "This function would return True for strings as well as most Python collection types:\n",
    "\n",
    "In [24]: isiterable('a string')\n",
    "Out[24]: True\n",
    "\n",
    "In [25]: isiterable([1, 2, 3])\n",
    "Out[25]: True\n",
    "\n",
    "In [26]: isiterable(5)\n",
    "Out[26]: False\n",
    "A place where I use this functionality all the time is to write functions that can accept multiple kinds of input. A common case is writing a function that can accept any kind of sequence (list, tuple, ndarray) or even an iterator. You can first check if the object is a list (or a NumPy array) and, if it is not, convert it to be one:\n",
    "\n",
    "if not isinstance(x, list) and isiterable(x):\n",
    "    x = list(x)"
   ]
  },
  {
   "cell_type": "code",
   "execution_count": 17,
   "metadata": {},
   "outputs": [
    {
     "data": {
      "text/plain": [
       "True"
      ]
     },
     "execution_count": 17,
     "metadata": {},
     "output_type": "execute_result"
    }
   ],
   "source": [
    "a=1\n",
    "b=2\n",
    "c=b\n",
    "\n",
    "# 同じオブジェクトではない場合、False\n",
    "a is b\n",
    "\n",
    "# True\n",
    "a is not c\n",
    "\n",
    "# 同じならばTrue\n",
    "b is c\n"
   ]
  },
  {
   "cell_type": "code",
   "execution_count": 20,
   "metadata": {},
   "outputs": [
    {
     "data": {
      "text/plain": [
       "'4.56 Argentine Pesos are worth US$2'"
      ]
     },
     "execution_count": 20,
     "metadata": {},
     "output_type": "execute_result"
    }
   ],
   "source": [
    "# String objects have a format method which can be used to substitute formatted arguments into the string, producing a new string.\n",
    "template = '{0:.2f} {1:s} are worth US${2:d}'\n",
    "template.format(4.5560, 'Argentine Pesos', 1)\n",
    "# Str型はimmutable。だが、formatを使う事で、動的に新しいStrが作れる\n",
    "template.format(4.5560, 'Argentine Pesos', 2)"
   ]
  },
  {
   "cell_type": "code",
   "execution_count": 24,
   "metadata": {},
   "outputs": [
    {
     "name": "stdout",
     "output_type": "stream",
     "text": [
      "I found something!\n"
     ]
    }
   ],
   "source": [
    " a = [1, 2, 3]\n",
    "if a:\n",
    "     print('I found something!')"
   ]
  },
  {
   "cell_type": "code",
   "execution_count": 23,
   "metadata": {},
   "outputs": [
    {
     "name": "stdout",
     "output_type": "stream",
     "text": [
      "I do not found something!\n"
     ]
    }
   ],
   "source": [
    "# 中身が存在しないとFalseになる\n",
    "b = []\n",
    "if not b:\n",
    "     print('I do not found something!')"
   ]
  },
  {
   "cell_type": "code",
   "execution_count": 42,
   "metadata": {},
   "outputs": [
    {
     "name": "stdout",
     "output_type": "stream",
     "text": [
      "Once deleted, variables cannot be recovered. Proceed (y/[n])? y\n"
     ]
    }
   ],
   "source": [
    "# 変数のリセット\n",
    "%reset"
   ]
  },
  {
   "cell_type": "markdown",
   "metadata": {},
   "source": [
    "![](スクリーンショット 2017-05-06 18.58.11.png)"
   ]
  },
  {
   "cell_type": "markdown",
   "metadata": {},
   "source": [
    "![](スクリーンショット 2017-05-06 19.02.40.png)"
   ]
  },
  {
   "cell_type": "markdown",
   "metadata": {},
   "source": [
    "List\n",
    "In contrast with tuples, lists are variable-length and their contents can be modified in place. They can be defined using square brackets [] or using the list type function:\n",
    "\n"
   ]
  },
  {
   "cell_type": "code",
   "execution_count": null,
   "metadata": {},
   "outputs": [],
   "source": []
  },
  {
   "cell_type": "code",
   "execution_count": null,
   "metadata": {},
   "outputs": [],
   "source": [
    "# Chapter 3"
   ]
  },
  {
   "cell_type": "markdown",
   "metadata": {},
   "source": [
    "Tuple\n",
    "A tuple is a one-dimensional, fixed-length, immutable sequence of Python objects"
   ]
  },
  {
   "cell_type": "code",
   "execution_count": 25,
   "metadata": {},
   "outputs": [
    {
     "data": {
      "text/plain": [
       "3"
      ]
     },
     "execution_count": 25,
     "metadata": {},
     "output_type": "execute_result"
    }
   ],
   "source": [
    "# UNPACKING TUPLES\n",
    "# If you try to assign to a tuple-like expression of variables, Python will attempt to unpack the value on the right-hand side of the equals sign:\n",
    "tup=(3,4)\n",
    "a,b=tup\n",
    "a"
   ]
  },
  {
   "cell_type": "code",
   "execution_count": 28,
   "metadata": {},
   "outputs": [
    {
     "name": "stdout",
     "output_type": "stream",
     "text": [
      "a=1,b=2,c=3\n",
      "a=4,b=5,c=6\n",
      "a=7,b=8,c=9\n"
     ]
    }
   ],
   "source": [
    "# よってこのような事も可能\n",
    "seq = [(1, 2, 3), (4, 5, 6), (7, 8, 9)]\n",
    "for a,b,c in seq:\n",
    "    print('a={0},b={1},c={2}'.format(a,b,c))"
   ]
  },
  {
   "cell_type": "code",
   "execution_count": 39,
   "metadata": {},
   "outputs": [
    {
     "data": {
      "text/plain": [
       "(1, 2)"
      ]
     },
     "execution_count": 39,
     "metadata": {},
     "output_type": "execute_result"
    }
   ],
   "source": [
    "# 残りを捨てたいとき\n",
    "values = 1, 2, 3, 4, 5\n",
    "a,b,*rest=values\n",
    "# または\n",
    "a,b,*_=values\n",
    "a,b"
   ]
  },
  {
   "cell_type": "code",
   "execution_count": 59,
   "metadata": {},
   "outputs": [
    {
     "name": "stdout",
     "output_type": "stream",
     "text": [
      "[1, 2, 'a']\n",
      "[1, 2]\n",
      "[1, 2, 'c']\n"
     ]
    }
   ],
   "source": [
    "list=[1,2]\n",
    "# 新しいリストが作成される(新しいオブジェクト)\n",
    "list2=list+['a']\n",
    "print(list2)\n",
    "print(list)\n",
    "# 既存のリストを拡張する(既存のオブジェクトを使い回す)\n",
    "# よって、listに連続的に拡張する際には、こちらの方が速い\n",
    "list.extend('c')\n",
    "print(list)"
   ]
  },
  {
   "cell_type": "code",
   "execution_count": 65,
   "metadata": {},
   "outputs": [
    {
     "data": {
      "text/plain": [
       "[0.16175571073085082,\n",
       " 0.27722739791287698,\n",
       " 0.46464899886778988,\n",
       " 0.55563841172664663,\n",
       " 0.93569476433701182]"
      ]
     },
     "execution_count": 65,
     "metadata": {},
     "output_type": "execute_result"
    }
   ],
   "source": [
    "import numpy as np\n",
    "list3=[i for i in np.random.rand(5)]\n",
    "# list3が順番に並べ変わる\n",
    "list3.sort()\n",
    "list3"
   ]
  },
  {
   "cell_type": "code",
   "execution_count": 66,
   "metadata": {},
   "outputs": [
    {
     "data": {
      "text/plain": [
       "['adaa', 'gaaeugivea', 'afafafrragvaegbaegaee']"
      ]
     },
     "execution_count": 66,
     "metadata": {},
     "output_type": "execute_result"
    }
   ],
   "source": [
    "list4=['afafafrragvaegbaegaee','adaa','gaaeugivea']\n",
    "# ある関数の返り値を並び替えのキーとする事も可能\n",
    "list4.sort(key=len)\n",
    "list4"
   ]
  },
  {
   "cell_type": "markdown",
   "metadata": {},
   "source": [
    "SLICING\n",
    "You can select sections of list-like types (arrays, tuples, NumPy arrays, pandas Series) \n",
    "by using slice notation, which in its basic form consists of start:stop passed to the indexing operator []:"
   ]
  },
  {
   "cell_type": "code",
   "execution_count": 72,
   "metadata": {},
   "outputs": [
    {
     "data": {
      "text/plain": [
       "[7]"
      ]
     },
     "execution_count": 72,
     "metadata": {},
     "output_type": "execute_result"
    }
   ],
   "source": [
    "seq = [7, 2, 3, 7, 5, 6, 0, 1]\n",
    "# While element at the start index is included, \n",
    "# the stop index is not included, so that the number of elements in the result is stop - start.\n",
    "seq[-4:]    \n",
    "seq[3:4]"
   ]
  },
  {
   "cell_type": "code",
   "execution_count": 68,
   "metadata": {},
   "outputs": [
    {
     "data": {
      "text/plain": [
       "[3, 7, 5, 6]"
      ]
     },
     "execution_count": 68,
     "metadata": {},
     "output_type": "execute_result"
    }
   ],
   "source": [
    " seq[-6:-2]"
   ]
  },
  {
   "cell_type": "code",
   "execution_count": 70,
   "metadata": {},
   "outputs": [
    {
     "data": {
      "text/plain": [
       "1"
      ]
     },
     "execution_count": 70,
     "metadata": {},
     "output_type": "execute_result"
    }
   ],
   "source": [
    "seq[-1]"
   ]
  },
  {
   "cell_type": "code",
   "execution_count": 73,
   "metadata": {},
   "outputs": [
    {
     "data": {
      "text/plain": [
       "[7, 3, 5, 0]"
      ]
     },
     "execution_count": 73,
     "metadata": {},
     "output_type": "execute_result"
    }
   ],
   "source": [
    "# 戦闘から一個飛び\n",
    "seq[::2]"
   ]
  },
  {
   "cell_type": "code",
   "execution_count": 74,
   "metadata": {},
   "outputs": [
    {
     "data": {
      "text/plain": [
       "[1, 0, 6, 5, 7, 3, 2, 7]"
      ]
     },
     "execution_count": 74,
     "metadata": {},
     "output_type": "execute_result"
    }
   ],
   "source": [
    "# リバース\n",
    "seq[::-1]"
   ]
  },
  {
   "cell_type": "code",
   "execution_count": null,
   "metadata": {},
   "outputs": [],
   "source": []
  },
  {
   "cell_type": "markdown",
   "metadata": {},
   "source": [
    "![](pyda_1302.png)"
   ]
  },
  {
   "cell_type": "code",
   "execution_count": 80,
   "metadata": {},
   "outputs": [
    {
     "data": {
      "text/plain": [
       "{0: 'foo', 1: 'bar', 2: 'baz'}"
      ]
     },
     "execution_count": 80,
     "metadata": {},
     "output_type": "execute_result"
    }
   ],
   "source": [
    "# Python has a built-in function enumerate which returns a sequence of (i, value) tuples:\n",
    "\n",
    "# dictとenumerateを組み合わせる事で、簡単に\\辞書を作成\n",
    "some_list = ['foo', 'bar', 'baz']\n",
    "mapping= dict((i,j) for i,j in enumerate(some_list))\n",
    "mapping"
   ]
  },
  {
   "cell_type": "code",
   "execution_count": 81,
   "metadata": {},
   "outputs": [
    {
     "data": {
      "text/plain": [
       "[' ', 'a', 'c', 'e', 'e', 'h', 'o', 'r', 'r', 's']"
      ]
     },
     "execution_count": 81,
     "metadata": {},
     "output_type": "execute_result"
    }
   ],
   "source": [
    "# どのようなシーケンスからも、ソートした新しいリストを返す\n",
    "sorted('horse race')"
   ]
  },
  {
   "cell_type": "code",
   "execution_count": 83,
   "metadata": {},
   "outputs": [
    {
     "data": {
      "text/plain": [
       "{' ', 'e', 'g', 'h', 'i', 'j', 'm', 'n', 'o', 'r', 's', 't', 'u'}"
      ]
     },
     "execution_count": 83,
     "metadata": {},
     "output_type": "execute_result"
    }
   ],
   "source": [
    "# setと組み合わせる事で、重複を除いてソートできる\n",
    "sorted(set('this is just some string'))"
   ]
  },
  {
   "cell_type": "code",
   "execution_count": 103,
   "metadata": {},
   "outputs": [
    {
     "name": "stdout",
     "output_type": "stream",
     "text": [
      "('foo', 1)\n",
      "('bar', 2)\n"
     ]
    }
   ],
   "source": [
    "# ２つのlistをタプルの組に変換\n",
    "# zipは短いtupleにあわされる\n",
    "seq1 = ['foo', 'bar', 'baz']\n",
    "seq2=[1,2]    \n",
    "zipped=zip(seq1,seq2)\n",
    "for i in zipped:\n",
    "    print(i)"
   ]
  },
  {
   "cell_type": "code",
   "execution_count": 104,
   "metadata": {},
   "outputs": [
    {
     "name": "stdout",
     "output_type": "stream",
     "text": [
      "0,foo,1\n",
      "1,bar,2\n"
     ]
    }
   ],
   "source": [
    "# enumerateとzipを組み合わせる\n",
    "for i,(j,k) in enumerate(zip(seq1,seq2)):\n",
    "    print ('{0},{1},{2}'.format(i,j,k))"
   ]
  },
  {
   "cell_type": "code",
   "execution_count": 107,
   "metadata": {},
   "outputs": [
    {
     "data": {
      "text/plain": [
       "(('Nolan', 'Roger', 'Schilling'), ('Ryan', 'Clemens', 'Curt'))"
      ]
     },
     "execution_count": 107,
     "metadata": {},
     "output_type": "execute_result"
    }
   ],
   "source": [
    "# 縦横の変換\n",
    "pitchers = [('Nolan', 'Ryan'), ('Roger', 'Clemens'),('Schilling', 'Curt')]\n",
    "first,last=zip(*pitchers)\n",
    "first,last\n",
    "# We’ll look in more detail at the use of * in a function call. It is equivalent to the following:\n",
    "# zip(seq[0], seq[1], ..., seq[len(seq) - 1])"
   ]
  },
  {
   "cell_type": "code",
   "execution_count": 108,
   "metadata": {},
   "outputs": [
    {
     "data": {
      "text/plain": [
       "{1, 2, 3}"
      ]
     },
     "execution_count": 108,
     "metadata": {},
     "output_type": "execute_result"
    }
   ],
   "source": [
    "# Set\n",
    "# A set is an unordered collection of unique elements\n",
    "set([1,2,3,3,3])"
   ]
  },
  {
   "cell_type": "code",
   "execution_count": 110,
   "metadata": {},
   "outputs": [],
   "source": [
    "a = {1, 2, 3, 4, 5}\n",
    "b = {3, 4, 5, 6, 7, 8}    "
   ]
  },
  {
   "cell_type": "code",
   "execution_count": 111,
   "metadata": {},
   "outputs": [
    {
     "data": {
      "text/plain": [
       "{3, 4, 5}"
      ]
     },
     "execution_count": 111,
     "metadata": {},
     "output_type": "execute_result"
    }
   ],
   "source": [
    "a&b"
   ]
  },
  {
   "cell_type": "code",
   "execution_count": 112,
   "metadata": {},
   "outputs": [
    {
     "data": {
      "text/plain": [
       "{1, 2, 3, 4, 5, 6, 7, 8}"
      ]
     },
     "execution_count": 112,
     "metadata": {},
     "output_type": "execute_result"
    }
   ],
   "source": [
    "a | b"
   ]
  },
  {
   "cell_type": "code",
   "execution_count": 113,
   "metadata": {},
   "outputs": [
    {
     "data": {
      "text/plain": [
       "{1, 2, 6, 7, 8}"
      ]
     },
     "execution_count": 113,
     "metadata": {},
     "output_type": "execute_result"
    }
   ],
   "source": [
    "a^b # xor"
   ]
  },
  {
   "cell_type": "code",
   "execution_count": 115,
   "metadata": {},
   "outputs": [
    {
     "data": {
      "text/plain": [
       "{1, 2}"
      ]
     },
     "execution_count": 115,
     "metadata": {},
     "output_type": "execute_result"
    }
   ],
   "source": [
    "a-b"
   ]
  },
  {
   "cell_type": "code",
   "execution_count": 117,
   "metadata": {},
   "outputs": [
    {
     "data": {
      "text/plain": [
       "{1, 2, 3, 4, 5, 6, 7, 8}"
      ]
     },
     "execution_count": 117,
     "metadata": {},
     "output_type": "execute_result"
    }
   ],
   "source": [
    "c=a.copy()\n",
    "# =を使う事d、左の集合に結果が突っ込まれる\n",
    "c|=b\n",
    "c"
   ]
  },
  {
   "cell_type": "markdown",
   "metadata": {},
   "source": [
    "listの作り方\n",
    "[expr for val in collection if condition]"
   ]
  },
  {
   "cell_type": "code",
   "execution_count": null,
   "metadata": {},
   "outputs": [],
   "source": [
    "上は以下と等しい\n",
    "result = []\n",
    "for val in collection:\n",
    "    if condition:\n",
    "        result.append(expr)"
   ]
  },
  {
   "cell_type": "code",
   "execution_count": 118,
   "metadata": {},
   "outputs": [
    {
     "data": {
      "text/plain": [
       "['BAT', 'CAR', 'DOVE', 'PYTHON']"
      ]
     },
     "execution_count": 118,
     "metadata": {},
     "output_type": "execute_result"
    }
   ],
   "source": [
    "strings = ['a', 'as', 'bat', 'car', 'dove', 'python']\n",
    "[x.upper() for x in strings if len(x)>2]    "
   ]
  },
  {
   "cell_type": "code",
   "execution_count": null,
   "metadata": {},
   "outputs": [],
   "source": [
    "Dictonary\n",
    "dict_comp = {key-expr : value-expr for value in collection\n",
    "             if condition}"
   ]
  },
  {
   "cell_type": "code",
   "execution_count": null,
   "metadata": {},
   "outputs": [],
   "source": [
    "Set\n",
    "set_comp = {expr for value in collection if condition}"
   ]
  },
  {
   "cell_type": "code",
   "execution_count": 120,
   "metadata": {},
   "outputs": [
    {
     "data": {
      "text/plain": [
       "['Jefferson', 'Wesley', 'Steven', 'Jennifer', 'Stephanie']"
      ]
     },
     "execution_count": 120,
     "metadata": {},
     "output_type": "execute_result"
    }
   ],
   "source": [
    "# for を複数つなげる\n",
    "all_data = [['Tom', 'Billy', 'Jefferson', 'Andrew', 'Wesley', 'Steven', 'Joe'],\n",
    "            ['Susie', 'Casey', 'Jill', 'Ana', 'Eva', 'Jennifer', 'Stephanie']]\n",
    "\n",
    "# eが２つ以上存在する名前を抽出\n",
    "[name for names in all_data for name in names if name.count('e')>=2]"
   ]
  },
  {
   "cell_type": "code",
   "execution_count": 122,
   "metadata": {},
   "outputs": [
    {
     "data": {
      "text/plain": [
       "[1, 2, 3, 4, 5, 6, 7, 8, 9]"
      ]
     },
     "execution_count": 122,
     "metadata": {},
     "output_type": "execute_result"
    }
   ],
   "source": [
    "# flatten\n",
    "some_tuples = [(1, 2, 3), (4, 5, 6), (7, 8, 9)]\n",
    "[ val for vals  in some_tuples for val in vals]\n"
   ]
  },
  {
   "cell_type": "code",
   "execution_count": 126,
   "metadata": {},
   "outputs": [
    {
     "data": {
      "text/plain": [
       "[1]"
      ]
     },
     "execution_count": 126,
     "metadata": {},
     "output_type": "execute_result"
    }
   ],
   "source": [
    "# Assigning global variables within a function is possible, but those variables must be declared as global using the global keyword:\n",
    "\n",
    "def test():\n",
    "    global a\n",
    "    a=[1]\n",
    "\n",
    "test()    \n",
    "a\n",
    "# I generally discourage people from using the global keyword frequently. \n",
    "# Typically global variables are used to store some kind of state in a system. If you find yourself using a lot of them,\n",
    "# it’s probably a sign that some object-oriented programming (using classes) is in order."
   ]
  },
  {
   "cell_type": "code",
   "execution_count": 129,
   "metadata": {},
   "outputs": [],
   "source": [
    "# . If you think about tuple packing and unpacking from earlier in this chapter, you may realize that what’s happening here is that the function is actually just returning one object, namely a tuple,\n",
    "def test2():\n",
    "    return a,b\n",
    "# 返り値は常にひとつ（上のは一つのtuple）"
   ]
  },
  {
   "cell_type": "code",
   "execution_count": 130,
   "metadata": {},
   "outputs": [
    {
     "data": {
      "text/plain": [
       "[1, 4, 9]"
      ]
     },
     "execution_count": 130,
     "metadata": {},
     "output_type": "execute_result"
    }
   ],
   "source": [
    "# 関数もオブジェクトの一つなので、引数として、別の関数の中で使用できる\n",
    "def edit(list,f):\n",
    "    return [f(x) for x in list]\n",
    "\n",
    "list=[1,2,3]\n",
    "edit(list,lambda x:x**2)"
   ]
  },
  {
   "cell_type": "code",
   "execution_count": 132,
   "metadata": {},
   "outputs": [],
   "source": [
    "# 関数の引数とデフォルト値は*argと**kwargsからアクセスできる\n",
    "def g(x, y, z=1):\n",
    "    return (x + y) / z"
   ]
  },
  {
   "cell_type": "code",
   "execution_count": 136,
   "metadata": {},
   "outputs": [
    {
     "name": "stdout",
     "output_type": "stream",
     "text": [
      "args is (2, 3)\n",
      "kwargs is {'z': 5}\n",
      "Hello! Now I'm going to call <function g at 0x7f2a0c173d08>\n"
     ]
    },
    {
     "data": {
      "text/plain": [
       "1.0"
      ]
     },
     "execution_count": 136,
     "metadata": {},
     "output_type": "execute_result"
    }
   ],
   "source": [
    "# 関数とその関数の引数を別々に引数として渡せる\n",
    "def say_hello_then_call_f(f, *args, **kwargs):\n",
    "    print ('args is', args)\n",
    "    print ('kwargs is', kwargs)\n",
    "    print(\"Hello! Now I'm going to call %s\" % f)\n",
    "    return f(*args, **kwargs)\n",
    "\n",
    "say_hello_then_call_f(g,2,3,z=5)\n"
   ]
  },
  {
   "cell_type": "code",
   "execution_count": 138,
   "metadata": {},
   "outputs": [
    {
     "data": {
      "text/plain": [
       "6.0"
      ]
     },
     "execution_count": 138,
     "metadata": {},
     "output_type": "execute_result"
    }
   ],
   "source": [
    "# カリー化\n",
    "curry_f=lambda x:g(5,x)\n",
    "curry_f(1)"
   ]
  },
  {
   "cell_type": "code",
   "execution_count": 141,
   "metadata": {},
   "outputs": [
    {
     "name": "stdout",
     "output_type": "stream",
     "text": [
      "0\n",
      "1\n",
      "4\n",
      "9\n",
      "16\n",
      "25\n",
      "36\n",
      "49\n",
      "64\n",
      "81\n"
     ]
    }
   ],
   "source": [
    "# generator(新しいiterble object生成器を構成する)\n",
    "\n",
    "def gene(n=10):\n",
    "    for i in range(n):\n",
    "        yield i**2\n",
    "\n",
    "ge=gene()\n",
    "\n",
    "for i in ge:\n",
    "    print(i)\n",
    "        "
   ]
  },
  {
   "cell_type": "code",
   "execution_count": 142,
   "metadata": {},
   "outputs": [],
   "source": [
    "# amoutをcoinsで両替\n",
    "def make_change(amount, coins=[1, 5, 10, 25], hand=None):\n",
    "    hand = [] if hand is None else hand\n",
    "    if amount == 0:\n",
    "        yield hand\n",
    "    for coin in coins:\n",
    "        # ensures we don't give too much change, and combinations are unique\n",
    "        if coin > amount or (len(hand) > 0 and hand[-1] < coin):\n",
    "            continue\n",
    "\n",
    "        for result in make_change(amount - coin, coins=coins,\n",
    "                                  hand=hand + [coin]):\n",
    "            yield result"
   ]
  },
  {
   "cell_type": "code",
   "execution_count": 147,
   "metadata": {},
   "outputs": [
    {
     "name": "stdout",
     "output_type": "stream",
     "text": [
      "[10, 10, 10, 10, 10, 10, 10, 10, 10, 10]\n",
      "[50, 10, 10, 10, 10, 10]\n",
      "[50, 50]\n",
      "[100]\n"
     ]
    }
   ],
   "source": [
    "for i in make_change(amount=100,coins=[10,50,100]):\n",
    "    print(i)"
   ]
  },
  {
   "cell_type": "code",
   "execution_count": 175,
   "metadata": {},
   "outputs": [
    {
     "name": "stdout",
     "output_type": "stream",
     "text": [
      "A ('Alan', 'Adam')\n",
      "W ('Wes', 'Will')\n",
      "A ('Albert',)\n",
      "S ('Steven',)\n"
     ]
    }
   ],
   "source": [
    "# ITERTOOLS MODULE\n",
    "import itertools\n",
    "# 頭文字でgroupby\n",
    "names = ['Alan', 'Adam', 'Wes', 'Will', 'Albert', 'Steven']\n",
    "for  letter , name in itertools.groupby(names,lambda x:x[0]):\n",
    "    print(letter,tuple(name))"
   ]
  },
  {
   "attachments": {
    "%E3%82%B9%E3%82%AF%E3%83%AA%E3%83%BC%E3%83%B3%E3%82%B7%E3%83%A7%E3%83%83%E3%83%88%202017-05-06%2022.50.04.png": {
     "image/png": "[encoded data removed]"
    }
   },
   "cell_type": "markdown",
   "metadata": {},
   "source": [
    "![%E3%82%B9%E3%82%AF%E3%83%AA%E3%83%BC%E3%83%B3%E3%82%B7%E3%83%A7%E3%83%83%E3%83%88%202017-05-06%2022.50.04.png](attachment:%E3%82%B9%E3%82%AF%E3%83%AA%E3%83%BC%E3%83%B3%E3%82%B7%E3%83%A7%E3%83%83%E3%83%88%202017-05-06%2022.50.04.png)"
   ]
  },
  {
   "cell_type": "markdown",
   "metadata": {},
   "source": [
    "   # Chapter 4"
   ]
  },
  {
   "cell_type": "code",
   "execution_count": null,
   "metadata": {},
   "outputs": [],
   "source": [
    "NumPy, short for Numerical Python, is one of the most important foundational packages for numerical computing in Python.\n",
    "Most computational packages providing scientific functionality use NumPy’s array objects as the lingua franca for data exchange."
   ]
  },
  {
   "cell_type": "code",
   "execution_count": null,
   "metadata": {},
   "outputs": [],
   "source": [
    "ndarray, an efficient multidimensional array providing fast array-oriented arithmetic operations and flexible broadcasting capabilities.\n",
    "\n",
    "Mathematical functions for fast operations on entire arrays of data without having to write loops.\n",
    "\n",
    "Tools for reading / writing array data to disk and working with memory-mapped files.\n",
    "\n",
    "Linear algebra, random number generation, and Fourier transform capabilities.\n",
    "\n",
    "A C API for connecting NumPy with libraries written in C, C++, or FORTRAN.\n",
    "\n"
   ]
  },
  {
   "cell_type": "code",
   "execution_count": 178,
   "metadata": {},
   "outputs": [
    {
     "data": {
      "text/plain": [
       "dtype('float64')"
      ]
     },
     "execution_count": 178,
     "metadata": {},
     "output_type": "execute_result"
    }
   ],
   "source": [
    "# 全てのndarrayは以下のメソッドを持っている\n",
    "data=np.random.rand(3,4)\n",
    "data.shape\n",
    "data.dtype"
   ]
  },
  {
   "cell_type": "code",
   "execution_count": 179,
   "metadata": {},
   "outputs": [
    {
     "data": {
      "text/plain": [
       "array([[[  6.90798694e-310,   2.42411926e-316,   2.35861818e+232,\n",
       "           5.98745253e+247],\n",
       "        [  7.04134512e-009,   5.28595592e-085,   2.51313104e+180,\n",
       "           1.47900210e-076],\n",
       "        [  2.17151199e+214,   6.45967520e+270,   1.10982361e+171,\n",
       "           1.02281887e-259]],\n",
       "\n",
       "       [[  6.57072404e-085,   9.64130900e+199,   6.99416047e-009,\n",
       "           1.40022865e+195],\n",
       "        [  9.69354082e+141,   3.21142670e-322,   2.34662605e-316,\n",
       "           6.90798694e-310],\n",
       "        [  1.91431714e+227,   6.42897811e-109,   1.26088822e+232,\n",
       "           9.51634286e-114]]])"
      ]
     },
     "execution_count": 179,
     "metadata": {},
     "output_type": "execute_result"
    }
   ],
   "source": [
    "# 適当な行列を作成したいときに使う\n",
    "# 何の値になるかは保証されない\n",
    "np.empty((2,3,4))"
   ]
  },
  {
   "cell_type": "code",
   "execution_count": 181,
   "metadata": {},
   "outputs": [
    {
     "data": {
      "text/plain": [
       "array([[ 1.,  1.]])"
      ]
     },
     "execution_count": 181,
     "metadata": {},
     "output_type": "execute_result"
    }
   ],
   "source": [
    "a=np.empty((1,2))\n",
    "# aと同じ行列の要素を作成\n",
    "np.ones_like(a)"
   ]
  },
  {
   "cell_type": "markdown",
   "metadata": {},
   "source": [
    "![](スクリーンショット 2017-05-06 23.31.31.png)"
   ]
  },
  {
   "cell_type": "code",
   "execution_count": 184,
   "metadata": {},
   "outputs": [
    {
     "data": {
      "text/plain": [
       "array([[b'6.907986941952e-310', b'2.1323296e-316']], \n",
       "      dtype='|S32')"
      ]
     },
     "execution_count": 184,
     "metadata": {},
     "output_type": "execute_result"
    }
   ],
   "source": [
    "# キャスト\n",
    "# dtypeは元のarrayは影響をうけない(コピー作る)\n",
    "st=a.astype(np.string_)\n",
    "# dtypeも使える\n",
    "a.astype(st.dtype)"
   ]
  },
  {
   "cell_type": "code",
   "execution_count": 193,
   "metadata": {},
   "outputs": [
    {
     "data": {
      "text/plain": [
       "array([[ 100.,  100.]])"
      ]
     },
     "execution_count": 193,
     "metadata": {},
     "output_type": "execute_result"
    }
   ],
   "source": [
    "# スライスはコピーを作らない\n",
    "a[0]=100\n",
    "# コピーを作る場合\n",
    "b=a[0].copy()\n",
    "b[0]=1000\n",
    "a"
   ]
  },
  {
   "cell_type": "code",
   "execution_count": null,
   "metadata": {},
   "outputs": [],
   "source": []
  },
  {
   "cell_type": "markdown",
   "metadata": {},
   "source": [
    "![](スクリーンショット 2017-05-06 23.48.43.png)"
   ]
  },
  {
   "cell_type": "code",
   "execution_count": 203,
   "metadata": {},
   "outputs": [
    {
     "data": {
      "text/plain": [
       "array([[ 0.85267701,  0.85278843,  0.78281475,  0.82868034,  0.36707314],\n",
       "       [ 0.65725823,  0.79817759,  0.0553613 ,  0.24995447,  0.76195682]])"
      ]
     },
     "execution_count": 203,
     "metadata": {},
     "output_type": "execute_result"
    }
   ],
   "source": [
    "# マスク\n",
    "names = np.array(['Bob', 'Joe', 'Will', 'Bob', 'Will', 'Joe', 'Joe'])\n",
    "names.shape    \n",
    "data2=np.random.rand(7,5)\n",
    "mask=(names=='Bob') | (names=='Joe')\n",
    "data2[mask]\n",
    "# 逆の集合\n",
    "data2[~(mask)]"
   ]
  },
  {
   "cell_type": "code",
   "execution_count": 216,
   "metadata": {},
   "outputs": [
    {
     "data": {
      "text/plain": [
       "array([[ True,  True,  True,  True],\n",
       "       [ True,  True,  True,  True],\n",
       "       [ True,  True,  True,  True]], dtype=bool)"
      ]
     },
     "execution_count": 216,
     "metadata": {},
     "output_type": "execute_result"
    }
   ],
   "source": [
    "arr=np.arange(32).reshape(8,4)\n",
    "# 抽出\n",
    "arr[[3,4,5],[1,2,3]]\n",
    "\n",
    "# 並び替え\n",
    "arr2=arr[[1,3,5]][:,[0,1,3,2]]\n",
    "\n",
    "# ixを使用しても並び替えは可能\n",
    "arr3=arr[np.ix_([1,3,5],[0,1,3,2])]\n",
    "\n",
    "arr2==arr3"
   ]
  },
  {
   "cell_type": "code",
   "execution_count": 220,
   "metadata": {},
   "outputs": [
    {
     "data": {
      "text/plain": [
       "array([[  14,   38,   62,   86,  110,  134,  158,  182],\n",
       "       [  38,  126,  214,  302,  390,  478,  566,  654],\n",
       "       [  62,  214,  366,  518,  670,  822,  974, 1126],\n",
       "       [  86,  302,  518,  734,  950, 1166, 1382, 1598],\n",
       "       [ 110,  390,  670,  950, 1230, 1510, 1790, 2070],\n",
       "       [ 134,  478,  822, 1166, 1510, 1854, 2198, 2542],\n",
       "       [ 158,  566,  974, 1382, 1790, 2198, 2606, 3014],\n",
       "       [ 182,  654, 1126, 1598, 2070, 2542, 3014, 3486]])"
      ]
     },
     "execution_count": 220,
     "metadata": {},
     "output_type": "execute_result"
    }
   ],
   "source": [
    "# 転置(コピーは作らない)\n",
    "arrT=arr.T\n",
    "arrT\n",
    "# 行列積\n",
    "np.dot(arr,arrT)"
   ]
  },
  {
   "cell_type": "markdown",
   "metadata": {},
   "source": [
    "![](スクリーンショット 2017-05-07 10.35.06.png)"
   ]
  },
  {
   "cell_type": "markdown",
   "metadata": {},
   "source": [
    "![](スクリーンショット 2017-05-07 10.34.52.png)"
   ]
  },
  {
   "cell_type": "markdown",
   "metadata": {},
   "source": [
    "![](スクリーンショット 2017-05-07 10.35.06.png)"
   ]
  },
  {
   "cell_type": "code",
   "execution_count": 226,
   "metadata": {},
   "outputs": [],
   "source": [
    "# y=sqrt(x^2+y^2)を二次元的に描画したい\n",
    "points=np.arange(-5,5,0.01)\n",
    "# X軸とY軸の座標を構成する\n",
    "xs,ys=np.meshgrid(points,points)\n",
    "\n",
    "z=np.sqrt(xs**2+ys**2)"
   ]
  },
  {
   "cell_type": "code",
   "execution_count": 230,
   "metadata": {},
   "outputs": [
    {
     "data": {
      "text/plain": [
       "<matplotlib.colorbar.Colorbar at 0x7f2a006cee48>"
      ]
     },
     "execution_count": 230,
     "metadata": {},
     "output_type": "execute_result"
    },
    {
     "data": {
      "image/png": "[encoded data removed]",
      "text/plain": [
       "<matplotlib.figure.Figure at 0x7f2a00f95e48>"
      ]
     },
     "metadata": {},
     "output_type": "display_data"
    }
   ],
   "source": [
    "import matplotlib.pyplot as plt\n",
    "%matplotlib inline\n",
    "\n",
    "plt.imshow(z,cmap=plt.cm.gray);plt.colorbar()"
   ]
  },
  {
   "cell_type": "code",
   "execution_count": 233,
   "metadata": {},
   "outputs": [
    {
     "data": {
      "text/plain": [
       "array([ 1.1,  2.2,  1.3,  1.4,  2.5])"
      ]
     },
     "execution_count": 233,
     "metadata": {},
     "output_type": "execute_result"
    }
   ],
   "source": [
    "# 条件分岐\n",
    "xarr = np.array([1.1, 1.2, 1.3, 1.4, 1.5])\n",
    "yarr = np.array([2.1, 2.2, 2.3, 2.4, 2.5])\n",
    "cond = np.array([True, False, True, True, False])\n",
    "\n",
    "# condの条件がTrueならばxarrの要素を返し、出なければyarrを返す\n",
    "np.where(cond,xarr,yarr)"
   ]
  },
  {
   "cell_type": "code",
   "execution_count": 239,
   "metadata": {},
   "outputs": [
    {
     "data": {
      "text/plain": [
       "array([ 0.300093  ,  0.95884819,  0.        ,  0.43086445,  0.84142528,\n",
       "        0.16501386,  0.47572928,  0.23173084,  0.54546632,  0.18408156])"
      ]
     },
     "execution_count": 239,
     "metadata": {},
     "output_type": "execute_result"
    }
   ],
   "source": [
    "#  引数はスカラーでもよい\n",
    "rnd=np.random.rand(10)\n",
    "np.where(rnd>0.1,2,-2)\n",
    "# 特定の値以下をクリーニングしたい\n",
    "np.where(rnd<0.1,0,rnd)"
   ]
  },
  {
   "cell_type": "code",
   "execution_count": 243,
   "metadata": {},
   "outputs": [
    {
     "data": {
      "text/plain": [
       "array([ 1, -1,  0,  1,  3])"
      ]
     },
     "execution_count": 243,
     "metadata": {},
     "output_type": "execute_result"
    }
   ],
   "source": [
    "# 条件が２つ以上ある場合は繰り返せばよい\n",
    "cond2 = np.array([True, True, False, True, False])\n",
    "np.where(cond&cond2,1,\n",
    "        np.where(cond,0,\n",
    "                np.where(cond2,-1,3)))"
   ]
  },
  {
   "cell_type": "code",
   "execution_count": 264,
   "metadata": {},
   "outputs": [
    {
     "data": {
      "text/plain": [
       "array([4, 5])"
      ]
     },
     "execution_count": 264,
     "metadata": {},
     "output_type": "execute_result"
    }
   ],
   "source": [
    "# 数学、統計として応用できる関数\n",
    "rndd=np.random.rand(100)\n",
    "# 特定の条件をみたす要素の数を数える\n",
    "(rndd>0.5).sum()\n",
    "\n",
    "# 軸毎\n",
    "rndd2=np.random.rand(10,2)\n",
    "(rndd2>0.5).sum(axis=1)\n",
    "(rndd2>0.5).sum(axis=0)"
   ]
  },
  {
   "cell_type": "code",
   "execution_count": 266,
   "metadata": {},
   "outputs": [
    {
     "data": {
      "text/plain": [
       "True"
      ]
     },
     "execution_count": 266,
     "metadata": {},
     "output_type": "execute_result"
    }
   ],
   "source": [
    "# 全て条件をみたすかチェック\n",
    "(rndd>-1).all()\n",
    "\n",
    "# 一つでも条件をみたすかチェック\n",
    "(rndd>0.5).any()"
   ]
  },
  {
   "cell_type": "code",
   "execution_count": null,
   "metadata": {},
   "outputs": [],
   "source": []
  },
  {
   "cell_type": "markdown",
   "metadata": {},
   "source": [
    "![](スクリーンショット 2017-05-07 11.14.57.png)"
   ]
  },
  {
   "cell_type": "code",
   "execution_count": 273,
   "metadata": {},
   "outputs": [
    {
     "data": {
      "text/plain": [
       "array([0, 1, 2, 3, 4, 5, 6, 7, 8, 9])"
      ]
     },
     "execution_count": 273,
     "metadata": {},
     "output_type": "execute_result"
    }
   ],
   "source": [
    "# オブジェクトのsaveとload\n",
    "savear=np.arange(10)\n",
    "np.save('savear.npy',savear)\n",
    "np.load('savear.npy')"
   ]
  },
  {
   "cell_type": "code",
   "execution_count": 277,
   "metadata": {},
   "outputs": [
    {
     "data": {
      "text/plain": [
       "array([ 10.,  35.])"
      ]
     },
     "execution_count": 277,
     "metadata": {},
     "output_type": "execute_result"
    }
   ],
   "source": [
    "# 線形代数\n",
    "\n",
    "x=np.arange(0,10).reshape(2,5)\n",
    "y=np.ones(5)\n",
    "x.dot(y)\n",
    "# 以下でも行列積が出来る\n",
    "x@y"
   ]
  },
  {
   "cell_type": "code",
   "execution_count": 297,
   "metadata": {},
   "outputs": [
    {
     "data": {
      "text/plain": [
       "array([[  1.00000000e+00,  -2.22044605e-15,   0.00000000e+00,\n",
       "         -8.88178420e-16,  -2.22044605e-16],\n",
       "       [ -5.96744876e-16,   1.00000000e+00,  -2.25080371e-16,\n",
       "         -8.25728375e-16,  -1.23165367e-16],\n",
       "       [  0.00000000e+00,  -1.77635684e-15,   1.00000000e+00,\n",
       "         -1.77635684e-15,   4.44089210e-16],\n",
       "       [  2.66453526e-15,  -8.88178420e-16,   0.00000000e+00,\n",
       "          1.00000000e+00,   0.00000000e+00],\n",
       "       [  1.77635684e-15,  -8.88178420e-16,  -2.22044605e-16,\n",
       "          0.00000000e+00,   1.00000000e+00]])"
      ]
     },
     "execution_count": 297,
     "metadata": {},
     "output_type": "execute_result"
    }
   ],
   "source": [
    " from numpy.linalg import inv\n",
    "mat=np.random.rand(5,5)   \n",
    "# 逆行列\n",
    "inver=inv(mat)\n",
    "mat@inver"
   ]
  },
  {
   "cell_type": "markdown",
   "metadata": {},
   "source": [
    "![](スクリーンショット 2017-05-07 13.12.26.png)"
   ]
  },
  {
   "cell_type": "markdown",
   "metadata": {},
   "source": [
    "![](スクリーンショット 2017-05-07 13.06.42.png)"
   ]
  },
  {
   "cell_type": "code",
   "execution_count": null,
   "metadata": {},
   "outputs": [],
   "source": [
    "# ランダム生成器"
   ]
  },
  {
   "cell_type": "markdown",
   "metadata": {},
   "source": [
    "![](スクリーンショット 2017-05-07 13.12.26.png)"
   ]
  },
  {
   "cell_type": "code",
   "execution_count": 307,
   "metadata": {},
   "outputs": [
    {
     "data": {
      "text/plain": [
       "<matplotlib.text.Text at 0x7f2a003d6c88>"
      ]
     },
     "execution_count": 307,
     "metadata": {},
     "output_type": "execute_result"
    },
    {
     "data": {
      "image/png": "[encoded data removed]",
      "text/plain": [
       "<matplotlib.figure.Figure at 0x7f2a003b8630>"
      ]
     },
     "metadata": {},
     "output_type": "display_data"
    }
   ],
   "source": [
    "# ランダムウォーク\n",
    "import random \n",
    "nsteps=1000\n",
    "draws=np.random.randint(0,2,size=nsteps)\n",
    "step=np.where(draws>0,1,-1)\n",
    "# 累計して現在の距離を求める\n",
    "walk=np.cumsum(step)\n",
    "plt.plot(walk)\n",
    "plt.xlabel('time')\n",
    "plt.ylabel('distance')"
   ]
  },
  {
   "cell_type": "code",
   "execution_count": 315,
   "metadata": {},
   "outputs": [
    {
     "data": {
      "text/plain": [
       "172"
      ]
     },
     "execution_count": 315,
     "metadata": {},
     "output_type": "execute_result"
    }
   ],
   "source": [
    "# 特定の距離以上離れているステップを数える\n",
    "(np.abs(walk)>10).sum()\n",
    "# 10以上移動した最初のindexを見つける\n",
    "(np.abs(walk)>10).argmax()"
   ]
  },
  {
   "cell_type": "code",
   "execution_count": 331,
   "metadata": {},
   "outputs": [
    {
     "data": {
      "image/png": "[encoded data removed]",
      "text/plain": [
       "<matplotlib.figure.Figure at 0x7f29f0210cc0>"
      ]
     },
     "metadata": {},
     "output_type": "display_data"
    }
   ],
   "source": [
    "# 同時に複数のランダムウォーク\n",
    "n=10\n",
    "nsteps=5000\n",
    "draws=np.random.randint(0,2,size=(n,nsteps))\n",
    "steps=np.where(draws>0,1,-1)\n",
    "walks=steps.cumsum(axis=1)\n",
    "for i in range(len(walks)-1):\n",
    "    plt.plot(walks[i,:])"
   ]
  },
  {
   "cell_type": "code",
   "execution_count": 336,
   "metadata": {},
   "outputs": [
    {
     "name": "stdout",
     "output_type": "stream",
     "text": [
      "Once deleted, variables cannot be recovered. Proceed (y/[n])? y\n"
     ]
    }
   ],
   "source": [
    "%reset"
   ]
  },
  {
   "cell_type": "markdown",
   "metadata": {},
   "source": [
    "## Chapter 5"
   ]
  },
  {
   "cell_type": "code",
   "execution_count": 339,
   "metadata": {},
   "outputs": [],
   "source": [
    "import numpy as np \n",
    "import pandas as pd\n",
    "import matplotlib.pyplot as plt\n",
    "from pandas import Series, DataFrame\n",
    "%matplotlib inline"
   ]
  },
  {
   "cell_type": "code",
   "execution_count": null,
   "metadata": {},
   "outputs": [],
   "source": [
    "pandas will be a major tool of interest throughout much of the rest of the book. It contains data structures \n",
    "and data manipulation tools designed to make data cleaning and analysis fast and easy in Python."
   ]
  },
  {
   "cell_type": "code",
   "execution_count": 344,
   "metadata": {},
   "outputs": [
    {
     "data": {
      "text/plain": [
       "RangeIndex(start=0, stop=4, step=1)"
      ]
     },
     "execution_count": 344,
     "metadata": {},
     "output_type": "execute_result"
    }
   ],
   "source": [
    "# Series\n",
    "ser=pd.Series([1,3,5,6])\n",
    "# 値(ndarray)\n",
    "ser.values\n",
    "# index\n",
    "ser.index"
   ]
  },
  {
   "cell_type": "code",
   "execution_count": 345,
   "metadata": {},
   "outputs": [
    {
     "data": {
      "text/plain": [
       "3"
      ]
     },
     "execution_count": 345,
     "metadata": {},
     "output_type": "execute_result"
    }
   ],
   "source": [
    "# indexからrowを取得\n",
    "ser[1]"
   ]
  },
  {
   "cell_type": "code",
   "execution_count": 346,
   "metadata": {},
   "outputs": [
    {
     "data": {
      "text/plain": [
       "1    3\n",
       "2    5\n",
       "3    6\n",
       "dtype: int64"
      ]
     },
     "execution_count": 346,
     "metadata": {},
     "output_type": "execute_result"
    }
   ],
   "source": [
    "# numpyの要にフィルタリングが行える\n",
    "ser[ser>2]"
   ]
  },
  {
   "cell_type": "code",
   "execution_count": 348,
   "metadata": {},
   "outputs": [
    {
     "data": {
      "text/plain": [
       "0    1\n",
       "1    3\n",
       "2    5\n",
       "3    6\n",
       "dtype: int64"
      ]
     },
     "execution_count": 348,
     "metadata": {},
     "output_type": "execute_result"
    }
   ],
   "source": [
    "# 全ての値に関数を適用\n",
    "np.exp(ser)"
   ]
  },
  {
   "cell_type": "code",
   "execution_count": 361,
   "metadata": {},
   "outputs": [
    {
     "data": {
      "text/plain": [
       "pandas.core.series.Series"
      ]
     },
     "execution_count": 361,
     "metadata": {},
     "output_type": "execute_result"
    }
   ],
   "source": [
    "# dict型を変換するとキーがindexとなる\n",
    "sdata = {'Ohio': 35000, 'Texas': 71000, 'Oregon': 16000, 'Utah': 5000}\n",
    "pd.Series(sdata)"
   ]
  },
  {
   "cell_type": "code",
   "execution_count": 379,
   "metadata": {},
   "outputs": [
    {
     "data": {
      "text/plain": [
       "California        NaN\n",
       "Ohio          35000.0\n",
       "Oregon        16000.0\n",
       "Texas         71000.0\n",
       "Name: states, dtype: float64"
      ]
     },
     "execution_count": 379,
     "metadata": {},
     "output_type": "execute_result"
    }
   ],
   "source": [
    "# 存在しないindexはNaNになる\n",
    "states = ['California', 'Ohio', 'Oregon', 'Texas']\n",
    "obj2=pd.Series(sdata,index=states)\n",
    "obj2.name='states'\n",
    "obj2"
   ]
  },
  {
   "cell_type": "code",
   "execution_count": 378,
   "metadata": {},
   "outputs": [
    {
     "data": {
      "text/plain": [
       "1"
      ]
     },
     "execution_count": 378,
     "metadata": {},
     "output_type": "execute_result"
    }
   ],
   "source": [
    "# nullチェック\n",
    "obj2.isnull().values.sum()"
   ]
  },
  {
   "cell_type": "code",
   "execution_count": null,
   "metadata": {},
   "outputs": [],
   "source": [
    "DataFrame\n",
    "A DataFrame represents a rectangular table of data and contains an ordered collection of columns,\n",
    "each of which can be a different value type (numeric, string, boolean, etc.).\n",
    "The DataFrame has both a row and column index;"
   ]
  },
  {
   "cell_type": "code",
   "execution_count": 373,
   "metadata": {},
   "outputs": [
    {
     "data": {
      "text/html": [
       "<div>\n",
       "<table border=\"1\" class=\"dataframe\">\n",
       "  <thead>\n",
       "    <tr style=\"text-align: right;\">\n",
       "      <th></th>\n",
       "      <th>pop</th>\n",
       "      <th>state</th>\n",
       "      <th>year</th>\n",
       "    </tr>\n",
       "  </thead>\n",
       "  <tbody>\n",
       "    <tr>\n",
       "      <th>0</th>\n",
       "      <td>1.5</td>\n",
       "      <td>Ohio</td>\n",
       "      <td>2000</td>\n",
       "    </tr>\n",
       "    <tr>\n",
       "      <th>1</th>\n",
       "      <td>1.7</td>\n",
       "      <td>Ohio</td>\n",
       "      <td>2001</td>\n",
       "    </tr>\n",
       "    <tr>\n",
       "      <th>2</th>\n",
       "      <td>3.6</td>\n",
       "      <td>Ohio</td>\n",
       "      <td>2002</td>\n",
       "    </tr>\n",
       "    <tr>\n",
       "      <th>3</th>\n",
       "      <td>2.4</td>\n",
       "      <td>Nevada</td>\n",
       "      <td>2001</td>\n",
       "    </tr>\n",
       "    <tr>\n",
       "      <th>4</th>\n",
       "      <td>2.9</td>\n",
       "      <td>Nevada</td>\n",
       "      <td>2002</td>\n",
       "    </tr>\n",
       "  </tbody>\n",
       "</table>\n",
       "</div>"
      ],
      "text/plain": [
       "   pop   state  year\n",
       "0  1.5    Ohio  2000\n",
       "1  1.7    Ohio  2001\n",
       "2  3.6    Ohio  2002\n",
       "3  2.4  Nevada  2001\n",
       "4  2.9  Nevada  2002"
      ]
     },
     "execution_count": 373,
     "metadata": {},
     "output_type": "execute_result"
    }
   ],
   "source": [
    "data = {'state': ['Ohio', 'Ohio', 'Ohio', 'Nevada', 'Nevada'],\n",
    "        'year': [2000, 2001, 2002, 2001, 2002],\n",
    "        'pop': [1.5, 1.7, 3.6, 2.4, 2.9]}\n",
    "frame=pd.DataFrame(data)\n",
    "frame"
   ]
  },
  {
   "cell_type": "code",
   "execution_count": 376,
   "metadata": {},
   "outputs": [
    {
     "data": {
      "text/html": [
       "<div>\n",
       "<table border=\"1\" class=\"dataframe\">\n",
       "  <thead>\n",
       "    <tr style=\"text-align: right;\">\n",
       "      <th></th>\n",
       "      <th>year</th>\n",
       "      <th>state</th>\n",
       "      <th>pop</th>\n",
       "    </tr>\n",
       "  </thead>\n",
       "  <tbody>\n",
       "    <tr>\n",
       "      <th>0</th>\n",
       "      <td>1.5</td>\n",
       "      <td>Ohio</td>\n",
       "      <td>2000</td>\n",
       "    </tr>\n",
       "    <tr>\n",
       "      <th>1</th>\n",
       "      <td>1.7</td>\n",
       "      <td>Ohio</td>\n",
       "      <td>2001</td>\n",
       "    </tr>\n",
       "    <tr>\n",
       "      <th>2</th>\n",
       "      <td>3.6</td>\n",
       "      <td>Ohio</td>\n",
       "      <td>2002</td>\n",
       "    </tr>\n",
       "    <tr>\n",
       "      <th>3</th>\n",
       "      <td>2.4</td>\n",
       "      <td>Nevada</td>\n",
       "      <td>2001</td>\n",
       "    </tr>\n",
       "    <tr>\n",
       "      <th>4</th>\n",
       "      <td>2.9</td>\n",
       "      <td>Nevada</td>\n",
       "      <td>2002</td>\n",
       "    </tr>\n",
       "  </tbody>\n",
       "</table>\n",
       "</div>"
      ],
      "text/plain": [
       "   year   state   pop\n",
       "0   1.5    Ohio  2000\n",
       "1   1.7    Ohio  2001\n",
       "2   3.6    Ohio  2002\n",
       "3   2.4  Nevada  2001\n",
       "4   2.9  Nevada  2002"
      ]
     },
     "execution_count": 376,
     "metadata": {},
     "output_type": "execute_result"
    }
   ],
   "source": [
    "# カラムを加える\n",
    "frame.columns=['year', 'state', 'pop']\n",
    "frame"
   ]
  },
  {
   "cell_type": "code",
   "execution_count": 381,
   "metadata": {},
   "outputs": [
    {
     "data": {
      "text/html": [
       "<div>\n",
       "<table border=\"1\" class=\"dataframe\">\n",
       "  <thead>\n",
       "    <tr style=\"text-align: right;\">\n",
       "      <th></th>\n",
       "      <th>0</th>\n",
       "      <th>1</th>\n",
       "      <th>2</th>\n",
       "      <th>3</th>\n",
       "      <th>4</th>\n",
       "    </tr>\n",
       "  </thead>\n",
       "  <tbody>\n",
       "    <tr>\n",
       "      <th>year</th>\n",
       "      <td>1.5</td>\n",
       "      <td>1.7</td>\n",
       "      <td>3.6</td>\n",
       "      <td>2.4</td>\n",
       "      <td>2.9</td>\n",
       "    </tr>\n",
       "    <tr>\n",
       "      <th>state</th>\n",
       "      <td>Ohio</td>\n",
       "      <td>Ohio</td>\n",
       "      <td>Ohio</td>\n",
       "      <td>Nevada</td>\n",
       "      <td>Nevada</td>\n",
       "    </tr>\n",
       "    <tr>\n",
       "      <th>pop</th>\n",
       "      <td>2000</td>\n",
       "      <td>2001</td>\n",
       "      <td>2002</td>\n",
       "      <td>2001</td>\n",
       "      <td>2002</td>\n",
       "    </tr>\n",
       "  </tbody>\n",
       "</table>\n",
       "</div>"
      ],
      "text/plain": [
       "          0     1     2       3       4\n",
       "year    1.5   1.7   3.6     2.4     2.9\n",
       "state  Ohio  Ohio  Ohio  Nevada  Nevada\n",
       "pop    2000  2001  2002    2001    2002"
      ]
     },
     "execution_count": 381,
     "metadata": {},
     "output_type": "execute_result"
    }
   ],
   "source": [
    "# 転置\n",
    "frame.T"
   ]
  },
  {
   "cell_type": "code",
   "execution_count": null,
   "metadata": {},
   "outputs": [],
   "source": []
  },
  {
   "cell_type": "markdown",
   "metadata": {},
   "source": [
    "![](スクリーンショット 2017-05-07 14.40.47.png)"
   ]
  },
  {
   "cell_type": "code",
   "execution_count": 397,
   "metadata": {},
   "outputs": [
    {
     "data": {
      "text/html": [
       "<div>\n",
       "<table border=\"1\" class=\"dataframe\">\n",
       "  <thead>\n",
       "    <tr style=\"text-align: right;\">\n",
       "      <th></th>\n",
       "      <th>p</th>\n",
       "      <th>s</th>\n",
       "      <th>y</th>\n",
       "    </tr>\n",
       "  </thead>\n",
       "  <tbody>\n",
       "    <tr>\n",
       "      <th>0</th>\n",
       "      <td>1.5</td>\n",
       "      <td>Ohio</td>\n",
       "      <td>2000</td>\n",
       "    </tr>\n",
       "    <tr>\n",
       "      <th>1</th>\n",
       "      <td>1.7</td>\n",
       "      <td>Ohio</td>\n",
       "      <td>2001</td>\n",
       "    </tr>\n",
       "    <tr>\n",
       "      <th>2</th>\n",
       "      <td>3.6</td>\n",
       "      <td>Ohio</td>\n",
       "      <td>2002</td>\n",
       "    </tr>\n",
       "    <tr>\n",
       "      <th>3</th>\n",
       "      <td>2.4</td>\n",
       "      <td>Nevada</td>\n",
       "      <td>2001</td>\n",
       "    </tr>\n",
       "    <tr>\n",
       "      <th>4</th>\n",
       "      <td>2.9</td>\n",
       "      <td>Nevada</td>\n",
       "      <td>2002</td>\n",
       "    </tr>\n",
       "  </tbody>\n",
       "</table>\n",
       "</div>"
      ],
      "text/plain": [
       "     p       s     y\n",
       "0  1.5    Ohio  2000\n",
       "1  1.7    Ohio  2001\n",
       "2  3.6    Ohio  2002\n",
       "3  2.4  Nevada  2001\n",
       "4  2.9  Nevada  2002"
      ]
     },
     "execution_count": 397,
     "metadata": {},
     "output_type": "execute_result"
    }
   ],
   "source": [
    "obj3 = pd.Series(['blue', 'purple', 'yellow'], index=[0, 2, 4])\n",
    "obj3.reindex(range(6),method='ffill')\n",
    "# カラムも再定義できる\n",
    "frame.columns=['p','s','y']\n",
    "frame"
   ]
  },
  {
   "cell_type": "code",
   "execution_count": 399,
   "metadata": {},
   "outputs": [
    {
     "data": {
      "text/plain": [
       "1.5"
      ]
     },
     "execution_count": 399,
     "metadata": {},
     "output_type": "execute_result"
    }
   ],
   "source": [
    "# 行名と列名で値を取得\n",
    "frame.loc[0,'p']"
   ]
  },
  {
   "cell_type": "code",
   "execution_count": null,
   "metadata": {},
   "outputs": [],
   "source": []
  },
  {
   "cell_type": "markdown",
   "metadata": {},
   "source": [
    "![](スクリーンショット 2017-05-07 14.58.06.png)"
   ]
  },
  {
   "cell_type": "code",
   "execution_count": 400,
   "metadata": {},
   "outputs": [
    {
     "data": {
      "text/plain": [
       "a    5.2\n",
       "c    1.1\n",
       "d    NaN\n",
       "e    0.0\n",
       "f    NaN\n",
       "g    NaN\n",
       "dtype: float64"
      ]
     },
     "execution_count": 400,
     "metadata": {},
     "output_type": "execute_result"
    }
   ],
   "source": [
    "# 足し算。同じindex,とcolumn同士を足し合わせ、どちらかに存在しない値はNaNになる\n",
    "s1 = pd.Series([7.3, -2.5, 3.4, 1.5], index=['a', 'c', 'd', 'e'])\n",
    "s2 = pd.Series([-2.1, 3.6, -1.5, 4, 3.1], index=['a', 'c', 'e', 'f', 'g'])\n",
    "s1+s2"
   ]
  },
  {
   "cell_type": "code",
   "execution_count": 402,
   "metadata": {},
   "outputs": [
    {
     "data": {
      "text/html": [
       "<div>\n",
       "<table border=\"1\" class=\"dataframe\">\n",
       "  <thead>\n",
       "    <tr style=\"text-align: right;\">\n",
       "      <th></th>\n",
       "      <th>b</th>\n",
       "      <th>c</th>\n",
       "      <th>d</th>\n",
       "      <th>e</th>\n",
       "    </tr>\n",
       "  </thead>\n",
       "  <tbody>\n",
       "    <tr>\n",
       "      <th>Colorado</th>\n",
       "      <td>NaN</td>\n",
       "      <td>NaN</td>\n",
       "      <td>NaN</td>\n",
       "      <td>NaN</td>\n",
       "    </tr>\n",
       "    <tr>\n",
       "      <th>Ohio</th>\n",
       "      <td>3.0</td>\n",
       "      <td>NaN</td>\n",
       "      <td>6.0</td>\n",
       "      <td>NaN</td>\n",
       "    </tr>\n",
       "    <tr>\n",
       "      <th>Oregon</th>\n",
       "      <td>NaN</td>\n",
       "      <td>NaN</td>\n",
       "      <td>NaN</td>\n",
       "      <td>NaN</td>\n",
       "    </tr>\n",
       "    <tr>\n",
       "      <th>Texas</th>\n",
       "      <td>9.0</td>\n",
       "      <td>NaN</td>\n",
       "      <td>12.0</td>\n",
       "      <td>NaN</td>\n",
       "    </tr>\n",
       "    <tr>\n",
       "      <th>Utah</th>\n",
       "      <td>NaN</td>\n",
       "      <td>NaN</td>\n",
       "      <td>NaN</td>\n",
       "      <td>NaN</td>\n",
       "    </tr>\n",
       "  </tbody>\n",
       "</table>\n",
       "</div>"
      ],
      "text/plain": [
       "            b   c     d   e\n",
       "Colorado  NaN NaN   NaN NaN\n",
       "Ohio      3.0 NaN   6.0 NaN\n",
       "Oregon    NaN NaN   NaN NaN\n",
       "Texas     9.0 NaN  12.0 NaN\n",
       "Utah      NaN NaN   NaN NaN"
      ]
     },
     "execution_count": 402,
     "metadata": {},
     "output_type": "execute_result"
    }
   ],
   "source": [
    "df1 = pd.DataFrame(np.arange(9.).reshape((3, 3)), columns=list('bcd'),index=['Ohio', 'Texas', 'Colorado'])\n",
    "df2 = pd.DataFrame(np.arange(12.).reshape((4, 3)), columns=list('bde'),index=['Utah', 'Ohio', 'Texas', 'Oregon'])\n",
    "df1+df2"
   ]
  },
  {
   "cell_type": "code",
   "execution_count": 403,
   "metadata": {},
   "outputs": [
    {
     "data": {
      "text/html": [
       "<div>\n",
       "<table border=\"1\" class=\"dataframe\">\n",
       "  <thead>\n",
       "    <tr style=\"text-align: right;\">\n",
       "      <th></th>\n",
       "      <th>b</th>\n",
       "      <th>c</th>\n",
       "      <th>d</th>\n",
       "      <th>e</th>\n",
       "    </tr>\n",
       "  </thead>\n",
       "  <tbody>\n",
       "    <tr>\n",
       "      <th>Colorado</th>\n",
       "      <td>7.0</td>\n",
       "      <td>8.0</td>\n",
       "      <td>9.0</td>\n",
       "      <td>NaN</td>\n",
       "    </tr>\n",
       "    <tr>\n",
       "      <th>Ohio</th>\n",
       "      <td>3.0</td>\n",
       "      <td>2.0</td>\n",
       "      <td>6.0</td>\n",
       "      <td>6.0</td>\n",
       "    </tr>\n",
       "    <tr>\n",
       "      <th>Oregon</th>\n",
       "      <td>10.0</td>\n",
       "      <td>NaN</td>\n",
       "      <td>11.0</td>\n",
       "      <td>12.0</td>\n",
       "    </tr>\n",
       "    <tr>\n",
       "      <th>Texas</th>\n",
       "      <td>9.0</td>\n",
       "      <td>5.0</td>\n",
       "      <td>12.0</td>\n",
       "      <td>9.0</td>\n",
       "    </tr>\n",
       "    <tr>\n",
       "      <th>Utah</th>\n",
       "      <td>1.0</td>\n",
       "      <td>NaN</td>\n",
       "      <td>2.0</td>\n",
       "      <td>3.0</td>\n",
       "    </tr>\n",
       "  </tbody>\n",
       "</table>\n",
       "</div>"
      ],
      "text/plain": [
       "             b    c     d     e\n",
       "Colorado   7.0  8.0   9.0   NaN\n",
       "Ohio       3.0  2.0   6.0   6.0\n",
       "Oregon    10.0  NaN  11.0  12.0\n",
       "Texas      9.0  5.0  12.0   9.0\n",
       "Utah       1.0  NaN   2.0   3.0"
      ]
     },
     "execution_count": 403,
     "metadata": {},
     "output_type": "execute_result"
    }
   ],
   "source": [
    "#df2にない値はデフォルト値が適用される\n",
    "df1.add(df2,fill_value=0)"
   ]
  },
  {
   "cell_type": "code",
   "execution_count": 407,
   "metadata": {},
   "outputs": [
    {
     "data": {
      "text/plain": [
       "Ohio        2.0\n",
       "Texas       2.0\n",
       "Colorado    2.0\n",
       "dtype: float64"
      ]
     },
     "execution_count": 407,
     "metadata": {},
     "output_type": "execute_result"
    }
   ],
   "source": [
    "# 列毎に関数を適用する\n",
    "f=lambda x:x.max()-x.min()\n",
    "df1.apply(f)\n",
    "# 行毎\n",
    "df1.apply(f,axis=1)"
   ]
  },
  {
   "cell_type": "code",
   "execution_count": 410,
   "metadata": {},
   "outputs": [
    {
     "data": {
      "text/html": [
       "<div>\n",
       "<table border=\"1\" class=\"dataframe\">\n",
       "  <thead>\n",
       "    <tr style=\"text-align: right;\">\n",
       "      <th></th>\n",
       "      <th>b</th>\n",
       "      <th>c</th>\n",
       "      <th>d</th>\n",
       "    </tr>\n",
       "  </thead>\n",
       "  <tbody>\n",
       "    <tr>\n",
       "      <th>min</th>\n",
       "      <td>0.0</td>\n",
       "      <td>1.0</td>\n",
       "      <td>2.0</td>\n",
       "    </tr>\n",
       "    <tr>\n",
       "      <th>max</th>\n",
       "      <td>6.0</td>\n",
       "      <td>7.0</td>\n",
       "      <td>8.0</td>\n",
       "    </tr>\n",
       "  </tbody>\n",
       "</table>\n",
       "</div>"
      ],
      "text/plain": [
       "       b    c    d\n",
       "min  0.0  1.0  2.0\n",
       "max  6.0  7.0  8.0"
      ]
     },
     "execution_count": 410,
     "metadata": {},
     "output_type": "execute_result"
    }
   ],
   "source": [
    "# DataFrameを集計する\n",
    "f=lambda x:pd.Series([x.min(),x.max()],index=['min','max'])\n",
    "df1.apply(f)"
   ]
  },
  {
   "cell_type": "code",
   "execution_count": 412,
   "metadata": {},
   "outputs": [
    {
     "data": {
      "text/html": [
       "<div>\n",
       "<table border=\"1\" class=\"dataframe\">\n",
       "  <thead>\n",
       "    <tr style=\"text-align: right;\">\n",
       "      <th></th>\n",
       "      <th>b</th>\n",
       "      <th>c</th>\n",
       "      <th>d</th>\n",
       "    </tr>\n",
       "  </thead>\n",
       "  <tbody>\n",
       "    <tr>\n",
       "      <th>Ohio</th>\n",
       "      <td>0.0</td>\n",
       "      <td>1.0</td>\n",
       "      <td>2.0</td>\n",
       "    </tr>\n",
       "    <tr>\n",
       "      <th>Texas</th>\n",
       "      <td>3.0</td>\n",
       "      <td>4.0</td>\n",
       "      <td>5.0</td>\n",
       "    </tr>\n",
       "    <tr>\n",
       "      <th>Colorado</th>\n",
       "      <td>6.0</td>\n",
       "      <td>7.0</td>\n",
       "      <td>8.0</td>\n",
       "    </tr>\n",
       "  </tbody>\n",
       "</table>\n",
       "</div>"
      ],
      "text/plain": [
       "            b    c    d\n",
       "Ohio      0.0  1.0  2.0\n",
       "Texas     3.0  4.0  5.0\n",
       "Colorado  6.0  7.0  8.0"
      ]
     },
     "execution_count": 412,
     "metadata": {},
     "output_type": "execute_result"
    }
   ],
   "source": [
    "# ソート\n",
    "df1.sort_values(by='b')"
   ]
  },
  {
   "cell_type": "code",
   "execution_count": 413,
   "metadata": {},
   "outputs": [
    {
     "data": {
      "text/plain": [
       "b     9.0\n",
       "c    12.0\n",
       "d    15.0\n",
       "dtype: float64"
      ]
     },
     "execution_count": 413,
     "metadata": {},
     "output_type": "execute_result"
    }
   ],
   "source": [
    "# 合計\n",
    "df1.sum()"
   ]
  },
  {
   "cell_type": "code",
   "execution_count": 420,
   "metadata": {},
   "outputs": [
    {
     "data": {
      "text/plain": [
       "b    Colorado\n",
       "c    Colorado\n",
       "d    Colorado\n",
       "dtype: object"
      ]
     },
     "execution_count": 420,
     "metadata": {},
     "output_type": "execute_result"
    }
   ],
   "source": [
    "# 最大値のidを取得\n",
    "df1.idxmax()"
   ]
  },
  {
   "cell_type": "code",
   "execution_count": 421,
   "metadata": {},
   "outputs": [
    {
     "data": {
      "text/html": [
       "<div>\n",
       "<table border=\"1\" class=\"dataframe\">\n",
       "  <thead>\n",
       "    <tr style=\"text-align: right;\">\n",
       "      <th></th>\n",
       "      <th>b</th>\n",
       "      <th>c</th>\n",
       "      <th>d</th>\n",
       "    </tr>\n",
       "  </thead>\n",
       "  <tbody>\n",
       "    <tr>\n",
       "      <th>count</th>\n",
       "      <td>3.0</td>\n",
       "      <td>3.0</td>\n",
       "      <td>3.0</td>\n",
       "    </tr>\n",
       "    <tr>\n",
       "      <th>mean</th>\n",
       "      <td>3.0</td>\n",
       "      <td>4.0</td>\n",
       "      <td>5.0</td>\n",
       "    </tr>\n",
       "    <tr>\n",
       "      <th>std</th>\n",
       "      <td>3.0</td>\n",
       "      <td>3.0</td>\n",
       "      <td>3.0</td>\n",
       "    </tr>\n",
       "    <tr>\n",
       "      <th>min</th>\n",
       "      <td>0.0</td>\n",
       "      <td>1.0</td>\n",
       "      <td>2.0</td>\n",
       "    </tr>\n",
       "    <tr>\n",
       "      <th>25%</th>\n",
       "      <td>1.5</td>\n",
       "      <td>2.5</td>\n",
       "      <td>3.5</td>\n",
       "    </tr>\n",
       "    <tr>\n",
       "      <th>50%</th>\n",
       "      <td>3.0</td>\n",
       "      <td>4.0</td>\n",
       "      <td>5.0</td>\n",
       "    </tr>\n",
       "    <tr>\n",
       "      <th>75%</th>\n",
       "      <td>4.5</td>\n",
       "      <td>5.5</td>\n",
       "      <td>6.5</td>\n",
       "    </tr>\n",
       "    <tr>\n",
       "      <th>max</th>\n",
       "      <td>6.0</td>\n",
       "      <td>7.0</td>\n",
       "      <td>8.0</td>\n",
       "    </tr>\n",
       "  </tbody>\n",
       "</table>\n",
       "</div>"
      ],
      "text/plain": [
       "         b    c    d\n",
       "count  3.0  3.0  3.0\n",
       "mean   3.0  4.0  5.0\n",
       "std    3.0  3.0  3.0\n",
       "min    0.0  1.0  2.0\n",
       "25%    1.5  2.5  3.5\n",
       "50%    3.0  4.0  5.0\n",
       "75%    4.5  5.5  6.5\n",
       "max    6.0  7.0  8.0"
      ]
     },
     "execution_count": 421,
     "metadata": {},
     "output_type": "execute_result"
    }
   ],
   "source": [
    "# 要約統計\n",
    "df1.describe()"
   ]
  },
  {
   "cell_type": "code",
   "execution_count": null,
   "metadata": {},
   "outputs": [],
   "source": []
  },
  {
   "cell_type": "markdown",
   "metadata": {},
   "source": [
    "![](スクリーンショット 2017-05-07 15.35.39.png)"
   ]
  },
  {
   "cell_type": "code",
   "execution_count": 423,
   "metadata": {},
   "outputs": [
    {
     "name": "stdout",
     "output_type": "stream",
     "text": [
      "Collecting pandas_datareader\n",
      "  Downloading pandas_datareader-0.3.0.post0-py2.py3-none-any.whl (70kB)\n",
      "\u001b[K    100% |████████████████████████████████| 71kB 4.4MB/s ta 0:00:011\n",
      "\u001b[?25hRequirement already satisfied: pandas in /home/hasegawa/.pyenv/versions/anaconda3-4.3.1/lib/python3.6/site-packages (from pandas_datareader)\n",
      "Requirement already satisfied: requests>=2.3.0 in /home/hasegawa/.pyenv/versions/anaconda3-4.3.1/lib/python3.6/site-packages (from pandas_datareader)\n",
      "Collecting requests-file (from pandas_datareader)\n",
      "  Downloading requests-file-1.4.2.tar.gz\n",
      "Collecting requests-ftp (from pandas_datareader)\n",
      "  Downloading requests-ftp-0.3.1.tar.gz\n",
      "Requirement already satisfied: python-dateutil>=2 in /home/hasegawa/.pyenv/versions/anaconda3-4.3.1/lib/python3.6/site-packages (from pandas->pandas_datareader)\n",
      "Requirement already satisfied: pytz>=2011k in /home/hasegawa/.pyenv/versions/anaconda3-4.3.1/lib/python3.6/site-packages (from pandas->pandas_datareader)\n",
      "Requirement already satisfied: numpy>=1.7.0 in /home/hasegawa/.pyenv/versions/anaconda3-4.3.1/lib/python3.6/site-packages (from pandas->pandas_datareader)\n",
      "Requirement already satisfied: six in /home/hasegawa/.pyenv/versions/anaconda3-4.3.1/lib/python3.6/site-packages (from requests-file->pandas_datareader)\n",
      "Building wheels for collected packages: requests-file, requests-ftp\n",
      "  Running setup.py bdist_wheel for requests-file ... \u001b[?25ldone\n",
      "\u001b[?25h  Stored in directory: /home/hasegawa/.cache/pip/wheels/3e/34/3a/c2e634ca7b545510c1b3b7d94dea084e5fdb5f33558f3c3a81\n",
      "  Running setup.py bdist_wheel for requests-ftp ... \u001b[?25ldone\n",
      "\u001b[?25h  Stored in directory: /home/hasegawa/.cache/pip/wheels/76/fb/0d/1026eb562c34a4982dc9d39c9c582a734eefe7f0455f711deb\n",
      "Successfully built requests-file requests-ftp\n",
      "Installing collected packages: requests-file, requests-ftp, pandas-datareader\n",
      "Successfully installed pandas-datareader-0.3.0.post0 requests-file-1.4.2 requests-ftp-0.3.1\n"
     ]
    }
   ],
   "source": [
    "# ! pip install pandas_datareader"
   ]
  },
  {
   "cell_type": "code",
   "execution_count": 451,
   "metadata": {},
   "outputs": [],
   "source": [
    "import pandas_datareader.data as web\n",
    "all_data = {ticker: web.get_data_yahoo(ticker)\n",
    "            for ticker in ['AAPL', 'IBM', 'MSFT', 'GOOG']}\n",
    "\n",
    "price = pd.DataFrame({ticker: data['Adj Close']\n",
    "                     for ticker, data in all_data.items()})\n",
    "volume = pd.DataFrame({ticker: data['Volume']\n",
    "                      for ticker, data in all_data.items()})"
   ]
  },
  {
   "cell_type": "code",
   "execution_count": 450,
   "metadata": {},
   "outputs": [
    {
     "data": {
      "text/plain": [
       "{'AAPL':                   Open        High         Low       Close     Volume  \\\n",
       " Date                                                                    \n",
       " 2010-01-04  213.429998  214.499996  212.380001  214.009998  123432400   \n",
       " 2010-01-05  214.599998  215.589994  213.249994  214.379993  150476200   \n",
       " 2010-01-06  214.379993  215.230000  210.750004  210.969995  138040000   \n",
       " 2010-01-07  211.750000  212.000006  209.050005  210.580000  119282800   \n",
       " 2010-01-08  210.299994  212.000006  209.060005  211.980005  111902700   \n",
       " 2010-01-11  212.799997  213.000002  208.450005  210.110003  115557400   \n",
       " 2010-01-12  209.189995  209.769995  206.419998  207.720001  148614900   \n",
       " 2010-01-13  207.870005  210.929995  204.099998  210.650002  151473000   \n",
       " 2010-01-14  210.110003  210.459997  209.020004  209.430000  108223500   \n",
       " 2010-01-15  210.929995  211.599997  205.869999  205.930000  148516900   \n",
       " 2010-01-19  208.330002  215.189999  207.240004  215.039995  182501900   \n",
       " 2010-01-20  214.910006  215.549994  209.500002  211.730000  153038200   \n",
       " 2010-01-21  212.079994  213.309996  207.210003  208.069996  152038600   \n",
       " 2010-01-22  206.780006  207.499996  197.160000  197.750000  220441900   \n",
       " 2010-01-25  202.510002  204.699999  200.190002  203.070002  266424900   \n",
       " 2010-01-26  205.950001  213.710005  202.580004  205.940001  466777500   \n",
       " 2010-01-27  206.849995  210.580000  199.530001  207.880005  430642100   \n",
       " 2010-01-28  204.930004  205.500004  198.699995  199.289995  293375600   \n",
       " 2010-01-29  201.079996  202.199995  190.250002  192.060003  311488100   \n",
       " 2010-02-01  192.369997  196.000000  191.299999  194.729998  187469100   \n",
       " 2010-02-02  195.909998  196.319994  193.379993  195.859997  174585600   \n",
       " 2010-02-03  195.169994  200.200003  194.420004  199.229994  153832000   \n",
       " 2010-02-04  196.730003  198.370001  191.570005  192.050003  189413000   \n",
       " 2010-02-05  192.630003  196.000000  190.850002  195.460001  212576700   \n",
       " 2010-02-08  195.690006  197.880003  193.999994  194.119997  119567700   \n",
       " 2010-02-09  196.419996  197.499994  194.749998  196.190004  158221700   \n",
       " 2010-02-10  195.889997  196.600000  194.260000  195.120007   92590400   \n",
       " 2010-02-11  194.880001  199.750006  194.059996  198.669994  137586400   \n",
       " 2010-02-12  198.109995  201.639996  195.500002  200.379993  163867200   \n",
       " 2010-02-16  201.940002  203.690002  201.520006  203.399996  135934400   \n",
       " ...                ...         ...         ...         ...        ...   \n",
       " 2017-03-24  141.500000  141.740005  140.350006  140.639999   22395600   \n",
       " 2017-03-27  139.389999  141.220001  138.619995  140.880005   23575100   \n",
       " 2017-03-28  140.910004  144.039993  140.619995  143.800003   33374800   \n",
       " 2017-03-29  143.679993  144.490005  143.190002  144.119995   29190000   \n",
       " 2017-03-30  144.190002  144.500000  143.500000  143.929993   21207300   \n",
       " 2017-03-31  143.720001  144.270004  143.009995  143.660004   19661700   \n",
       " 2017-04-03  143.710007  144.119995  143.050003  143.699997   19985700   \n",
       " 2017-04-04  143.250000  144.889999  143.169998  144.770004   19765700   \n",
       " 2017-04-05  144.220001  145.460007  143.809998  144.020004   27481500   \n",
       " 2017-04-06  144.289993  144.520004  143.449997  143.660004   21118000   \n",
       " 2017-04-07  143.729996  144.179993  143.270004  143.339996   16621300   \n",
       " 2017-04-10  143.600006  143.880005  142.899994  143.169998   18473000   \n",
       " 2017-04-11  142.940002  143.350006  140.059998  141.630005   30275300   \n",
       " 2017-04-12  141.600006  142.149994  141.009995  141.800003   20238900   \n",
       " 2017-04-13  141.910004  142.380005  141.050003  141.050003   17652900   \n",
       " 2017-04-17  141.479996  141.880005  140.869995  141.830002   16424000   \n",
       " 2017-04-18  141.410004  142.039993  141.110001  141.199997   14660800   \n",
       " 2017-04-19  141.880005  142.000000  140.449997  140.679993   17271300   \n",
       " 2017-04-20  141.220001  142.919998  141.160004  142.440002   23251100   \n",
       " 2017-04-21  142.440002  142.679993  141.850006  142.270004   17245200   \n",
       " 2017-04-24  143.500000  143.949997  143.179993  143.639999   17099200   \n",
       " 2017-04-25  143.910004  144.899994  143.869995  144.529999   18290300   \n",
       " 2017-04-26  144.470001  144.600006  143.380005  143.679993   19769400   \n",
       " 2017-04-27  143.919998  144.160004  143.309998  143.789993   14106100   \n",
       " 2017-04-28  144.089996  144.300003  143.270004  143.649994   20763500   \n",
       " 2017-05-01  145.100006  147.199997  144.960007  146.580002   33424500   \n",
       " 2017-05-02  147.539993  148.089996  146.839996  147.509995   40290100   \n",
       " 2017-05-03  145.589996  147.490005  144.270004  147.059998   45404200   \n",
       " 2017-05-04  146.520004  147.139999  145.809998  146.529999   23309300   \n",
       " 2017-05-05  146.759995  148.979996  146.759995  148.960007   26787400   \n",
       " \n",
       "              Adj Close  \n",
       " Date                    \n",
       " 2010-01-04   27.727039  \n",
       " 2010-01-05   27.774976  \n",
       " 2010-01-06   27.333178  \n",
       " 2010-01-07   27.282650  \n",
       " 2010-01-08   27.464034  \n",
       " 2010-01-11   27.221758  \n",
       " 2010-01-12   26.912110  \n",
       " 2010-01-13   27.291720  \n",
       " 2010-01-14   27.133657  \n",
       " 2010-01-15   26.680198  \n",
       " 2010-01-19   27.860485  \n",
       " 2010-01-20   27.431644  \n",
       " 2010-01-21   26.957455  \n",
       " 2010-01-22   25.620401  \n",
       " 2010-01-25   26.309658  \n",
       " 2010-01-26   26.681494  \n",
       " 2010-01-27   26.932840  \n",
       " 2010-01-28   25.819922  \n",
       " 2010-01-29   24.883208  \n",
       " 2010-02-01   25.229131  \n",
       " 2010-02-02   25.375533  \n",
       " 2010-02-03   25.812149  \n",
       " 2010-02-04   24.881912  \n",
       " 2010-02-05   25.323710  \n",
       " 2010-02-08   25.150100  \n",
       " 2010-02-09   25.418289  \n",
       " 2010-02-10   25.279660  \n",
       " 2010-02-11   25.739595  \n",
       " 2010-02-12   25.961142  \n",
       " 2010-02-16   26.352412  \n",
       " ...                ...  \n",
       " 2017-03-24  140.639999  \n",
       " 2017-03-27  140.880005  \n",
       " 2017-03-28  143.800003  \n",
       " 2017-03-29  144.119995  \n",
       " 2017-03-30  143.929993  \n",
       " 2017-03-31  143.660004  \n",
       " 2017-04-03  143.699997  \n",
       " 2017-04-04  144.770004  \n",
       " 2017-04-05  144.020004  \n",
       " 2017-04-06  143.660004  \n",
       " 2017-04-07  143.339996  \n",
       " 2017-04-10  143.169998  \n",
       " 2017-04-11  141.630005  \n",
       " 2017-04-12  141.800003  \n",
       " 2017-04-13  141.050003  \n",
       " 2017-04-17  141.830002  \n",
       " 2017-04-18  141.199997  \n",
       " 2017-04-19  140.679993  \n",
       " 2017-04-20  142.440002  \n",
       " 2017-04-21  142.270004  \n",
       " 2017-04-24  143.639999  \n",
       " 2017-04-25  144.529999  \n",
       " 2017-04-26  143.679993  \n",
       " 2017-04-27  143.789993  \n",
       " 2017-04-28  143.649994  \n",
       " 2017-05-01  146.580002  \n",
       " 2017-05-02  147.509995  \n",
       " 2017-05-03  147.059998  \n",
       " 2017-05-04  146.529999  \n",
       " 2017-05-05  148.960007  \n",
       " \n",
       " [1848 rows x 6 columns],\n",
       " 'GOOG':                   Open        High         Low       Close    Volume  \\\n",
       " Date                                                                   \n",
       " 2010-01-04  626.951088  629.511067  624.241073  626.751061   3927000   \n",
       " 2010-01-05  627.181073  627.841071  621.541045  623.991055   6031900   \n",
       " 2010-01-06  625.861078  625.861078  606.361042  608.261023   7987100   \n",
       " 2010-01-07  609.401025  610.001045  592.651008  594.101005  12876600   \n",
       " 2010-01-08  592.000997  603.251034  589.110988  602.021036   9483900   \n",
       " 2010-01-11  604.461060  604.461060  594.041028  601.111020  14479800   \n",
       " 2010-01-12  597.651011  598.161034  588.001007  590.481036   9742900   \n",
       " 2010-01-13  576.490965  588.381027  573.900966  587.090991  13041800   \n",
       " 2010-01-14  583.900972  594.200988  582.811024  589.850997   8511900   \n",
       " 2010-01-15  593.341025  593.561024  578.041006  580.000965  10909600   \n",
       " 2010-01-19  581.201005  590.420997  576.290999  587.620986   8665700   \n",
       " 2010-01-20  585.981009  585.981009  575.290986  580.411005   6525700   \n",
       " 2010-01-21  583.441002  586.821000  572.251003  582.980970  12662600   \n",
       " 2010-01-22  564.500980  570.600979  534.860888  550.010933  13651700   \n",
       " 2010-01-25  546.590929  549.880931  535.510900  540.000941   8872800   \n",
       " 2010-01-26  537.970896  549.600954  536.290913  542.420931   8743600   \n",
       " 2010-01-27  541.270944  547.650920  535.310934  542.100949   7958400   \n",
       " 2010-01-28  544.490921  547.000908  530.600893  534.290888   6482300   \n",
       " 2010-01-29  538.490905  540.990906  525.610876  529.940896   8311900   \n",
       " 2010-02-01  534.600945  535.810910  530.300883  533.020884   4518400   \n",
       " 2010-02-02  534.960932  534.960932  527.610902  531.120903   8223000   \n",
       " 2010-02-03  528.670892  542.100949  528.230894  540.820899   6020500   \n",
       " 2010-02-04  537.000902  538.000915  525.560885  526.780897   6780600   \n",
       " 2010-02-05  528.400902  533.500888  522.460925  531.290910   6335600   \n",
       " 2010-02-08  532.500936  542.000905  531.530881  533.470930   5408700   \n",
       " 2010-02-09  539.540909  541.530949  535.070901  536.440949   5660200   \n",
       " 2010-02-10  534.070888  537.790902  527.690913  534.450909   5369000   \n",
       " 2010-02-11  533.320894  540.490931  529.500898  536.400943   4838000   \n",
       " 2010-02-12  532.970893  537.150938  530.500910  533.120928   4576400   \n",
       " 2010-02-16  536.870900  544.130933  534.300935  541.300902   7336100   \n",
       " ...                ...         ...         ...         ...       ...   \n",
       " 2017-03-24  820.080017  821.929993  808.890015  814.429993   1970900   \n",
       " 2017-03-27  806.950012  821.630005  803.369995  819.510010   1894300   \n",
       " 2017-03-28  820.409973  825.989990  814.026978  820.919983   1618000   \n",
       " 2017-03-29  825.000000  832.765015  822.380005  831.409973   1796200   \n",
       " 2017-03-30  833.500000  833.679993  829.000000  831.500000   1052800   \n",
       " 2017-03-31  828.969971  831.640015  827.390015  829.559998   1397700   \n",
       " 2017-04-03  829.219971  840.849976  829.219971  838.549988   1670200   \n",
       " 2017-04-04  831.359985  835.179993  829.036011  834.570007   1044400   \n",
       " 2017-04-05  835.510010  842.450012  830.719971  831.409973   1549400   \n",
       " 2017-04-06  832.400024  836.390015  826.460022  827.880005   1251600   \n",
       " 2017-04-07  827.960022  828.484985  820.513000  824.669983   1053300   \n",
       " 2017-04-10  825.390015  829.349976  823.770020  824.729980    952900   \n",
       " 2017-04-11  824.710022  827.427002  817.020020  823.349976   1076500   \n",
       " 2017-04-12  821.929993  826.659973  821.020020  824.320007    894600   \n",
       " 2017-04-13  822.140015  826.380005  821.440002  823.559998   1112500   \n",
       " 2017-04-17  825.010010  837.750000  824.469971  837.169983    892300   \n",
       " 2017-04-18  834.219971  838.929993  832.710022  836.820007    835300   \n",
       " 2017-04-19  839.789978  842.219971  836.289978  838.210022    954200   \n",
       " 2017-04-20  841.440002  845.200012  839.320007  841.650024    957300   \n",
       " 2017-04-21  842.880005  843.880005  840.599976  843.190002   1319300   \n",
       " 2017-04-24  851.200012  863.450012  849.859985  862.760010   1370500   \n",
       " 2017-04-25  865.000000  875.000000  862.809998  872.299988   1669000   \n",
       " 2017-04-26  874.229980  876.049988  867.747986  871.729980   1199000   \n",
       " 2017-04-27  873.599976  875.400024  870.380005  874.250000   1937000   \n",
       " 2017-04-28  910.659973  916.849976  905.770020  905.960022   3219500   \n",
       " 2017-05-01  901.940002  915.679993  901.450012  912.570007   2114600   \n",
       " 2017-05-02  909.619995  920.770020  909.453003  916.440002   1542200   \n",
       " 2017-05-03  914.859985  928.099976  912.543030  927.039978   1489800   \n",
       " 2017-05-04  926.070007  935.929993  924.590027  931.659973   1411600   \n",
       " 2017-05-05  933.539978  934.900024  925.200012  927.130005   1904700   \n",
       " \n",
       "              Adj Close  \n",
       " Date                    \n",
       " 2010-01-04  313.062468  \n",
       " 2010-01-05  311.683844  \n",
       " 2010-01-06  303.826685  \n",
       " 2010-01-07  296.753749  \n",
       " 2010-01-08  300.709808  \n",
       " 2010-01-11  300.255255  \n",
       " 2010-01-12  294.945572  \n",
       " 2010-01-13  293.252243  \n",
       " 2010-01-14  294.630868  \n",
       " 2010-01-15  289.710772  \n",
       " 2010-01-19  293.516976  \n",
       " 2010-01-20  289.915587  \n",
       " 2010-01-21  291.199286  \n",
       " 2010-01-22  274.730736  \n",
       " 2010-01-25  269.730740  \n",
       " 2010-01-26  270.939526  \n",
       " 2010-01-27  270.779695  \n",
       " 2010-01-28  266.878565  \n",
       " 2010-01-29  264.705742  \n",
       " 2010-02-01  266.244198  \n",
       " 2010-02-02  265.295156  \n",
       " 2010-02-03  270.140309  \n",
       " 2010-02-04  263.127321  \n",
       " 2010-02-05  265.380075  \n",
       " 2010-02-08  266.468996  \n",
       " 2010-02-09  267.952522  \n",
       " 2010-02-10  266.958496  \n",
       " 2010-02-11  267.932539  \n",
       " 2010-02-12  266.294170  \n",
       " 2010-02-16  270.380071  \n",
       " ...                ...  \n",
       " 2017-03-24  814.429993  \n",
       " 2017-03-27  819.510010  \n",
       " 2017-03-28  820.919983  \n",
       " 2017-03-29  831.409973  \n",
       " 2017-03-30  831.500000  \n",
       " 2017-03-31  829.559998  \n",
       " 2017-04-03  838.549988  \n",
       " 2017-04-04  834.570007  \n",
       " 2017-04-05  831.409973  \n",
       " 2017-04-06  827.880005  \n",
       " 2017-04-07  824.669983  \n",
       " 2017-04-10  824.729980  \n",
       " 2017-04-11  823.349976  \n",
       " 2017-04-12  824.320007  \n",
       " 2017-04-13  823.559998  \n",
       " 2017-04-17  837.169983  \n",
       " 2017-04-18  836.820007  \n",
       " 2017-04-19  838.210022  \n",
       " 2017-04-20  841.650024  \n",
       " 2017-04-21  843.190002  \n",
       " 2017-04-24  862.760010  \n",
       " 2017-04-25  872.299988  \n",
       " 2017-04-26  871.729980  \n",
       " 2017-04-27  874.250000  \n",
       " 2017-04-28  905.960022  \n",
       " 2017-05-01  912.570007  \n",
       " 2017-05-02  916.440002  \n",
       " 2017-05-03  927.039978  \n",
       " 2017-05-04  931.659973  \n",
       " 2017-05-05  927.130005  \n",
       " \n",
       " [1848 rows x 6 columns],\n",
       " 'IBM':                   Open        High         Low       Close    Volume  \\\n",
       " Date                                                                   \n",
       " 2010-01-04  131.179993  132.970001  130.850006  132.449997   6155300   \n",
       " 2010-01-05  131.679993  131.850006  130.100006  130.850006   6841400   \n",
       " 2010-01-06  130.679993  131.490005  129.809998  130.000000   5605300   \n",
       " 2010-01-07  129.869995  130.250000  128.910004  129.550003   5840600   \n",
       " 2010-01-08  129.070007  130.919998  129.050003  130.850006   4197200   \n",
       " 2010-01-11  131.059998  131.059998  128.669998  129.479996   5730400   \n",
       " 2010-01-12  129.029999  131.330002  129.000000  130.509995   8081500   \n",
       " 2010-01-13  130.389999  131.119995  129.160004  130.229996   6455400   \n",
       " 2010-01-14  130.550003  132.710007  129.910004  132.309998   7111800   \n",
       " 2010-01-15  132.029999  132.889999  131.089996  131.779999   8494400   \n",
       " 2010-01-19  131.630005  134.250000  131.559998  134.139999  13916200   \n",
       " 2010-01-20  130.460007  131.149994  128.949997  130.250000  15197500   \n",
       " 2010-01-21  130.470001  130.690002  128.059998  129.000000   9608600   \n",
       " 2010-01-22  128.669998  128.889999  125.370003  125.500000  10088600   \n",
       " 2010-01-25  126.330002  126.889999  125.709999  126.120003   5738500   \n",
       " 2010-01-26  125.919998  127.750000  125.410004  125.750000   7135300   \n",
       " 2010-01-27  125.820000  126.959999  125.040001  126.330002   8719200   \n",
       " 2010-01-28  127.029999  127.040001  123.050003  123.750000   9622200   \n",
       " 2010-01-29  124.320000  125.000000  121.900002  122.389999  11571200   \n",
       " 2010-02-01  123.230003  124.949997  122.779999  124.669998   7242900   \n",
       " 2010-02-02  124.790001  125.809998  123.949997  125.529999   5899900   \n",
       " 2010-02-03  125.160004  126.070000  125.070000  125.660004   4177100   \n",
       " 2010-02-04  125.190002  125.440002  122.900002  123.000000   9126900   \n",
       " 2010-02-05  123.040001  123.720001  121.830002  123.519997   8617000   \n",
       " 2010-02-08  123.150002  123.220001  121.739998  121.879997   5718500   \n",
       " 2010-02-09  122.650002  124.199997  122.459999  123.209999   6044500   \n",
       " 2010-02-10  122.940002  123.650002  122.209999  122.809998   5219100   \n",
       " 2010-02-11  122.580002  124.199997  122.059998  123.730003   5089000   \n",
       " 2010-02-12  123.010002  124.050003  121.610001  124.000000   8017700   \n",
       " 2010-02-16  124.910004  125.230003  124.110001  125.230003   6777300   \n",
       " ...                ...         ...         ...         ...       ...   \n",
       " 2017-03-24  175.119995  175.500000  173.389999  173.830002   3178900   \n",
       " 2017-03-27  172.690002  174.160004  172.089996  173.770004   3217700   \n",
       " 2017-03-28  173.940002  175.000000  173.000000  174.509995   3506300   \n",
       " 2017-03-29  174.300003  174.490005  173.460007  173.940002   3039600   \n",
       " 2017-03-30  173.860001  174.589996  173.690002  173.860001   3153000   \n",
       " 2017-03-31  173.979996  174.949997  173.690002  174.139999   2911200   \n",
       " 2017-04-03  173.820007  174.869995  173.380005  174.500000   4271600   \n",
       " 2017-04-04  173.520004  174.960007  173.259995  174.520004   3097400   \n",
       " 2017-04-05  174.699997  176.330002  172.809998  172.880005   6199500   \n",
       " 2017-04-06  173.470001  173.470001  172.250000  172.449997   3435400   \n",
       " 2017-04-07  172.080002  172.929993  171.279999  172.139999   3588300   \n",
       " 2017-04-10  172.529999  172.559998  171.000000  171.199997   3789900   \n",
       " 2017-04-11  170.649994  171.229996  168.979996  170.580002   4891900   \n",
       " 2017-04-12  171.039993  171.199997  170.020004  170.660004   3276900   \n",
       " 2017-04-13  169.919998  171.360001  169.529999  169.529999   3205500   \n",
       " 2017-04-17  169.750000  171.300003  169.619995  171.100006   3720200   \n",
       " 2017-04-18  170.789993  171.690002  169.830002  170.050003   6345500   \n",
       " 2017-04-19  161.759995  162.639999  159.600006  161.690002  19284300   \n",
       " 2017-04-20  161.320007  162.399994  160.500000  162.300003   6486800   \n",
       " 2017-04-21  162.050003  162.110001  160.380005  160.380005   5607800   \n",
       " 2017-04-24  161.289993  161.570007  160.419998  160.750000   5320600   \n",
       " 2017-04-25  161.779999  162.039993  160.380005  160.389999   4860400   \n",
       " 2017-04-26  160.529999  161.100006  159.889999  160.059998   4327800   \n",
       " 2017-04-27  160.289993  160.479996  159.630005  160.320007   4122600   \n",
       " 2017-04-28  160.500000  160.589996  159.699997  160.289993   4154100   \n",
       " 2017-05-01  160.050003  160.419998  158.699997  158.839996   4931700   \n",
       " 2017-05-02  159.440002  159.490005  158.639999  159.100006   3208200   \n",
       " 2017-05-03  158.740005  159.449997  158.520004  158.630005   3993300   \n",
       " 2017-05-04  158.889999  159.139999  158.360001  159.050003   4271700   \n",
       " 2017-05-05  153.520004  155.779999  153.000000  155.050003  12514300   \n",
       " \n",
       "              Adj Close  \n",
       " Date                    \n",
       " 2010-01-04  111.405000  \n",
       " 2010-01-05  110.059232  \n",
       " 2010-01-06  109.344283  \n",
       " 2010-01-07  108.965786  \n",
       " 2010-01-08  110.059232  \n",
       " 2010-01-11  108.906903  \n",
       " 2010-01-12  109.773245  \n",
       " 2010-01-13  109.537735  \n",
       " 2010-01-14  111.287245  \n",
       " 2010-01-15  110.841458  \n",
       " 2010-01-19  112.826478  \n",
       " 2010-01-20  109.554561  \n",
       " 2010-01-21  108.503173  \n",
       " 2010-01-22  105.559289  \n",
       " 2010-01-25  106.080779  \n",
       " 2010-01-26  105.769566  \n",
       " 2010-01-27  106.257412  \n",
       " 2010-01-28  104.087347  \n",
       " 2010-01-29  102.943437  \n",
       " 2010-02-01  104.861166  \n",
       " 2010-02-02  105.584521  \n",
       " 2010-02-03  105.693870  \n",
       " 2010-02-04  103.456514  \n",
       " 2010-02-05  103.893889  \n",
       " 2010-02-08  102.972982  \n",
       " 2010-02-09  104.096663  \n",
       " 2010-02-10  103.758713  \n",
       " 2010-02-11  104.536000  \n",
       " 2010-02-12  104.764113  \n",
       " 2010-02-16  105.803308  \n",
       " ...                ...  \n",
       " 2017-03-24  173.830002  \n",
       " 2017-03-27  173.770004  \n",
       " 2017-03-28  174.509995  \n",
       " 2017-03-29  173.940002  \n",
       " 2017-03-30  173.860001  \n",
       " 2017-03-31  174.139999  \n",
       " 2017-04-03  174.500000  \n",
       " 2017-04-04  174.520004  \n",
       " 2017-04-05  172.880005  \n",
       " 2017-04-06  172.449997  \n",
       " 2017-04-07  172.139999  \n",
       " 2017-04-10  171.199997  \n",
       " 2017-04-11  170.580002  \n",
       " 2017-04-12  170.660004  \n",
       " 2017-04-13  169.529999  \n",
       " 2017-04-17  171.100006  \n",
       " 2017-04-18  170.050003  \n",
       " 2017-04-19  161.690002  \n",
       " 2017-04-20  162.300003  \n",
       " 2017-04-21  160.380005  \n",
       " 2017-04-24  160.750000  \n",
       " 2017-04-25  160.389999  \n",
       " 2017-04-26  160.059998  \n",
       " 2017-04-27  160.320007  \n",
       " 2017-04-28  160.289993  \n",
       " 2017-05-01  158.839996  \n",
       " 2017-05-02  159.100006  \n",
       " 2017-05-03  158.630005  \n",
       " 2017-05-04  159.050003  \n",
       " 2017-05-05  155.050003  \n",
       " \n",
       " [1848 rows x 6 columns],\n",
       " 'MSFT':                  Open       High        Low      Close     Volume  Adj Close\n",
       " Date                                                                        \n",
       " 2010-01-04  30.620001  31.100000  30.590000  30.950001   38409100  25.555485\n",
       " 2010-01-05  30.850000  31.100000  30.639999  30.959999   49749600  25.563741\n",
       " 2010-01-06  30.879999  31.080000  30.520000  30.770000   58182400  25.406859\n",
       " 2010-01-07  30.629999  30.700001  30.190001  30.450001   50559700  25.142634\n",
       " 2010-01-08  30.280001  30.879999  30.240000  30.660000   51197400  25.316031\n",
       " 2010-01-11  30.709999  30.760000  30.120001  30.270000   68754700  24.994007\n",
       " 2010-01-12  30.150000  30.400000  29.910000  30.070000   65912100  24.828866\n",
       " 2010-01-13  30.260000  30.520000  30.010000  30.350000   51863500  25.060064\n",
       " 2010-01-14  30.309999  31.100000  30.260000  30.959999   63228100  25.563741\n",
       " 2010-01-15  31.080000  31.240000  30.709999  30.860001   79913200  25.481172\n",
       " 2010-01-19  30.750000  31.240000  30.680000  31.100000   46575700  25.679340\n",
       " 2010-01-20  30.809999  30.940001  30.309999  30.590000   54849500  25.258232\n",
       " 2010-01-21  30.610001  30.719999  30.000000  30.010000   73086700  24.779325\n",
       " 2010-01-22  30.000000  30.200001  28.840000  28.959999  102004600  23.912336\n",
       " 2010-01-25  29.240000  29.660000  29.100000  29.320000   63373000  24.209590\n",
       " 2010-01-26  29.200001  29.850000  29.090000  29.500000   66639900  24.358216\n",
       " 2010-01-27  29.350000  29.820000  29.020000  29.670000   63949500  24.498586\n",
       " 2010-01-28  29.840000  29.870001  28.889999  29.160000  117513700  24.077477\n",
       " 2010-01-29  29.900000  29.920000  27.660000  28.180000  193888500  23.268290\n",
       " 2010-02-01  28.389999  28.480000  27.920000  28.410000   85931100  23.458201\n",
       " 2010-02-02  28.370001  28.500000  28.139999  28.459999   54413700  23.499485\n",
       " 2010-02-03  28.260000  28.790001  28.120001  28.629999   61397900  23.639855\n",
       " 2010-02-04  28.379999  28.500000  27.809999  27.840000   77850000  22.987551\n",
       " 2010-02-05  28.000000  28.280001  27.570000  28.020000   80960100  23.136177\n",
       " 2010-02-08  28.010000  28.080000  27.570000  27.719999   52820600  22.888466\n",
       " 2010-02-09  27.969999  28.340000  27.750000  28.010000   59195800  23.127920\n",
       " 2010-02-10  28.030001  28.240000  27.840000  27.990000   48591300  23.111406\n",
       " 2010-02-11  27.930000  28.400000  27.700001  28.120001   65993700  23.218748\n",
       " 2010-02-12  27.809999  28.059999  27.580000  27.930000   81117200  23.061864\n",
       " 2010-02-16  28.129999  28.370001  28.020000  28.350000   51935600  23.518124\n",
       " ...               ...        ...        ...        ...        ...        ...\n",
       " 2017-03-24  65.360001  65.449997  64.760002  64.980003   22373200  64.980003\n",
       " 2017-03-27  64.629997  65.220001  64.349998  65.099998   18550200  65.099998\n",
       " 2017-03-28  64.959999  65.470001  64.650002  65.290001   20039300  65.290001\n",
       " 2017-03-29  65.120003  65.500000  64.949997  65.470001   13512400  65.470001\n",
       " 2017-03-30  65.419998  65.980003  65.360001  65.709999   15100400  65.709999\n",
       " 2017-03-31  65.650002  66.190002  65.449997  65.860001   21001100  65.860001\n",
       " 2017-04-03  65.809998  65.940002  65.190002  65.550003   20352800  65.550003\n",
       " 2017-04-04  65.389999  65.809998  65.279999  65.730003   12981200  65.730003\n",
       " 2017-04-05  66.300003  66.349998  65.440002  65.559998   21381100  65.559998\n",
       " 2017-04-06  65.599998  66.059998  65.480003  65.730003   18070500  65.730003\n",
       " 2017-04-07  65.849998  65.959999  65.440002  65.680000   13772400  65.680000\n",
       " 2017-04-10  65.610001  65.820000  65.360001  65.529999   17363400  65.529999\n",
       " 2017-04-11  65.599998  65.610001  64.849998  65.480003   18735700  65.480003\n",
       " 2017-04-12  65.419998  65.510002  65.110001  65.230003   17082100  65.230003\n",
       " 2017-04-13  65.290001  65.860001  64.949997  64.949997   17755800  64.949997\n",
       " 2017-04-17  65.040001  65.489998  65.010002  65.480003   16609700  65.480003\n",
       " 2017-04-18  65.330002  65.709999  65.160004  65.389999   15140600  65.389999\n",
       " 2017-04-19  65.650002  65.750000  64.889999  65.040001   22672100  65.040001\n",
       " 2017-04-20  65.459999  65.750000  65.139999  65.500000   22285400  65.500000\n",
       " 2017-04-21  65.669998  66.699997  65.449997  66.400002   32390600  66.400002\n",
       " 2017-04-24  67.480003  67.660004  67.099998  67.529999   29715500  67.529999\n",
       " 2017-04-25  67.900002  68.040001  67.599998  67.919998   30087700  67.919998\n",
       " 2017-04-26  68.080002  68.309998  67.620003  67.830002   25704400  67.830002\n",
       " 2017-04-27  68.150002  68.379997  67.580002  68.269997   33464900  68.269997\n",
       " 2017-04-28  68.910004  69.139999  67.690002  68.459999   39423500  68.459999\n",
       " 2017-05-01  68.680000  69.550003  68.500000  69.410004   31789300  69.410004\n",
       " 2017-05-02  69.709999  69.709999  69.129997  69.300003   23519500  69.300003\n",
       " 2017-05-03  69.379997  69.379997  68.709999  69.080002   28751500  69.080002\n",
       " 2017-05-04  69.029999  69.080002  68.639999  68.809998   21502600  68.809998\n",
       " 2017-05-05  68.900002  69.029999  68.489998  69.000000   18882800  69.000000\n",
       " \n",
       " [1848 rows x 6 columns]}"
      ]
     },
     "execution_count": 450,
     "metadata": {},
     "output_type": "execute_result"
    }
   ],
   "source": [
    "all_data"
   ]
  },
  {
   "cell_type": "code",
   "execution_count": 456,
   "metadata": {},
   "outputs": [],
   "source": [
    "# データの正規化\n",
    "ret=price.pct_change()"
   ]
  },
  {
   "cell_type": "code",
   "execution_count": 457,
   "metadata": {},
   "outputs": [
    {
     "data": {
      "text/plain": [
       "0.40865710773640268"
      ]
     },
     "execution_count": 457,
     "metadata": {},
     "output_type": "execute_result"
    }
   ],
   "source": [
    "# 相関係数\n",
    "ret.AAPL.corr(ret.GOOG)\n"
   ]
  },
  {
   "cell_type": "code",
   "execution_count": 458,
   "metadata": {
    "scrolled": true
   },
   "outputs": [
    {
     "data": {
      "text/plain": [
       "0.00010272624118458177"
      ]
     },
     "execution_count": 458,
     "metadata": {},
     "output_type": "execute_result"
    }
   ],
   "source": [
    "# 共分散\n",
    "ret.AAPL.cov(ret.GOOG)"
   ]
  },
  {
   "cell_type": "code",
   "execution_count": 461,
   "metadata": {},
   "outputs": [
    {
     "data": {
      "text/html": [
       "<div>\n",
       "<table border=\"1\" class=\"dataframe\">\n",
       "  <thead>\n",
       "    <tr style=\"text-align: right;\">\n",
       "      <th></th>\n",
       "      <th>AAPL</th>\n",
       "      <th>GOOG</th>\n",
       "      <th>IBM</th>\n",
       "      <th>MSFT</th>\n",
       "    </tr>\n",
       "  </thead>\n",
       "  <tbody>\n",
       "    <tr>\n",
       "      <th>AAPL</th>\n",
       "      <td>1.000000</td>\n",
       "      <td>0.408657</td>\n",
       "      <td>0.378909</td>\n",
       "      <td>0.390139</td>\n",
       "    </tr>\n",
       "    <tr>\n",
       "      <th>GOOG</th>\n",
       "      <td>0.408657</td>\n",
       "      <td>1.000000</td>\n",
       "      <td>0.399245</td>\n",
       "      <td>0.470659</td>\n",
       "    </tr>\n",
       "    <tr>\n",
       "      <th>IBM</th>\n",
       "      <td>0.378909</td>\n",
       "      <td>0.399245</td>\n",
       "      <td>1.000000</td>\n",
       "      <td>0.491727</td>\n",
       "    </tr>\n",
       "    <tr>\n",
       "      <th>MSFT</th>\n",
       "      <td>0.390139</td>\n",
       "      <td>0.470659</td>\n",
       "      <td>0.491727</td>\n",
       "      <td>1.000000</td>\n",
       "    </tr>\n",
       "  </tbody>\n",
       "</table>\n",
       "</div>"
      ],
      "text/plain": [
       "          AAPL      GOOG       IBM      MSFT\n",
       "AAPL  1.000000  0.408657  0.378909  0.390139\n",
       "GOOG  0.408657  1.000000  0.399245  0.470659\n",
       "IBM   0.378909  0.399245  1.000000  0.491727\n",
       "MSFT  0.390139  0.470659  0.491727  1.000000"
      ]
     },
     "execution_count": 461,
     "metadata": {},
     "output_type": "execute_result"
    }
   ],
   "source": [
    "# 相関係数一覧\n",
    "ret.corr()"
   ]
  },
  {
   "cell_type": "code",
   "execution_count": 463,
   "metadata": {},
   "outputs": [
    {
     "data": {
      "text/plain": [
       "<matplotlib.axes._subplots.AxesSubplot at 0x7f29f041a668>"
      ]
     },
     "execution_count": 463,
     "metadata": {},
     "output_type": "execute_result"
    },
    {
     "data": {
      "image/png": "[encoded data removed]",
      "text/plain": [
       "<matplotlib.figure.Figure at 0x7f29f08a7d68>"
      ]
     },
     "metadata": {},
     "output_type": "display_data"
    }
   ],
   "source": [
    "ret.GOOG.plot()"
   ]
  },
  {
   "cell_type": "code",
   "execution_count": 464,
   "metadata": {},
   "outputs": [
    {
     "name": "stdout",
     "output_type": "stream",
     "text": [
      "Once deleted, variables cannot be recovered. Proceed (y/[n])? y\n"
     ]
    }
   ],
   "source": [
    "%reset"
   ]
  },
  {
   "cell_type": "code",
   "execution_count": null,
   "metadata": {},
   "outputs": [],
   "source": [
    "# Chapter 7"
   ]
  },
  {
   "cell_type": "code",
   "execution_count": 647,
   "metadata": {},
   "outputs": [],
   "source": [
    "import pandas as pd\n",
    "import numpy as np"
   ]
  },
  {
   "cell_type": "code",
   "execution_count": 648,
   "metadata": {},
   "outputs": [
    {
     "data": {
      "text/plain": [
       "0    1.0\n",
       "2    3.5\n",
       "4    7.0\n",
       "dtype: float64"
      ]
     },
     "execution_count": 648,
     "metadata": {},
     "output_type": "execute_result"
    }
   ],
   "source": [
    "# 存在しないデータを落とす\n",
    "from numpy import nan as NA\n",
    "data = pd.Series([1, NA, 3.5, NA, 7])\n",
    "data.dropna()"
   ]
  },
  {
   "cell_type": "code",
   "execution_count": 478,
   "metadata": {},
   "outputs": [
    {
     "data": {
      "text/plain": [
       "0    1.0\n",
       "1    1.0\n",
       "2    3.5\n",
       "3    1.0\n",
       "4    7.0\n",
       "dtype: float64"
      ]
     },
     "execution_count": 478,
     "metadata": {},
     "output_type": "execute_result"
    }
   ],
   "source": [
    "# Filling in Missing Data\n",
    "# NaNデータを埋める\n",
    "data.fillna(1)\n",
    "# filnaは新しいオブジェクトを生成するが、inplaceをTrueにすると既存のオブジェクトを修正する\n",
    "_=data.fillna(1,inplace=True)\n",
    "data"
   ]
  },
  {
   "cell_type": "code",
   "execution_count": 479,
   "metadata": {},
   "outputs": [
    {
     "data": {
      "text/plain": [
       "0    1.000000\n",
       "1    3.833333\n",
       "2    3.500000\n",
       "3    3.833333\n",
       "4    7.000000\n",
       "dtype: float64"
      ]
     },
     "execution_count": 479,
     "metadata": {},
     "output_type": "execute_result"
    }
   ],
   "source": [
    "# 平均値で埋める\n",
    "data2 = pd.Series([1, NA, 3.5, NA, 7])\n",
    "data2.fillna(data2.mean())"
   ]
  },
  {
   "cell_type": "code",
   "execution_count": 483,
   "metadata": {},
   "outputs": [],
   "source": [
    "# Data Transform\n",
    "meat_to_animal = {\n",
    "  'bacon': 'pig',\n",
    "  'pulled pork': 'pig',\n",
    "  'pastrami': 'cow',\n",
    "  'corned beef': 'cow',\n",
    "  'honey ham': 'pig',\n",
    "  'nova lox': 'salmon'\n",
    "}\n",
    "\n",
    "data3 = pd.DataFrame({'food': ['bacon', 'pulled pork', 'bacon', 'Pastrami',\n",
    "'corned beef', 'Bacon', 'pastrami', 'honey ham',\n",
    "'nova lox'],\n",
    "'ounces': [4, 3, 12, 6, 7.5, 8, 3, 5, 6]})\n"
   ]
  },
  {
   "cell_type": "code",
   "execution_count": 650,
   "metadata": {},
   "outputs": [
    {
     "ename": "NameError",
     "evalue": "name 'data3' is not defined",
     "output_type": "error",
     "traceback": [
      "\u001b[0;31m---------------------------------------------------------------------------\u001b[0m",
      "\u001b[0;31mNameError\u001b[0m                                 Traceback (most recent call last)",
      "\u001b[0;32m<ipython-input-650-547c88b64659>\u001b[0m in \u001b[0;36m<module>\u001b[0;34m()\u001b[0m\n\u001b[1;32m      1\u001b[0m \u001b[0;31m# dicから値を変換\u001b[0m\u001b[0;34m\u001b[0m\u001b[0;34m\u001b[0m\u001b[0m\n\u001b[0;32m----> 2\u001b[0;31m \u001b[0mdata3\u001b[0m\u001b[0;34m[\u001b[0m\u001b[0;34m'food'\u001b[0m\u001b[0;34m]\u001b[0m\u001b[0;34m.\u001b[0m\u001b[0mmap\u001b[0m\u001b[0;34m(\u001b[0m\u001b[0;32mlambda\u001b[0m \u001b[0mx\u001b[0m\u001b[0;34m:\u001b[0m\u001b[0mmeat_to_animal\u001b[0m\u001b[0;34m[\u001b[0m\u001b[0mx\u001b[0m\u001b[0;34m.\u001b[0m\u001b[0mlower\u001b[0m\u001b[0;34m(\u001b[0m\u001b[0;34m)\u001b[0m\u001b[0;34m]\u001b[0m\u001b[0;34m)\u001b[0m\u001b[0;34m\u001b[0m\u001b[0m\n\u001b[0m",
      "\u001b[0;31mNameError\u001b[0m: name 'data3' is not defined"
     ]
    }
   ],
   "source": [
    "# dicから値を変換\n",
    "data3['food'].map(lambda x:meat_to_animal[x.lower()])"
   ]
  },
  {
   "cell_type": "code",
   "execution_count": 649,
   "metadata": {},
   "outputs": [
    {
     "data": {
      "text/plain": [
       "0       1.0\n",
       "1       NaN\n",
       "2       2.0\n",
       "3       NaN\n",
       "4   -1000.0\n",
       "5       3.0\n",
       "dtype: float64"
      ]
     },
     "execution_count": 649,
     "metadata": {},
     "output_type": "execute_result"
    }
   ],
   "source": [
    "# あり得ないデータを変換する\n",
    "data5 = pd.Series([1., -999., 2., -999., -1000., 3.])\n",
    "data5.replace(-999,NA )"
   ]
  },
  {
   "cell_type": "code",
   "execution_count": 651,
   "metadata": {},
   "outputs": [
    {
     "data": {
      "text/plain": [
       "100       1.0\n",
       "101    -999.0\n",
       "102       2.0\n",
       "103    -999.0\n",
       "104   -1000.0\n",
       "105       3.0\n",
       "dtype: float64"
      ]
     },
     "execution_count": 651,
     "metadata": {},
     "output_type": "execute_result"
    }
   ],
   "source": [
    "# indexの変換\n",
    "data5.index=data5.index.map(lambda x:x+100)\n",
    "data5"
   ]
  },
  {
   "cell_type": "code",
   "execution_count": 656,
   "metadata": {},
   "outputs": [
    {
     "data": {
      "text/plain": [
       "300       1.0\n",
       "301    -999.0\n",
       "302       2.0\n",
       "303    -999.0\n",
       "304   -1000.0\n",
       "305       3.0\n",
       "dtype: float64"
      ]
     },
     "execution_count": 656,
     "metadata": {},
     "output_type": "execute_result"
    }
   ],
   "source": [
    "# renameでも出来る\n",
    "data5.rename(lambda x:x+100,inplace=True)\n",
    "data5"
   ]
  },
  {
   "cell_type": "code",
   "execution_count": 629,
   "metadata": {},
   "outputs": [
    {
     "data": {
      "text/plain": [
       "[(18, 25], (18, 25], (18, 25], (25, 35], (18, 25], ..., (25, 35], (60, 100], (35, 60], (35, 60], (25, 35]]\n",
       "Length: 12\n",
       "Categories (4, object): [(18, 25] < (25, 35] < (35, 60] < (60, 100]]"
      ]
     },
     "execution_count": 629,
     "metadata": {},
     "output_type": "execute_result"
    }
   ],
   "source": [
    "# カテゴライズ\n",
    "ages = [20, 22, 25, 27, 21, 23, 37, 31, 61, 45, 41, 32]\n",
    "\n",
    "# カテゴリー\n",
    "bins = [18, 25, 35, 60, 100]\n",
    "cats=pd.cut(ages,bins)\n",
    "# ageをカテゴライズ化\n",
    "cats"
   ]
  },
  {
   "cell_type": "code",
   "execution_count": 630,
   "metadata": {},
   "outputs": [
    {
     "ename": "AttributeError",
     "evalue": "'Categorical' object has no attribute 'bar'",
     "output_type": "error",
     "traceback": [
      "\u001b[0;31m---------------------------------------------------------------------------\u001b[0m",
      "\u001b[0;31mAttributeError\u001b[0m                            Traceback (most recent call last)",
      "\u001b[0;32m<ipython-input-630-929c2fd95045>\u001b[0m in \u001b[0;36m<module>\u001b[0;34m()\u001b[0m\n\u001b[0;32m----> 1\u001b[0;31m \u001b[0mcats\u001b[0m\u001b[0;34m.\u001b[0m\u001b[0mbar\u001b[0m\u001b[0;34m\u001b[0m\u001b[0m\n\u001b[0m",
      "\u001b[0;31mAttributeError\u001b[0m: 'Categorical' object has no attribute 'bar'"
     ]
    }
   ],
   "source": []
  },
  {
   "cell_type": "code",
   "execution_count": 508,
   "metadata": {},
   "outputs": [
    {
     "data": {
      "text/plain": [
       "array([0, 0, 0, 1, 0, 0, 2, 1, 3, 2, 2, 1], dtype=int8)"
      ]
     },
     "execution_count": 508,
     "metadata": {},
     "output_type": "execute_result"
    }
   ],
   "source": [
    "# カテゴリ\n",
    "cats.codes"
   ]
  },
  {
   "cell_type": "code",
   "execution_count": 509,
   "metadata": {},
   "outputs": [
    {
     "data": {
      "text/plain": [
       "Index(['(18, 25]', '(25, 35]', '(35, 60]', '(60, 100]'], dtype='object')"
      ]
     },
     "execution_count": 509,
     "metadata": {},
     "output_type": "execute_result"
    }
   ],
   "source": [
    "# カテゴリーの種類\n",
    "cats.categories"
   ]
  },
  {
   "cell_type": "code",
   "execution_count": 531,
   "metadata": {},
   "outputs": [
    {
     "data": {
      "text/plain": [
       "(18, 25]     5\n",
       "(35, 60]     3\n",
       "(25, 35]     3\n",
       "(60, 100]    1\n",
       "dtype: int64"
      ]
     },
     "execution_count": 531,
     "metadata": {},
     "output_type": "execute_result"
    }
   ],
   "source": [
    "# ヒストグラム\n",
    "hist=pd.value_counts(cats)\n",
    "hist"
   ]
  },
  {
   "cell_type": "code",
   "execution_count": null,
   "metadata": {},
   "outputs": [],
   "source": []
  },
  {
   "cell_type": "code",
   "execution_count": 637,
   "metadata": {},
   "outputs": [
    {
     "data": {
      "text/plain": [
       "<matplotlib.axes._subplots.AxesSubplot at 0x7f29ee307940>"
      ]
     },
     "execution_count": 637,
     "metadata": {},
     "output_type": "execute_result"
    },
    {
     "data": {
      "image/png": "[encoded data removed]",
      "text/plain": [
       "<matplotlib.figure.Figure at 0x7f29ee276a90>"
      ]
     },
     "metadata": {},
     "output_type": "display_data"
    }
   ],
   "source": [
    "# 4つに区分\n",
    "rand=np.random.rand(10000)\n",
    "cat2=pd.cut(rand,4,precision=2)\n",
    "data=pd.DataFrame(pd.value_counts(cat2))\n",
    "data.sort_index().plot.bar()"
   ]
  },
  {
   "cell_type": "code",
   "execution_count": 558,
   "metadata": {},
   "outputs": [
    {
     "data": {
      "text/html": [
       "<div>\n",
       "<table border=\"1\" class=\"dataframe\">\n",
       "  <thead>\n",
       "    <tr style=\"text-align: right;\">\n",
       "      <th></th>\n",
       "      <th>key_a</th>\n",
       "      <th>key_b</th>\n",
       "      <th>key_c</th>\n",
       "      <th>key_d</th>\n",
       "      <th>key_e</th>\n",
       "    </tr>\n",
       "  </thead>\n",
       "  <tbody>\n",
       "    <tr>\n",
       "      <th>0</th>\n",
       "      <td>1</td>\n",
       "      <td>0</td>\n",
       "      <td>0</td>\n",
       "      <td>0</td>\n",
       "      <td>0</td>\n",
       "    </tr>\n",
       "    <tr>\n",
       "      <th>1</th>\n",
       "      <td>0</td>\n",
       "      <td>1</td>\n",
       "      <td>0</td>\n",
       "      <td>0</td>\n",
       "      <td>0</td>\n",
       "    </tr>\n",
       "    <tr>\n",
       "      <th>2</th>\n",
       "      <td>0</td>\n",
       "      <td>0</td>\n",
       "      <td>1</td>\n",
       "      <td>0</td>\n",
       "      <td>0</td>\n",
       "    </tr>\n",
       "    <tr>\n",
       "      <th>3</th>\n",
       "      <td>0</td>\n",
       "      <td>0</td>\n",
       "      <td>0</td>\n",
       "      <td>1</td>\n",
       "      <td>0</td>\n",
       "    </tr>\n",
       "    <tr>\n",
       "      <th>4</th>\n",
       "      <td>0</td>\n",
       "      <td>0</td>\n",
       "      <td>0</td>\n",
       "      <td>0</td>\n",
       "      <td>1</td>\n",
       "    </tr>\n",
       "  </tbody>\n",
       "</table>\n",
       "</div>"
      ],
      "text/plain": [
       "   key_a  key_b  key_c  key_d  key_e\n",
       "0      1      0      0      0      0\n",
       "1      0      1      0      0      0\n",
       "2      0      0      1      0      0\n",
       "3      0      0      0      1      0\n",
       "4      0      0      0      0      1"
      ]
     },
     "execution_count": 558,
     "metadata": {},
     "output_type": "execute_result"
    }
   ],
   "source": [
    "# ダミー変数を定義\n",
    "dummy=pd.get_dummies(df2[0],prefix='key')\n",
    "dummy"
   ]
  },
  {
   "cell_type": "code",
   "execution_count": 562,
   "metadata": {},
   "outputs": [
    {
     "data": {
      "text/html": [
       "<div>\n",
       "<table border=\"1\" class=\"dataframe\">\n",
       "  <thead>\n",
       "    <tr style=\"text-align: right;\">\n",
       "      <th></th>\n",
       "      <th>0</th>\n",
       "      <th>key_a</th>\n",
       "      <th>key_b</th>\n",
       "      <th>key_c</th>\n",
       "      <th>key_d</th>\n",
       "      <th>key_e</th>\n",
       "    </tr>\n",
       "  </thead>\n",
       "  <tbody>\n",
       "    <tr>\n",
       "      <th>0</th>\n",
       "      <td>a</td>\n",
       "      <td>1</td>\n",
       "      <td>0</td>\n",
       "      <td>0</td>\n",
       "      <td>0</td>\n",
       "      <td>0</td>\n",
       "    </tr>\n",
       "    <tr>\n",
       "      <th>1</th>\n",
       "      <td>b</td>\n",
       "      <td>0</td>\n",
       "      <td>1</td>\n",
       "      <td>0</td>\n",
       "      <td>0</td>\n",
       "      <td>0</td>\n",
       "    </tr>\n",
       "    <tr>\n",
       "      <th>2</th>\n",
       "      <td>c</td>\n",
       "      <td>0</td>\n",
       "      <td>0</td>\n",
       "      <td>1</td>\n",
       "      <td>0</td>\n",
       "      <td>0</td>\n",
       "    </tr>\n",
       "    <tr>\n",
       "      <th>3</th>\n",
       "      <td>d</td>\n",
       "      <td>0</td>\n",
       "      <td>0</td>\n",
       "      <td>0</td>\n",
       "      <td>1</td>\n",
       "      <td>0</td>\n",
       "    </tr>\n",
       "    <tr>\n",
       "      <th>4</th>\n",
       "      <td>e</td>\n",
       "      <td>0</td>\n",
       "      <td>0</td>\n",
       "      <td>0</td>\n",
       "      <td>0</td>\n",
       "      <td>1</td>\n",
       "    </tr>\n",
       "  </tbody>\n",
       "</table>\n",
       "</div>"
      ],
      "text/plain": [
       "   0  key_a  key_b  key_c  key_d  key_e\n",
       "0  a      1      0      0      0      0\n",
       "1  b      0      1      0      0      0\n",
       "2  c      0      0      1      0      0\n",
       "3  d      0      0      0      1      0\n",
       "4  e      0      0      0      0      1"
      ]
     },
     "execution_count": 562,
     "metadata": {},
     "output_type": "execute_result"
    }
   ],
   "source": [
    "# データの結合\n",
    "df2[[0]].join(dummy)"
   ]
  },
  {
   "cell_type": "code",
   "execution_count": 564,
   "metadata": {},
   "outputs": [
    {
     "data": {
      "text/plain": [
       "(pandas.core.series.Series, pandas.core.frame.DataFrame)"
      ]
     },
     "execution_count": 564,
     "metadata": {},
     "output_type": "execute_result"
    }
   ],
   "source": [
    "# SeriesとDataFrame\n",
    "type(df2[0]),type(df2[[0]])"
   ]
  },
  {
   "cell_type": "code",
   "execution_count": 565,
   "metadata": {},
   "outputs": [
    {
     "data": {
      "text/html": [
       "<div>\n",
       "<table border=\"1\" class=\"dataframe\">\n",
       "  <thead>\n",
       "    <tr style=\"text-align: right;\">\n",
       "      <th></th>\n",
       "      <th>(-0.00092, 0.25]</th>\n",
       "      <th>(0.25, 0.5]</th>\n",
       "      <th>(0.5, 0.75]</th>\n",
       "      <th>(0.75, 1]</th>\n",
       "    </tr>\n",
       "  </thead>\n",
       "  <tbody>\n",
       "    <tr>\n",
       "      <th>0</th>\n",
       "      <td>1</td>\n",
       "      <td>0</td>\n",
       "      <td>0</td>\n",
       "      <td>0</td>\n",
       "    </tr>\n",
       "    <tr>\n",
       "      <th>1</th>\n",
       "      <td>0</td>\n",
       "      <td>0</td>\n",
       "      <td>0</td>\n",
       "      <td>1</td>\n",
       "    </tr>\n",
       "    <tr>\n",
       "      <th>2</th>\n",
       "      <td>1</td>\n",
       "      <td>0</td>\n",
       "      <td>0</td>\n",
       "      <td>0</td>\n",
       "    </tr>\n",
       "    <tr>\n",
       "      <th>3</th>\n",
       "      <td>1</td>\n",
       "      <td>0</td>\n",
       "      <td>0</td>\n",
       "      <td>0</td>\n",
       "    </tr>\n",
       "    <tr>\n",
       "      <th>4</th>\n",
       "      <td>0</td>\n",
       "      <td>0</td>\n",
       "      <td>0</td>\n",
       "      <td>1</td>\n",
       "    </tr>\n",
       "    <tr>\n",
       "      <th>5</th>\n",
       "      <td>1</td>\n",
       "      <td>0</td>\n",
       "      <td>0</td>\n",
       "      <td>0</td>\n",
       "    </tr>\n",
       "    <tr>\n",
       "      <th>6</th>\n",
       "      <td>0</td>\n",
       "      <td>1</td>\n",
       "      <td>0</td>\n",
       "      <td>0</td>\n",
       "    </tr>\n",
       "    <tr>\n",
       "      <th>7</th>\n",
       "      <td>1</td>\n",
       "      <td>0</td>\n",
       "      <td>0</td>\n",
       "      <td>0</td>\n",
       "    </tr>\n",
       "    <tr>\n",
       "      <th>8</th>\n",
       "      <td>0</td>\n",
       "      <td>0</td>\n",
       "      <td>1</td>\n",
       "      <td>0</td>\n",
       "    </tr>\n",
       "    <tr>\n",
       "      <th>9</th>\n",
       "      <td>0</td>\n",
       "      <td>1</td>\n",
       "      <td>0</td>\n",
       "      <td>0</td>\n",
       "    </tr>\n",
       "    <tr>\n",
       "      <th>10</th>\n",
       "      <td>0</td>\n",
       "      <td>1</td>\n",
       "      <td>0</td>\n",
       "      <td>0</td>\n",
       "    </tr>\n",
       "    <tr>\n",
       "      <th>11</th>\n",
       "      <td>0</td>\n",
       "      <td>0</td>\n",
       "      <td>1</td>\n",
       "      <td>0</td>\n",
       "    </tr>\n",
       "    <tr>\n",
       "      <th>12</th>\n",
       "      <td>0</td>\n",
       "      <td>0</td>\n",
       "      <td>0</td>\n",
       "      <td>1</td>\n",
       "    </tr>\n",
       "    <tr>\n",
       "      <th>13</th>\n",
       "      <td>0</td>\n",
       "      <td>0</td>\n",
       "      <td>1</td>\n",
       "      <td>0</td>\n",
       "    </tr>\n",
       "    <tr>\n",
       "      <th>14</th>\n",
       "      <td>0</td>\n",
       "      <td>0</td>\n",
       "      <td>0</td>\n",
       "      <td>1</td>\n",
       "    </tr>\n",
       "    <tr>\n",
       "      <th>15</th>\n",
       "      <td>0</td>\n",
       "      <td>0</td>\n",
       "      <td>1</td>\n",
       "      <td>0</td>\n",
       "    </tr>\n",
       "    <tr>\n",
       "      <th>16</th>\n",
       "      <td>0</td>\n",
       "      <td>0</td>\n",
       "      <td>0</td>\n",
       "      <td>1</td>\n",
       "    </tr>\n",
       "    <tr>\n",
       "      <th>17</th>\n",
       "      <td>0</td>\n",
       "      <td>0</td>\n",
       "      <td>1</td>\n",
       "      <td>0</td>\n",
       "    </tr>\n",
       "    <tr>\n",
       "      <th>18</th>\n",
       "      <td>1</td>\n",
       "      <td>0</td>\n",
       "      <td>0</td>\n",
       "      <td>0</td>\n",
       "    </tr>\n",
       "    <tr>\n",
       "      <th>19</th>\n",
       "      <td>0</td>\n",
       "      <td>0</td>\n",
       "      <td>0</td>\n",
       "      <td>1</td>\n",
       "    </tr>\n",
       "    <tr>\n",
       "      <th>20</th>\n",
       "      <td>0</td>\n",
       "      <td>0</td>\n",
       "      <td>1</td>\n",
       "      <td>0</td>\n",
       "    </tr>\n",
       "    <tr>\n",
       "      <th>21</th>\n",
       "      <td>1</td>\n",
       "      <td>0</td>\n",
       "      <td>0</td>\n",
       "      <td>0</td>\n",
       "    </tr>\n",
       "    <tr>\n",
       "      <th>22</th>\n",
       "      <td>0</td>\n",
       "      <td>0</td>\n",
       "      <td>0</td>\n",
       "      <td>1</td>\n",
       "    </tr>\n",
       "    <tr>\n",
       "      <th>23</th>\n",
       "      <td>0</td>\n",
       "      <td>0</td>\n",
       "      <td>0</td>\n",
       "      <td>1</td>\n",
       "    </tr>\n",
       "    <tr>\n",
       "      <th>24</th>\n",
       "      <td>1</td>\n",
       "      <td>0</td>\n",
       "      <td>0</td>\n",
       "      <td>0</td>\n",
       "    </tr>\n",
       "    <tr>\n",
       "      <th>25</th>\n",
       "      <td>0</td>\n",
       "      <td>1</td>\n",
       "      <td>0</td>\n",
       "      <td>0</td>\n",
       "    </tr>\n",
       "    <tr>\n",
       "      <th>26</th>\n",
       "      <td>1</td>\n",
       "      <td>0</td>\n",
       "      <td>0</td>\n",
       "      <td>0</td>\n",
       "    </tr>\n",
       "    <tr>\n",
       "      <th>27</th>\n",
       "      <td>1</td>\n",
       "      <td>0</td>\n",
       "      <td>0</td>\n",
       "      <td>0</td>\n",
       "    </tr>\n",
       "    <tr>\n",
       "      <th>28</th>\n",
       "      <td>1</td>\n",
       "      <td>0</td>\n",
       "      <td>0</td>\n",
       "      <td>0</td>\n",
       "    </tr>\n",
       "    <tr>\n",
       "      <th>29</th>\n",
       "      <td>0</td>\n",
       "      <td>0</td>\n",
       "      <td>0</td>\n",
       "      <td>1</td>\n",
       "    </tr>\n",
       "    <tr>\n",
       "      <th>...</th>\n",
       "      <td>...</td>\n",
       "      <td>...</td>\n",
       "      <td>...</td>\n",
       "      <td>...</td>\n",
       "    </tr>\n",
       "    <tr>\n",
       "      <th>9970</th>\n",
       "      <td>1</td>\n",
       "      <td>0</td>\n",
       "      <td>0</td>\n",
       "      <td>0</td>\n",
       "    </tr>\n",
       "    <tr>\n",
       "      <th>9971</th>\n",
       "      <td>0</td>\n",
       "      <td>1</td>\n",
       "      <td>0</td>\n",
       "      <td>0</td>\n",
       "    </tr>\n",
       "    <tr>\n",
       "      <th>9972</th>\n",
       "      <td>1</td>\n",
       "      <td>0</td>\n",
       "      <td>0</td>\n",
       "      <td>0</td>\n",
       "    </tr>\n",
       "    <tr>\n",
       "      <th>9973</th>\n",
       "      <td>0</td>\n",
       "      <td>0</td>\n",
       "      <td>0</td>\n",
       "      <td>1</td>\n",
       "    </tr>\n",
       "    <tr>\n",
       "      <th>9974</th>\n",
       "      <td>0</td>\n",
       "      <td>0</td>\n",
       "      <td>1</td>\n",
       "      <td>0</td>\n",
       "    </tr>\n",
       "    <tr>\n",
       "      <th>9975</th>\n",
       "      <td>0</td>\n",
       "      <td>0</td>\n",
       "      <td>1</td>\n",
       "      <td>0</td>\n",
       "    </tr>\n",
       "    <tr>\n",
       "      <th>9976</th>\n",
       "      <td>0</td>\n",
       "      <td>0</td>\n",
       "      <td>0</td>\n",
       "      <td>1</td>\n",
       "    </tr>\n",
       "    <tr>\n",
       "      <th>9977</th>\n",
       "      <td>1</td>\n",
       "      <td>0</td>\n",
       "      <td>0</td>\n",
       "      <td>0</td>\n",
       "    </tr>\n",
       "    <tr>\n",
       "      <th>9978</th>\n",
       "      <td>0</td>\n",
       "      <td>0</td>\n",
       "      <td>1</td>\n",
       "      <td>0</td>\n",
       "    </tr>\n",
       "    <tr>\n",
       "      <th>9979</th>\n",
       "      <td>1</td>\n",
       "      <td>0</td>\n",
       "      <td>0</td>\n",
       "      <td>0</td>\n",
       "    </tr>\n",
       "    <tr>\n",
       "      <th>9980</th>\n",
       "      <td>1</td>\n",
       "      <td>0</td>\n",
       "      <td>0</td>\n",
       "      <td>0</td>\n",
       "    </tr>\n",
       "    <tr>\n",
       "      <th>9981</th>\n",
       "      <td>0</td>\n",
       "      <td>0</td>\n",
       "      <td>1</td>\n",
       "      <td>0</td>\n",
       "    </tr>\n",
       "    <tr>\n",
       "      <th>9982</th>\n",
       "      <td>0</td>\n",
       "      <td>0</td>\n",
       "      <td>1</td>\n",
       "      <td>0</td>\n",
       "    </tr>\n",
       "    <tr>\n",
       "      <th>9983</th>\n",
       "      <td>1</td>\n",
       "      <td>0</td>\n",
       "      <td>0</td>\n",
       "      <td>0</td>\n",
       "    </tr>\n",
       "    <tr>\n",
       "      <th>9984</th>\n",
       "      <td>0</td>\n",
       "      <td>0</td>\n",
       "      <td>1</td>\n",
       "      <td>0</td>\n",
       "    </tr>\n",
       "    <tr>\n",
       "      <th>9985</th>\n",
       "      <td>0</td>\n",
       "      <td>1</td>\n",
       "      <td>0</td>\n",
       "      <td>0</td>\n",
       "    </tr>\n",
       "    <tr>\n",
       "      <th>9986</th>\n",
       "      <td>1</td>\n",
       "      <td>0</td>\n",
       "      <td>0</td>\n",
       "      <td>0</td>\n",
       "    </tr>\n",
       "    <tr>\n",
       "      <th>9987</th>\n",
       "      <td>0</td>\n",
       "      <td>0</td>\n",
       "      <td>0</td>\n",
       "      <td>1</td>\n",
       "    </tr>\n",
       "    <tr>\n",
       "      <th>9988</th>\n",
       "      <td>0</td>\n",
       "      <td>0</td>\n",
       "      <td>1</td>\n",
       "      <td>0</td>\n",
       "    </tr>\n",
       "    <tr>\n",
       "      <th>9989</th>\n",
       "      <td>1</td>\n",
       "      <td>0</td>\n",
       "      <td>0</td>\n",
       "      <td>0</td>\n",
       "    </tr>\n",
       "    <tr>\n",
       "      <th>9990</th>\n",
       "      <td>1</td>\n",
       "      <td>0</td>\n",
       "      <td>0</td>\n",
       "      <td>0</td>\n",
       "    </tr>\n",
       "    <tr>\n",
       "      <th>9991</th>\n",
       "      <td>0</td>\n",
       "      <td>1</td>\n",
       "      <td>0</td>\n",
       "      <td>0</td>\n",
       "    </tr>\n",
       "    <tr>\n",
       "      <th>9992</th>\n",
       "      <td>0</td>\n",
       "      <td>0</td>\n",
       "      <td>0</td>\n",
       "      <td>1</td>\n",
       "    </tr>\n",
       "    <tr>\n",
       "      <th>9993</th>\n",
       "      <td>0</td>\n",
       "      <td>0</td>\n",
       "      <td>0</td>\n",
       "      <td>1</td>\n",
       "    </tr>\n",
       "    <tr>\n",
       "      <th>9994</th>\n",
       "      <td>0</td>\n",
       "      <td>1</td>\n",
       "      <td>0</td>\n",
       "      <td>0</td>\n",
       "    </tr>\n",
       "    <tr>\n",
       "      <th>9995</th>\n",
       "      <td>1</td>\n",
       "      <td>0</td>\n",
       "      <td>0</td>\n",
       "      <td>0</td>\n",
       "    </tr>\n",
       "    <tr>\n",
       "      <th>9996</th>\n",
       "      <td>1</td>\n",
       "      <td>0</td>\n",
       "      <td>0</td>\n",
       "      <td>0</td>\n",
       "    </tr>\n",
       "    <tr>\n",
       "      <th>9997</th>\n",
       "      <td>0</td>\n",
       "      <td>0</td>\n",
       "      <td>0</td>\n",
       "      <td>1</td>\n",
       "    </tr>\n",
       "    <tr>\n",
       "      <th>9998</th>\n",
       "      <td>0</td>\n",
       "      <td>1</td>\n",
       "      <td>0</td>\n",
       "      <td>0</td>\n",
       "    </tr>\n",
       "    <tr>\n",
       "      <th>9999</th>\n",
       "      <td>0</td>\n",
       "      <td>0</td>\n",
       "      <td>0</td>\n",
       "      <td>1</td>\n",
       "    </tr>\n",
       "  </tbody>\n",
       "</table>\n",
       "<p>10000 rows × 4 columns</p>\n",
       "</div>"
      ],
      "text/plain": [
       "      (-0.00092, 0.25]  (0.25, 0.5]  (0.5, 0.75]  (0.75, 1]\n",
       "0                    1            0            0          0\n",
       "1                    0            0            0          1\n",
       "2                    1            0            0          0\n",
       "3                    1            0            0          0\n",
       "4                    0            0            0          1\n",
       "5                    1            0            0          0\n",
       "6                    0            1            0          0\n",
       "7                    1            0            0          0\n",
       "8                    0            0            1          0\n",
       "9                    0            1            0          0\n",
       "10                   0            1            0          0\n",
       "11                   0            0            1          0\n",
       "12                   0            0            0          1\n",
       "13                   0            0            1          0\n",
       "14                   0            0            0          1\n",
       "15                   0            0            1          0\n",
       "16                   0            0            0          1\n",
       "17                   0            0            1          0\n",
       "18                   1            0            0          0\n",
       "19                   0            0            0          1\n",
       "20                   0            0            1          0\n",
       "21                   1            0            0          0\n",
       "22                   0            0            0          1\n",
       "23                   0            0            0          1\n",
       "24                   1            0            0          0\n",
       "25                   0            1            0          0\n",
       "26                   1            0            0          0\n",
       "27                   1            0            0          0\n",
       "28                   1            0            0          0\n",
       "29                   0            0            0          1\n",
       "...                ...          ...          ...        ...\n",
       "9970                 1            0            0          0\n",
       "9971                 0            1            0          0\n",
       "9972                 1            0            0          0\n",
       "9973                 0            0            0          1\n",
       "9974                 0            0            1          0\n",
       "9975                 0            0            1          0\n",
       "9976                 0            0            0          1\n",
       "9977                 1            0            0          0\n",
       "9978                 0            0            1          0\n",
       "9979                 1            0            0          0\n",
       "9980                 1            0            0          0\n",
       "9981                 0            0            1          0\n",
       "9982                 0            0            1          0\n",
       "9983                 1            0            0          0\n",
       "9984                 0            0            1          0\n",
       "9985                 0            1            0          0\n",
       "9986                 1            0            0          0\n",
       "9987                 0            0            0          1\n",
       "9988                 0            0            1          0\n",
       "9989                 1            0            0          0\n",
       "9990                 1            0            0          0\n",
       "9991                 0            1            0          0\n",
       "9992                 0            0            0          1\n",
       "9993                 0            0            0          1\n",
       "9994                 0            1            0          0\n",
       "9995                 1            0            0          0\n",
       "9996                 1            0            0          0\n",
       "9997                 0            0            0          1\n",
       "9998                 0            1            0          0\n",
       "9999                 0            0            0          1\n",
       "\n",
       "[10000 rows x 4 columns]"
      ]
     },
     "execution_count": 565,
     "metadata": {},
     "output_type": "execute_result"
    }
   ],
   "source": [
    "# ヒストグラムを変換\n",
    "\n",
    "pd.get_dummies(cat2)"
   ]
  },
  {
   "cell_type": "code",
   "execution_count": 639,
   "metadata": {},
   "outputs": [
    {
     "data": {
      "text/html": [
       "<div>\n",
       "<table border=\"1\" class=\"dataframe\">\n",
       "  <thead>\n",
       "    <tr style=\"text-align: right;\">\n",
       "      <th></th>\n",
       "      <th>0</th>\n",
       "      <th>1</th>\n",
       "      <th>2</th>\n",
       "      <th>3</th>\n",
       "      <th>4</th>\n",
       "    </tr>\n",
       "  </thead>\n",
       "  <tbody>\n",
       "    <tr>\n",
       "      <th>0</th>\n",
       "      <td>0.329449</td>\n",
       "      <td>0.933070</td>\n",
       "      <td>0.697154</td>\n",
       "      <td>0.547004</td>\n",
       "      <td>0.926735</td>\n",
       "    </tr>\n",
       "    <tr>\n",
       "      <th>1</th>\n",
       "      <td>0.795754</td>\n",
       "      <td>0.894760</td>\n",
       "      <td>0.882601</td>\n",
       "      <td>0.618861</td>\n",
       "      <td>0.606557</td>\n",
       "    </tr>\n",
       "    <tr>\n",
       "      <th>2</th>\n",
       "      <td>0.337063</td>\n",
       "      <td>0.097638</td>\n",
       "      <td>0.946316</td>\n",
       "      <td>0.683491</td>\n",
       "      <td>0.538150</td>\n",
       "    </tr>\n",
       "    <tr>\n",
       "      <th>3</th>\n",
       "      <td>0.168841</td>\n",
       "      <td>0.707970</td>\n",
       "      <td>0.490729</td>\n",
       "      <td>0.881536</td>\n",
       "      <td>0.733951</td>\n",
       "    </tr>\n",
       "    <tr>\n",
       "      <th>4</th>\n",
       "      <td>0.968355</td>\n",
       "      <td>0.355699</td>\n",
       "      <td>0.214025</td>\n",
       "      <td>0.123920</td>\n",
       "      <td>0.098408</td>\n",
       "    </tr>\n",
       "  </tbody>\n",
       "</table>\n",
       "</div>"
      ],
      "text/plain": [
       "          0         1         2         3         4\n",
       "0  0.329449  0.933070  0.697154  0.547004  0.926735\n",
       "1  0.795754  0.894760  0.882601  0.618861  0.606557\n",
       "2  0.337063  0.097638  0.946316  0.683491  0.538150\n",
       "3  0.168841  0.707970  0.490729  0.881536  0.733951\n",
       "4  0.968355  0.355699  0.214025  0.123920  0.098408"
      ]
     },
     "execution_count": 639,
     "metadata": {},
     "output_type": "execute_result"
    }
   ],
   "source": [
    "# データのキャップ\n",
    "data=pd.DataFrame(np.random.rand(5,5))\n",
    "# 0.5以上が含まれている行を削除\n",
    "data[(np.abs(data) > 0.5).any(axis=1)]\n"
   ]
  },
  {
   "cell_type": "code",
   "execution_count": 641,
   "metadata": {
    "scrolled": true
   },
   "outputs": [
    {
     "data": {
      "text/html": [
       "<div>\n",
       "<table border=\"1\" class=\"dataframe\">\n",
       "  <thead>\n",
       "    <tr style=\"text-align: right;\">\n",
       "      <th></th>\n",
       "      <th>0</th>\n",
       "      <th>1</th>\n",
       "      <th>2</th>\n",
       "      <th>3</th>\n",
       "      <th>4</th>\n",
       "    </tr>\n",
       "  </thead>\n",
       "  <tbody>\n",
       "    <tr>\n",
       "      <th>0</th>\n",
       "      <td>0.329449</td>\n",
       "      <td>0.500000</td>\n",
       "      <td>0.500000</td>\n",
       "      <td>0.50000</td>\n",
       "      <td>0.500000</td>\n",
       "    </tr>\n",
       "    <tr>\n",
       "      <th>1</th>\n",
       "      <td>0.500000</td>\n",
       "      <td>0.500000</td>\n",
       "      <td>0.500000</td>\n",
       "      <td>0.50000</td>\n",
       "      <td>0.500000</td>\n",
       "    </tr>\n",
       "    <tr>\n",
       "      <th>2</th>\n",
       "      <td>0.337063</td>\n",
       "      <td>0.097638</td>\n",
       "      <td>0.500000</td>\n",
       "      <td>0.50000</td>\n",
       "      <td>0.500000</td>\n",
       "    </tr>\n",
       "    <tr>\n",
       "      <th>3</th>\n",
       "      <td>0.168841</td>\n",
       "      <td>0.500000</td>\n",
       "      <td>0.490729</td>\n",
       "      <td>0.50000</td>\n",
       "      <td>0.500000</td>\n",
       "    </tr>\n",
       "    <tr>\n",
       "      <th>4</th>\n",
       "      <td>0.500000</td>\n",
       "      <td>0.355699</td>\n",
       "      <td>0.214025</td>\n",
       "      <td>0.12392</td>\n",
       "      <td>0.098408</td>\n",
       "    </tr>\n",
       "  </tbody>\n",
       "</table>\n",
       "</div>"
      ],
      "text/plain": [
       "          0         1         2        3         4\n",
       "0  0.329449  0.500000  0.500000  0.50000  0.500000\n",
       "1  0.500000  0.500000  0.500000  0.50000  0.500000\n",
       "2  0.337063  0.097638  0.500000  0.50000  0.500000\n",
       "3  0.168841  0.500000  0.490729  0.50000  0.500000\n",
       "4  0.500000  0.355699  0.214025  0.12392  0.098408"
      ]
     },
     "execution_count": 641,
     "metadata": {},
     "output_type": "execute_result"
    }
   ],
   "source": [
    "# 0.5以上ならば、0.5とする\n",
    "data[np.abs(data) > 0.5] = np.sign(data) * 0.5\n",
    "data"
   ]
  },
  {
   "cell_type": "markdown",
   "metadata": {},
   "source": [
    "![](スクリーンショット 2017-05-07 18.41.51.png)"
   ]
  },
  {
   "cell_type": "markdown",
   "metadata": {},
   "source": [
    "![](スクリーンショット 2017-05-07 18.41.41.png)"
   ]
  },
  {
   "cell_type": "code",
   "execution_count": 563,
   "metadata": {},
   "outputs": [
    {
     "data": {
      "text/plain": [
       "(pandas.core.series.Series, pandas.core.frame.DataFrame)"
      ]
     },
     "execution_count": 563,
     "metadata": {},
     "output_type": "execute_result"
    }
   ],
   "source": []
  },
  {
   "cell_type": "markdown",
   "metadata": {},
   "source": [
    "![](スクリーンショット 2017-05-07 18.41.51.png)"
   ]
  },
  {
   "cell_type": "code",
   "execution_count": 566,
   "metadata": {},
   "outputs": [
    {
     "name": "stdout",
     "output_type": "stream",
     "text": [
      "Once deleted, variables cannot be recovered. Proceed (y/[n])? y\n"
     ]
    }
   ],
   "source": [
    "%reset"
   ]
  },
  {
   "cell_type": "markdown",
   "metadata": {},
   "source": [
    "## Chaper 9"
   ]
  },
  {
   "cell_type": "code",
   "execution_count": 8,
   "metadata": {},
   "outputs": [],
   "source": [
    "import numpy as np\n",
    "import pandas as pd\n",
    "import matplotlib.pyplot as plt\n",
    "%matplotlib inline"
   ]
  },
  {
   "cell_type": "code",
   "execution_count": null,
   "metadata": {},
   "outputs": [],
   "source": [
    "Making informative visualizations \n",
    "(sometimes called plots) is one of the most important tasks in \n",
    "data analysis. It may be a part of the exploratory process; for\n",
    "example, helping identify outliers, needed data transformations, \n",
    "or coming up with ideas for models. For others, building an interactive visualization\n",
    "for the web may be the end goal. Python has many add-on libraries for making static \n",
    "or dynamic visualizations, but I’ll be mainly focused on matplotlib (http://matplotlib.sourceforge.net)\n",
    "and libraries that build on top of matplotlib.\n"
   ]
  },
  {
   "cell_type": "code",
   "execution_count": 623,
   "metadata": {
    "scrolled": true
   },
   "outputs": [
    {
     "data": {
      "image/png": "[encoded data removed]",
      "text/plain": [
       "<matplotlib.figure.Figure at 0x7f29ee55b7b8>"
      ]
     },
     "metadata": {},
     "output_type": "display_data"
    }
   ],
   "source": [
    "fig = plt.figure() \n",
    "# 4つのプロットを作成し、その一つ目を定義\n",
    "ax1 = fig.add_subplot(2, 2, 1)\n",
    "ax2 = fig.add_subplot(2, 2,2)\n",
    "ax3 = fig.add_subplot(2, 2,4)"
   ]
  },
  {
   "cell_type": "code",
   "execution_count": 624,
   "metadata": {},
   "outputs": [
    {
     "data": {
      "image/png": "[encoded data removed]",
      "text/plain": [
       "<matplotlib.figure.Figure at 0x7f29ee55b7b8>"
      ]
     },
     "execution_count": 624,
     "metadata": {},
     "output_type": "execute_result"
    }
   ],
   "source": [
    "ax1.hist(np.random.rand(1000),bins=20,color='k')\n",
    "ax1.figure"
   ]
  },
  {
   "cell_type": "code",
   "execution_count": 625,
   "metadata": {},
   "outputs": [
    {
     "data": {
      "image/png": "[encoded data removed]",
      "text/plain": [
       "<matplotlib.figure.Figure at 0x7f29ee55b7b8>"
      ]
     },
     "execution_count": 625,
     "metadata": {},
     "output_type": "execute_result"
    }
   ],
   "source": [
    "ax2.scatter(np.arange(30),np.arange(30)*np.random.randn(30))\n",
    "ax2.figure"
   ]
  },
  {
   "cell_type": "code",
   "execution_count": null,
   "metadata": {},
   "outputs": [],
   "source": []
  },
  {
   "cell_type": "code",
   "execution_count": 628,
   "metadata": {
    "scrolled": false
   },
   "outputs": [
    {
     "data": {
      "image/png": "[encoded data removed]",
      "text/plain": [
       "<matplotlib.figure.Figure at 0x7f29ee55b7b8>"
      ]
     },
     "execution_count": 628,
     "metadata": {},
     "output_type": "execute_result"
    }
   ],
   "source": [
    "ax3.plot(np.random.randn(50).cumsum(), 'k--')\n",
    "ax3.figure"
   ]
  },
  {
   "cell_type": "markdown",
   "metadata": {},
   "source": [
    "## 継承実験"
   ]
  },
  {
   "cell_type": "code",
   "execution_count": 43,
   "metadata": {},
   "outputs": [],
   "source": [
    "class A(object):\n",
    "    def __init__(self,level,name):\n",
    "            print(\"A:level\"+ level)\n",
    "    \n",
    "\n",
    "class B(A):\n",
    "    def __init__(self,level,name):\n",
    "        super().__init__(level,name)\n",
    "        print(\"Blevel\"+level*2+name)\n",
    "        \n",
    "class C(B,A):\n",
    "    def __init__(self,level,name):\n",
    "        super().__init__(level,name)\n",
    "        print(\"C\"+level)"
   ]
  },
  {
   "cell_type": "code",
   "execution_count": 27,
   "metadata": {},
   "outputs": [
    {
     "name": "stdout",
     "output_type": "stream",
     "text": [
      "A:level1\n"
     ]
    }
   ],
   "source": [
    "a=A(\"1\")"
   ]
  },
  {
   "cell_type": "code",
   "execution_count": 44,
   "metadata": {},
   "outputs": [
    {
     "name": "stdout",
     "output_type": "stream",
     "text": [
      "A:level1\n",
      "Blevel11B\n",
      "C1\n"
     ]
    }
   ],
   "source": [
    "b=C(\"1\",\"B\")"
   ]
  },
  {
   "cell_type": "code",
   "execution_count": 46,
   "metadata": {},
   "outputs": [
    {
     "name": "stdout",
     "output_type": "stream",
     "text": [
      "\n",
      "    Sum of array elements over a given axis.\n",
      "\n",
      "    Parameters\n",
      "    ----------\n",
      "    a : array_like\n",
      "        Elements to sum.\n",
      "    axis : None or int or tuple of ints, optional\n",
      "        Axis or axes along which a sum is performed.  The default,\n",
      "        axis=None, will sum all of the elements of the input array.  If\n",
      "        axis is negative it counts from the last to the first axis.\n",
      "\n",
      "        .. versionadded:: 1.7.0\n",
      "\n",
      "        If axis is a tuple of ints, a sum is performed on all of the axes\n",
      "        specified in the tuple instead of a single axis or all the axes as\n",
      "        before.\n",
      "    dtype : dtype, optional\n",
      "        The type of the returned array and of the accumulator in which the\n",
      "        elements are summed.  The dtype of `a` is used by default unless `a`\n",
      "        has an integer dtype of less precision than the default platform\n",
      "        integer.  In that case, if `a` is signed then the platform integer\n",
      "        is used while if `a` is unsigned then an unsigned integer of the\n",
      "        same precision as the platform integer is used.\n",
      "    out : ndarray, optional\n",
      "        Alternative output array in which to place the result. It must have\n",
      "        the same shape as the expected output, but the type of the output\n",
      "        values will be cast if necessary.\n",
      "    keepdims : bool, optional\n",
      "        If this is set to True, the axes which are reduced are left\n",
      "        in the result as dimensions with size one. With this option,\n",
      "        the result will broadcast correctly against the input array.\n",
      "\n",
      "        If the default value is passed, then `keepdims` will not be\n",
      "        passed through to the `sum` method of sub-classes of\n",
      "        `ndarray`, however any non-default value will be.  If the\n",
      "        sub-classes `sum` method does not implement `keepdims` any\n",
      "        exceptions will be raised.\n",
      "\n",
      "    Returns\n",
      "    -------\n",
      "    sum_along_axis : ndarray\n",
      "        An array with the same shape as `a`, with the specified\n",
      "        axis removed.   If `a` is a 0-d array, or if `axis` is None, a scalar\n",
      "        is returned.  If an output array is specified, a reference to\n",
      "        `out` is returned.\n",
      "\n",
      "    See Also\n",
      "    --------\n",
      "    ndarray.sum : Equivalent method.\n",
      "\n",
      "    cumsum : Cumulative sum of array elements.\n",
      "\n",
      "    trapz : Integration of array values using the composite trapezoidal rule.\n",
      "\n",
      "    mean, average\n",
      "\n",
      "    Notes\n",
      "    -----\n",
      "    Arithmetic is modular when using integer types, and no error is\n",
      "    raised on overflow.\n",
      "\n",
      "    The sum of an empty array is the neutral element 0:\n",
      "\n",
      "    >>> np.sum([])\n",
      "    0.0\n",
      "\n",
      "    Examples\n",
      "    --------\n",
      "    >>> np.sum([0.5, 1.5])\n",
      "    2.0\n",
      "    >>> np.sum([0.5, 0.7, 0.2, 1.5], dtype=np.int32)\n",
      "    1\n",
      "    >>> np.sum([[0, 1], [0, 5]])\n",
      "    6\n",
      "    >>> np.sum([[0, 1], [0, 5]], axis=0)\n",
      "    array([0, 6])\n",
      "    >>> np.sum([[0, 1], [0, 5]], axis=1)\n",
      "    array([1, 5])\n",
      "\n",
      "    If the accumulator is too small, overflow occurs:\n",
      "\n",
      "    >>> np.ones(128, dtype=np.int8).sum(dtype=np.int8)\n",
      "    -128\n",
      "\n",
      "    \n"
     ]
    }
   ],
   "source": [
    "\n",
    "pd."
   ]
  },
  {
   "cell_type": "code",
   "execution_count": 70,
   "metadata": {},
   "outputs": [],
   "source": [
    "class A:\n",
    "    level=1\n",
    "    def __init__(self,level):\n",
    "        sel.level=level\n",
    "        \n",
    "    @classmethod\n",
    "    def get(cls):\n",
    "        return cls.level\n",
    "    \n",
    "    @staticmethod\n",
    "    def hoge(v):\n",
    "        return v * 2\n",
    "    \n",
    "    def get_as_instance(self):\n",
    "        return self.level"
   ]
  },
  {
   "cell_type": "code",
   "execution_count": 67,
   "metadata": {},
   "outputs": [],
   "source": [
    "a = A(2)"
   ]
  },
  {
   "cell_type": "code",
   "execution_count": 68,
   "metadata": {},
   "outputs": [
    {
     "data": {
      "text/plain": [
       "2"
      ]
     },
     "execution_count": 68,
     "metadata": {},
     "output_type": "execute_result"
    }
   ],
   "source": [
    "a.get()"
   ]
  },
  {
   "cell_type": "code",
   "execution_count": 69,
   "metadata": {},
   "outputs": [
    {
     "data": {
      "text/plain": [
       "2"
      ]
     },
     "execution_count": 69,
     "metadata": {},
     "output_type": "execute_result"
    }
   ],
   "source": [
    "a.get_as_instance()"
   ]
  },
  {
   "cell_type": "code",
   "execution_count": 64,
   "metadata": {
    "scrolled": true
   },
   "outputs": [
    {
     "data": {
      "text/plain": [
       "8"
      ]
     },
     "execution_count": 64,
     "metadata": {},
     "output_type": "execute_result"
    }
   ],
   "source": [
    "a.hoge(4)"
   ]
  },
  {
   "cell_type": "code",
   "execution_count": 65,
   "metadata": {},
   "outputs": [
    {
     "data": {
      "text/plain": [
       "1"
      ]
     },
     "execution_count": 65,
     "metadata": {},
     "output_type": "execute_result"
    }
   ],
   "source": [
    "A.level"
   ]
  }
 ],
 "metadata": {
  "kernelspec": {
   "display_name": "Python 3",
   "language": "python",
   "name": "python3"
  },
  "language_info": {
   "codemirror_mode": {
    "name": "ipython",
    "version": 3
   },
   "file_extension": ".py",
   "mimetype": "text/x-python",
   "name": "python",
   "nbconvert_exporter": "python",
   "pygments_lexer": "ipython3",
   "version": "3.6.0"
  },
  "toc": {
   "colors": {
    "hover_highlight": "#DAA520",
    "navigate_num": "#000000",
    "navigate_text": "#333333",
    "running_highlight": "#FF0000",
    "selected_highlight": "#FFD700",
    "sidebar_border": "#EEEEEE",
    "wrapper_background": "#FFFFFF"
   },
   "moveMenuLeft": true,
   "nav_menu": {
    "height": "48px",
    "width": "252px"
   },
   "navigate_menu": true,
   "number_sections": true,
   "sideBar": true,
   "threshold": 4,
   "toc_cell": false,
   "toc_section_display": "block",
   "toc_window_display": false,
   "widenNotebook": false
  }
 },
 "nbformat": 4,
 "nbformat_minor": 2
}
