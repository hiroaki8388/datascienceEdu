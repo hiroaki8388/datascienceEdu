{
 "cells": [
  {
   "cell_type": "code",
   "execution_count": 55,
   "metadata": {
    "codeCollapsed": false,
    "collapsed": false,
    "deletable": true,
    "editable": true,
    "hiddenCell": true
   },
   "outputs": [],
   "source": [
    "# !pip install  apache_beam\n",
    "# !pip install timezonefinder "
   ]
  },
  {
   "cell_type": "code",
   "execution_count": 53,
   "metadata": {
    "collapsed": false,
    "deletable": true,
    "editable": true
   },
   "outputs": [],
   "source": [
    "import warnings\n",
    "warnings.filterwarnings('ignore')"
   ]
  },
  {
   "cell_type": "code",
   "execution_count": 54,
   "metadata": {
    "collapsed": false,
    "deletable": true,
    "editable": true
   },
   "outputs": [],
   "source": [
    "import apache_beam as beam\n",
    "import csv"
   ]
  },
  {
   "cell_type": "markdown",
   "metadata": {
    "deletable": true,
    "editable": true
   },
   "source": [
    "ファイルからid,緯度経度を抽出"
   ]
  },
  {
   "cell_type": "code",
   "execution_count": 56,
   "metadata": {
    "collapsed": false,
    "deletable": true,
    "editable": true
   },
   "outputs": [],
   "source": [
    "with beam.Pipeline('DirectRunner') as pipeline:\n",
    "\n",
    "  # データの読み込み、フィルタリング\n",
    "  airports=(pipeline\n",
    "            | beam.io.ReadFromText('airports.csv.gz')\n",
    "            | beam.Map(lambda line:next(csv.reader([line])))\n",
    "            # 空港のid,緯度、経度のcolumnのみ取得\n",
    "            | beam.Map(lambda fields : (fields[0],(fields[21],fields[26])))\n",
    "           )\n",
    "\n",
    "  # データのパース、書き込み\n",
    "  airports | beam.Map(lambda (airport,data):'{},{}'.format(airport,','.join(data))) | beam.io.textio.WriteToText('extracted_airports')\n",
    "\n",
    "  pipeline.run()"
   ]
  },
  {
   "cell_type": "markdown",
   "metadata": {
    "collapsed": true,
    "deletable": true,
    "editable": true
   },
   "source": [
    "緯度経度からtimezoneを変換"
   ]
  },
  {
   "cell_type": "code",
   "execution_count": 57,
   "metadata": {
    "collapsed": false,
    "deletable": true,
    "editable": true
   },
   "outputs": [],
   "source": [
    "def add_timezone(lat,lon):\n",
    "  try:\n",
    "    # 内部でimport するのはDataflowだと推奨されている\n",
    "    # https://cloud.google.com/dataflow/faq\n",
    "    import timezonefinder\n",
    "    tf=timezonefinder.TimezoneFinder()\n",
    "    tz=tf.timezone_at(lng=float(lon),lat=float(lat))\n",
    "    \n",
    "    if tz is None:\n",
    "      tz='UTC'\n",
    "    return (lat,lon,tz)\n",
    "  \n",
    "  except ValueError:\n",
    "    return(lat,lon,'TIMEZONE')"
   ]
  },
  {
   "cell_type": "code",
   "execution_count": 46,
   "metadata": {
    "collapsed": false,
    "deletable": true,
    "editable": true
   },
   "outputs": [
    {
     "name": "stderr",
     "output_type": "stream",
     "text": [
      "/usr/local/envs/py2env/lib/python2.7/site-packages/simplejson/encoder.py:286: DeprecationWarning: Interpreting naive datetime as local 2018-05-19 08:51:57.013660. Please add timezone info to timestamps.\n",
      "  chunks = self.iterencode(o, _one_shot=True)\n"
     ]
    }
   ],
   "source": [
    "with beam.Pipeline('DirectRunner') as pipeline:\n",
    "\n",
    "  # データの読み込み、フィルタリング\n",
    "  airports=(pipeline\n",
    "            | beam.io.ReadFromText('airports.csv.gz')\n",
    "            # headerは飛ばす\n",
    "            | beam.Map(lambda line:next(csv.reader([line])))\n",
    "            # 空港のid,緯度、経度のcolumnのみ取得し、tzに変換\n",
    "            | beam.Map(lambda fields : (fields[0],add_timezone(fields[21],fields[26])))\n",
    "           )\n",
    "\n",
    "  # データのパース、書き込み\n",
    "  airports | beam.Map(lambda (airport,data):'{},{}'.format(airport,','.join(data))) | beam.io.textio.WriteToText('extracted_airports')\n",
    "\n",
    "  pipeline.run()"
   ]
  },
  {
   "cell_type": "code",
   "execution_count": 61,
   "metadata": {
    "collapsed": false,
    "deletable": true,
    "editable": true
   },
   "outputs": [
    {
     "name": "stdout",
     "output_type": "stream",
     "text": [
      "usage: storage [-h] {copy,create,delete,list,read,view,write} ...\n",
      "\n",
      "Execute various storage-related operations. Use \"%storage <command> -h\" for\n",
      "help on a specific command.\n",
      "\n",
      "positional arguments:\n",
      "  {copy,create,delete,list,read,view,write}\n",
      "                        commands\n",
      "    copy                Copy one or more GCS objects to a different location.\n",
      "    create              Create one or more GCS buckets.\n",
      "    delete              Delete one or more GCS buckets or objects.\n",
      "    list                List buckets in a project, or contents of a bucket.\n",
      "    read                Read the contents of a storage object into a Python\n",
      "                        variable.\n",
      "    view                View the contents of a storage object.\n",
      "    write               Write the value of a Python variable to a storage\n",
      "                        object.\n",
      "\n",
      "optional arguments:\n",
      "  -h, --help            show this help message and exit\n",
      "None\n"
     ]
    }
   ],
   "source": [
    "%storage --h"
   ]
  },
  {
   "cell_type": "code",
   "execution_count": 58,
   "metadata": {
    "collapsed": false,
    "deletable": true,
    "editable": true
   },
   "outputs": [
    {
     "data": {
      "text/html": [
       "<table><tr><th>Bucket</th><th>Created</th></tr><tr><td>gs://csv-data-bucket</td><td>2018-04-15 11:56:35.082000+00:00</td></tr><tr><td>gs://data-science-on-the-gcp.appspot.com</td><td>2018-04-15 11:54:22.540000+00:00</td></tr><tr><td>gs://staging.data-science-on-the-gcp.appspot.com</td><td>2018-04-15 11:54:22.648000+00:00</td></tr></table>"
      ],
      "text/plain": [
       "<IPython.core.display.HTML object>"
      ]
     },
     "execution_count": 58,
     "metadata": {},
     "output_type": "execute_result"
    }
   ],
   "source": [
    "# GSに予め保存した離着陸データを取得\n",
    "%storage list"
   ]
  },
  {
   "cell_type": "code",
   "execution_count": 68,
   "metadata": {
    "collapsed": false,
    "deletable": true,
    "editable": true
   },
   "outputs": [
    {
     "data": {
      "text/html": [
       "<table><tr><th>Name</th><th>Type</th><th>Size</th><th>Updated</th></tr><tr><td>flights/1.csv</td><td>text/csv</td><td>77169964</td><td>2018-04-15 12:01:38.031000+00:00</td></tr><tr><td>flights/3.csv</td><td>text/csv</td><td>83821611</td><td>2018-04-15 12:01:37.414000+00:00</td></tr></table>"
      ],
      "text/plain": [
       "<IPython.core.display.HTML object>"
      ]
     },
     "execution_count": 68,
     "metadata": {},
     "output_type": "execute_result"
    }
   ],
   "source": [
    "%storage list -b  gs://csv-data-bucket"
   ]
  },
  {
   "cell_type": "code",
   "execution_count": 80,
   "metadata": {
    "collapsed": false,
    "deletable": true,
    "editable": true
   },
   "outputs": [
    {
     "data": {
      "text/plain": [
       "u'\"FL_DATE\",\"UNIQUE_CARRIER\",\"AIRLINE_ID\",\"CARRIER\",\"FL_NUM\",\"ORIGIN_AIRPORT_ID\",\"ORIGIN_AIRPORT_SEQ_ID\",\"ORIGIN_CITY_MARKET_ID\",\"ORIGIN\",\"DEST_AIRPORT_ID\",\"DEST_AIRPORT_SEQ_ID\",\"DEST_CITY_MARKET_ID\",\"DEST\",\"CRS_DEP_TIME\",\"DEP_TIME\",\"DEP_DELAY\",\"TAXI_OUT\",\"WHEELS_OFF\",\"WHEELS_ON\",\"TAXI_IN\",\"CRS_ARR_TIME\",\"ARR_TIME\",\"ARR_DELAY\",\"CANCELLED\",\"CANCELLATION_CODE\",\"DIVERTED\",\"DISTANCE\",\\n2017-01-01,\"AA\",19805,\"AA\",\"1766\",13930,1393004,30977,\"ORD\",11298,1129804,30194,\"DFW\",\"0710\",\"0705\",-5.00,12.00,\"0717\",\"0918\",14.00,\"0948\",\"0932\",-16.00,0.00,\"\",0.00,802.00,\\n2017-01-01,\"AA\",19805,\"AA\",\"1767\",12889,1288903,32211,\"LAS\",11298,1129804,30194,\"DFW\",\"1235\",\"1235\",0.00,11.00,\"1246\",\"1703\",14.00,\"1718\",\"1717\",-1.00,0.00,\"\",0.00,1055.00,\\n2017-01-01,\"AA\",19805,\"AA\",\"1768\",11278,1127803,30852,\"DCA\",13303,1330303,32467,\"MIA\",\"1020\",\"1015\",-5.00,20.00,\"1035\",\"1246\",7.00,\"1313\",\"1253\",-20.00,0.00,\"\",0.00,919.00,\\n2017-01-01,\"AA\",19805,\"AA\",\"1769\",15304,1530402,33195,\"TPA\",13303,1330303,32467,\"MIA\",\"0730\",\"0719\",-11.00,11.00,\"0730\",\"0808\",10.00,\"0833\",\"0818\",-15.00,0.00,\"\",0.00,204.00,\\n2017-01-01,\"AA\",19805,\"AA\",\"1770\",14100,1410002,34100,\"PHL\",14027,1402702,34027,\"PBI\",\"1015\",\"1011\",-4.00,28.00,\"1039\",\"1259\",6.00,\"1312\",\"1305\",-7.00,0.00,\"\",0.00,951.00,\\n2017-01-01,\"AA\",19805,\"AA\",\"1770\",14122,1412202,30198,\"PIT\",14100,1410002,34100,\"PHL\",\"0705\",\"0658\",-7.00,34.00,\"0732\",\"0820\",4.00,\"0832\",\"0824\",-8.00,0.00,\"\",0.00,268.00,\\n2017-01-01,\"AA\",19805,\"AA\",\"1772\",11057,1105703,31057,\"CLT\",11298,1129804,30194,\"DFW\",\"0925\",\"0925\",0.00,18.00,\"0943\",\"1104\",12.00,\"1122\",\"1116\",-6.00,0.00,\"\",0.00,936.00,\\n2017-01-01,\"AA\",19805,\"AA\",\"1774\",11057,1105703,31057,\"CLT\",11433,1143302,31295,\"DTW\",\"2220\",\"2229\",9.00,20.00,\"2249\",\"2400\",5.00,\"0006\",\"0005\",-1.00,0.00,\"\",0.00,500.00,\\n2017-01-01,\"AA\",19805,\"AA\",\"1775\",11057,1105703,31057,\"CLT\",11298,1129804,30194,\"DFW\",\"1615\",\"1611\",-4.00,17.00,\"1628\",\"1752\",38.00,\"1815\",\"1830\",15.00,0.00,\"\",0.00,936.00,\\n2017-01-01,\"AA\",19805,\"AA\",\"1775\",11697,1169704,32467,\"FLL\",11057,1105703,31057,\"CLT\",\"1305\",\"1258\",-7.00,14.00,\"1312\",\"1452\",12.00,\"1504\",\"1504\",0.00,0.00,\"\",0.00,632.00,\\n2017-01-01,\"AA\",19805,\"AA\",\"1776\",11278,1127803,30852,\"DCA\",13303,1330303,32467,\"MIA\",\"1732\",\"1726\",-6.00,12.00,\"1738\",\"1949\",42.00,\"2034\",\"2031\",-3.00,0.00,\"\",0.00,919.00,\\n2017-01-01,\"AA\",19805,\"AA\",\"1776\",13303,1330303,32467,\"MIA\",11278,1127803,30852,\"DCA\",\"1410\",\"1517\",67.00,10.00,\"1527\",\"1725\",16.00,\"1642\",\"1741\",59.00,0.00,\"\",0.00,919.00,\\n2017-01-01,\"AA\",19805,\"AA\",\"1780\",12339,1233904,32337,\"IND\",11057,1105703,31057,\"CLT\",\"0700\",\"0653\",-7.00,29.00,\"0722\",\"0836\",10.00,\"0849\",\"0846\",-3.00,0.00,\"\",0.00,427.00,\\n2017-01-01,\"AA\",19805,\"AA\",\"1782\",11057,1105703,31057,\"CLT\",14492,1449202,34492,\"RDU\",\"0939\",\"0937\",-2.00,18.00,\"0955\",\"1028\",2.00,\"1035\",\"1030\",-5.00,0.00,\"\",0.00,130.00,\\n2017-01-01,\"AA\",19805,\"AA\",\"1783\",11057,1105703,31057,\"CLT\",10721,1072102,30721,\"BOS\",\"2029\",\"2149\",80.00,13.00,\"2202\",\"2331\",7.00,\"2238\",\"2338\",60.00,0.00,\"\",0.00,728.00,\\n2017-01-01,\"AA\",19805,\"AA\",\"1783\",12892,1289204,32575,\"LAX\",11057,1105703,31057,\"CLT\",\"1147\",\"1158\",11.00,16.00,\"1214\",\"1916\",10.00,\"1925\",\"1926\",1.00,0.00,\"\",0.00,2125.00,\\n2017-01-01,\"AA\",19805,\"AA\",\"1785\",11057,1105703,31057,\"CLT\",13931,1393102,33667,\"ORF\",\"2011\",\"2019\",8.00,30.00,\"2049\",\"2134\",3.00,\"2122\",\"2137\",15.00,0.00,\"\",0.00,290.00,\\n2017-01-01,\"AA\",19805,\"AA\",\"1785\",15016,1501603,31123,\"STL\",11057,1105703,31057,\"CLT\",\"1617\",\"1616\",-1.00,13.00,\"1629\",\"1850\",17.00,\"1905\",\"1907\",2.00,0.00,\"\",0.00,575.00,\\n2017-01-01,\"AA\",19805,\"AA\",\"1786\",14100,1410002,34100,\"PHL\",13204,1320402,31454,\"MCO\",\"1750\",\"1746\",-4.00,21.00,\"1807\",\"2019\",10.00,\"2030\",\"2029\",-1.00,0.00,\"\",0.00,861.00,\\n...\\n2017-01-31,\"NK\",20416,\"NK\",\"953\",12892,1289204,32575,\"LAX\",13796,1379604,32457,\"OAK\",\"1307\",\"1258\",-9.00,10.00,\"1308\",\"1359\",6.00,\"1429\",\"1405\",-24.00,0.00,\"\",0.00,337.00,\\n2017-01-31,\"NK\",20416,\"NK\",\"954\",12889,1288903,32211,\"LAS\",11697,1169704,32467,\"FLL\",\"2230\",\"2230\",0.00,17.00,\"2247\",\"0557\",11.00,\"0554\",\"0608\",14.00,0.00,\"\",0.00,2173.00,\\n2017-01-31,\"NK\",20416,\"NK\",\"955\",13495,1349503,33495,\"MSY\",12892,1289204,32575,\"LAX\",\"1810\",\"1802\",-8.00,10.00,\"1812\",\"1949\",7.00,\"2031\",\"1956\",-35.00,0.00,\"\",0.00,1670.00,\\n2017-01-31,\"NK\",20416,\"NK\",\"957\",12892,1289204,32575,\"LAX\",13796,1379604,32457,\"OAK\",\"1913\",\"2140\",147.00,14.00,\"2154\",\"2244\",6.00,\"2030\",\"2250\",140.00,0.00,\"\",0.00,337.00,\\n2017-01-31,\"NK\",20416,\"NK\",\"958\",14635,1463502,31714,\"RSW\",10721,1072102,30721,\"BOS\",\"2059\",\"2038\",-21.00,8.00,\"2046\",\"2314\",8.00,\"2359\",\"2322\",-37.00,0.00,\"\",0.00,1249.00,\\n2017-01-31,\"NK\",20416,\"NK\",\"960\",14635,1463502,31714,\"RSW\",11042,1104203,30647,\"CLE\",\"1830\",\"1822\",-8.00,15.00,\"1837\",\"2053\",9.00,\"2106\",\"2102\",-4.00,0.00,\"\",0.00,1025.00,\\n2017-01-31,\"NK\",20416,\"NK\",\"967\",11042,1104203,30647,\"CLE\",14635,1463502,31714,\"RSW\",\"1447\",\"1447\",0.00,21.00,\"1508\",\"1723\",4.00,\"1733\",\"1727\",-6.00,0.00,\"\",0.00,1025.00,\\n2017-01-31,\"NK\",20416,\"NK\",\"970\",11292,1129202,30325,\"DEN\",11697,1169704,32467,\"FLL\",\"2338\",\"2334\",-4.00,12.00,\"2346\",\"0456\",7.00,\"0518\",\"0503\",-15.00,0.00,\"\",0.00,1703.00,\\n2017-01-31,\"NK\",20416,\"NK\",\"971\",11298,1129804,30194,\"DFW\",14107,1410702,30466,\"PHX\",\"2326\",\"2312\",-14.00,12.00,\"2324\",\"0023\",5.00,\"0055\",\"0028\",-27.00,0.00,\"\",0.00,868.00,\\n2017-01-31,\"NK\",20416,\"NK\",\"971\",11697,1169704,32467,\"FLL\",11298,1129804,30194,\"DFW\",\"2030\",\"2023\",-7.00,11.00,\"2034\",\"2207\",7.00,\"2241\",\"2214\",-27.00,0.00,\"\",0.00,1119.00,\\n2017-01-31,\"NK\",20416,\"NK\",\"972\",11298,1129804,30194,\"DFW\",11697,1169704,32467,\"FLL\",\"0600\",\"0558\",-2.00,12.00,\"0610\",\"0931\",7.00,\"0938\",\"0938\",0.00,0.00,\"\",0.00,1119.00,\\n2017-01-31,\"NK\",20416,\"NK\",\"972\",14107,1410702,30466,\"PHX\",11298,1129804,30194,\"DFW\",\"0205\",\"0159\",-6.00,10.00,\"0209\",\"0504\",9.00,\"0512\",\"0513\",1.00,0.00,\"\",0.00,868.00,\\n2017-01-31,\"NK\",20416,\"NK\",\"975\",11433,1143302,31295,\"DTW\",11292,1129202,30325,\"DEN\",\"1722\",\"1727\",5.00,32.00,\"1759\",\"1855\",10.00,\"1840\",\"1905\",25.00,0.00,\"\",0.00,1123.00,\\n2017-01-31,\"NK\",20416,\"NK\",\"976\",11292,1129202,30325,\"DEN\",11433,1143302,31295,\"DTW\",\"1930\",\"1954\",24.00,15.00,\"2009\",\"0011\",7.00,\"0017\",\"0018\",1.00,0.00,\"\",0.00,1123.00,\\n2017-01-31,\"NK\",20416,\"NK\",\"985\",11433,1143302,31295,\"DTW\",13495,1349503,33495,\"MSY\",\"1038\",\"1040\",2.00,36.00,\"1116\",\"1223\",7.00,\"1218\",\"1230\",12.00,0.00,\"\",0.00,926.00,\\n2017-01-31,\"NK\",20416,\"NK\",\"990\",12892,1289204,32575,\"LAX\",14057,1405702,34057,\"PDX\",\"1417\",\"1404\",-13.00,9.00,\"1413\",\"1608\",9.00,\"1645\",\"1617\",-28.00,0.00,\"\",0.00,834.00,\\n2017-01-31,\"NK\",20416,\"NK\",\"991\",14057,1405702,34057,\"PDX\",12892,1289204,32575,\"LAX\",\"1728\",\"1721\",-7.00,9.00,\"1730\",\"1927\",7.00,\"1943\",\"1934\",-9.00,0.00,\"\",0.00,834.00,\\n2017-01-31,\"NK\",20416,\"NK\",\"992\",13495,1349503,33495,\"MSY\",13930,1393004,30977,\"ORD\",\"1648\",\"1633\",-15.00,10.00,\"1643\",\"1844\",12.00,\"1916\",\"1856\",-20.00,0.00,\"\",0.00,837.00,\\n2017-01-31,\"NK\",20416,\"NK\",\"992\",13930,1393004,30977,\"ORD\",10821,1082104,30852,\"BWI\",\"2001\",\"1951\",-10.00,15.00,\"2006\",\"2220\",4.00,\"2249\",\"2224\",-25.00,0.00,\"\",0.00,622.00,\\n'"
      ]
     },
     "execution_count": 80,
     "metadata": {},
     "output_type": "execute_result"
    }
   ],
   "source": [
    "%storage view -o gs://csv-data-bucket/flights/1.csv "
   ]
  },
  {
   "cell_type": "code",
   "execution_count": 72,
   "metadata": {
    "collapsed": true,
    "deletable": true,
    "editable": true
   },
   "outputs": [],
   "source": []
  },
  {
   "cell_type": "code",
   "execution_count": null,
   "metadata": {
    "collapsed": true,
    "deletable": true,
    "editable": true
   },
   "outputs": [],
   "source": []
  },
  {
   "cell_type": "code",
   "execution_count": null,
   "metadata": {
    "collapsed": true,
    "deletable": true,
    "editable": true
   },
   "outputs": [],
   "source": []
  },
  {
   "cell_type": "code",
   "execution_count": null,
   "metadata": {
    "collapsed": true,
    "deletable": true,
    "editable": true
   },
   "outputs": [],
   "source": []
  }
 ],
 "metadata": {
  "kernelspec": {
   "display_name": "Python 2",
   "language": "python",
   "name": "python2"
  },
  "language_info": {
   "codemirror_mode": {
    "name": "ipython",
    "version": 2
   },
   "file_extension": ".py",
   "mimetype": "text/x-python",
   "name": "python",
   "nbconvert_exporter": "python",
   "pygments_lexer": "ipython2",
   "version": "2.7.15"
  }
 },
 "nbformat": 4,
 "nbformat_minor": 2
}
