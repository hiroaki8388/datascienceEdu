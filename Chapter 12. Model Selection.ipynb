{
 "cells": [
  {
   "cell_type": "markdown",
   "metadata": {},
   "source": [
    "# ある特定の範囲のなかで最適なパラメータを発見したい"
   ]
  },
  {
   "cell_type": "code",
   "execution_count": 26,
   "metadata": {},
   "outputs": [
    {
     "data": {
      "text/plain": [
       "0.9210526315789473"
      ]
     },
     "execution_count": 26,
     "metadata": {},
     "output_type": "execute_result"
    }
   ],
   "source": [
    "import numpy as np\n",
    "from sklearn import  linear_model,datasets\n",
    "from sklearn.model_selection import train_test_split,GridSearchCV\n",
    "from sklearn.metrics import accuracy_score\n",
    "\n",
    "\n",
    "\n",
    "\n",
    "iris=datasets.load_iris()\n",
    "features=iris.data\n",
    "target=iris.target\n",
    "f_train,f_test,t_train,t_test=train_test_split(features,target,random_state=1)\n",
    "\n",
    "logit=linear_model.LogisticRegression()\n",
    "\n",
    "penalty=['l1','l2']\n",
    "C=np.logspace(0,4,10)\n",
    "\n",
    "hypers=dict(C=C,penalty=penalty)\n",
    "\n",
    "# verboseを1~3に設定すると、実行経過のログを出力する\n",
    "gridsearch=GridSearchCV(logit,hypers,cv=5,verbose=0)\n",
    "\n",
    "best_model=gridsearch.fit(f_train,t_train)\n",
    "t_pred=best_model.predict(f_test)\n",
    "accuracy_score(t_pred,t_test)"
   ]
  },
  {
   "cell_type": "code",
   "execution_count": 31,
   "metadata": {},
   "outputs": [
    {
     "name": "stdout",
     "output_type": "stream",
     "text": [
      "best penalty is l2\n",
      "best C is 2.7825594022071245\n"
     ]
    }
   ],
   "source": [
    "print(f'best penalty is {best_model.best_estimator_.get_params()[\"penalty\"]}')\n",
    "print(f'best C is {best_model.best_estimator_.get_params()[\"C\"]}')"
   ]
  },
  {
   "cell_type": "markdown",
   "metadata": {},
   "source": [
    "# 比較的安価な方法でパラメータサーチを行いたい"
   ]
  },
  {
   "cell_type": "code",
   "execution_count": 43,
   "metadata": {},
   "outputs": [],
   "source": [
    "from scipy.stats import  uniform\n",
    "from sklearn import  linear_model,datasets\n",
    "from sklearn.model_selection import RandomizedSearchCV\n",
    "\n",
    "iris=datasets.load_iris()\n",
    "features=iris.data\n",
    "target=iris.target\n",
    "\n",
    "f_train,f_test,t_train,t_test=train_test_split(features,target,random_state=1)\n",
    "\n",
    "logit=linear_model.LogisticRegression()\n",
    "\n",
    "penalty=['l1','l2']\n",
    "\n",
    "# パラメータ候補をランダムに生成するジェネレータ\n",
    "C=uniform(loc=0,scale=4)\n",
    "\n",
    "hypers=dict(C=C,penalty=penalty)\n",
    "\n",
    "random_search=RandomizedSearchCV(\n",
    "logit,\n",
    "hypers,\n",
    "random_state=1,\n",
    "n_iter=100,\n",
    "cv=5,\n",
    "verbose=0)\n",
    "\n",
    "best_model=random_search.fit(f_train,t_train)"
   ]
  },
  {
   "cell_type": "code",
   "execution_count": 44,
   "metadata": {
    "scrolled": false
   },
   "outputs": [
    {
     "data": {
      "text/plain": [
       "0.9210526315789473"
      ]
     },
     "execution_count": 44,
     "metadata": {},
     "output_type": "execute_result"
    }
   ],
   "source": [
    "t_pred=best_model.predict(f_test)\n",
    "accuracy_score(t_pred,t_test)"
   ]
  },
  {
   "cell_type": "markdown",
   "metadata": {},
   "source": [
    "精度はGridSearchとほぼ変わらない"
   ]
  },
  {
   "cell_type": "code",
   "execution_count": 46,
   "metadata": {},
   "outputs": [
    {
     "name": "stdout",
     "output_type": "stream",
     "text": [
      "best penalty is l2\n",
      "best C is 3.730229437354635\n"
     ]
    }
   ],
   "source": [
    "print(f'best penalty is {best_model.best_estimator_.get_params()[\"penalty\"]}')\n",
    "\n",
    "print(f'best C is {best_model.best_estimator_.get_params()[\"C\"]}')"
   ]
  },
  {
   "cell_type": "markdown",
   "metadata": {},
   "source": [
    "# 最適なアルゴリズムとパラメータを見つけたい"
   ]
  },
  {
   "cell_type": "code",
   "execution_count": 65,
   "metadata": {},
   "outputs": [],
   "source": [
    "import numpy as np\n",
    "from sklearn import  datasets\n",
    "from sklearn.linear_model import LogisticRegression\n",
    "from sklearn.ensemble import RandomForestClassifier\n",
    "from sklearn.model_selection import GridSearchCV,train_test_split\n",
    "from sklearn.pipeline import Pipeline\n",
    "\n",
    "np.random.seed(0)\n",
    "\n",
    "iris=datasets.load_iris()\n",
    "features=iris.data\n",
    "target=iris.target\n",
    "\n",
    "f_train,f_test,t_train,t_test=train_test_split(features,target,random_state=1)\n",
    "# GridSearchに導入する際の初期値\n",
    "pipe=Pipeline([('classifier',RandomForestClassifier())])\n",
    "\n",
    "# 最近のsklearnの場合、アルゴリズムもパラメータとして指定可能\n",
    "# パラメータはclassifier__[hyperparameter name]の形で指定\n",
    "search_space=[\n",
    "    dict(\n",
    "    classifier=[LogisticRegression()],\n",
    "    classifier__penalty=['l1','l2'],\n",
    "    classifier__C=np.logspace(0,4,10)\n",
    "    ),\n",
    "    dict(\n",
    "    classifier=[RandomForestClassifier()],\n",
    "    classifier__n_estimators=[10,100,1000],\n",
    "    classifier__max_features=[1,2,3]\n",
    "    )\n",
    "]\n",
    "\n",
    "gridsearch=GridSearchCV(pipe,search_space,cv=5,verbose=0)\n",
    "best_model=gridsearch.fit(f_train,t_train)"
   ]
  },
  {
   "cell_type": "code",
   "execution_count": 67,
   "metadata": {},
   "outputs": [
    {
     "name": "stdout",
     "output_type": "stream",
     "text": [
      "             precision    recall  f1-score   support\n",
      "\n",
      "          0       1.00      1.00      1.00        13\n",
      "          1       0.81      1.00      0.90        13\n",
      "          2       1.00      0.75      0.86        12\n",
      "\n",
      "avg / total       0.94      0.92      0.92        38\n",
      "\n"
     ]
    }
   ],
   "source": [
    "from sklearn.metrics import  classification_report\n",
    "\n",
    "print(classification_report(best_model.predict(f_test),t_test))"
   ]
  },
  {
   "cell_type": "markdown",
   "metadata": {},
   "source": [
    "精度が上２つの例よりも上昇"
   ]
  },
  {
   "cell_type": "code",
   "execution_count": 69,
   "metadata": {},
   "outputs": [
    {
     "name": "stdout",
     "output_type": "stream",
     "text": [
      "best algorisim is LogisticRegression(C=2.7825594022071245, class_weight=None, dual=False,\n",
      "          fit_intercept=True, intercept_scaling=1, max_iter=100,\n",
      "          multi_class='ovr', n_jobs=1, penalty='l2', random_state=None,\n",
      "          solver='liblinear', tol=0.0001, verbose=0, warm_start=False)\n"
     ]
    }
   ],
   "source": [
    "print(f'best algorisim is {best_model.best_estimator_.get_params()[\"classifier\"]}')"
   ]
  },
  {
   "cell_type": "markdown",
   "metadata": {},
   "source": [
    "# 最適な前処理方法を見つけたい"
   ]
  },
  {
   "cell_type": "code",
   "execution_count": 87,
   "metadata": {},
   "outputs": [
    {
     "name": "stdout",
     "output_type": "stream",
     "text": [
      "Fitting 5 folds for each of 60 candidates, totalling 300 fits\n"
     ]
    },
    {
     "name": "stderr",
     "output_type": "stream",
     "text": [
      "[Parallel(n_jobs=1)]: Done 300 out of 300 | elapsed:    1.7s finished\n"
     ]
    }
   ],
   "source": [
    "from sklearn.pipeline import  Pipeline,FeatureUnion\n",
    "from sklearn.decomposition import PCA\n",
    "from sklearn.preprocessing import StandardScaler\n",
    "\n",
    "np.random.seed(0)\n",
    "\n",
    "# 前処理方法をpipelineに乗せるために結合\n",
    "preprocessing=FeatureUnion([('std',StandardScaler()),('pca',PCA())])\n",
    "\n",
    "pipe=Pipeline([('preprocess',preprocessing),('classifier',LogisticRegression())])\n",
    "\n",
    "# 探索するパラメータの範囲\n",
    "search_space=[\n",
    "    dict(\n",
    "        preprocess__pca__n_components=[1,2,3],\n",
    "        classifier__penalty=['l1','l2'],\n",
    "        classifier__C=np.logspace(0,4,10)\n",
    "    )\n",
    "]\n",
    "\n",
    "clif=GridSearchCV(pipe,search_space,cv=5,verbose=1)\n",
    "best_model=clif.fit(f_train,t_train)"
   ]
  },
  {
   "cell_type": "code",
   "execution_count": 85,
   "metadata": {},
   "outputs": [
    {
     "name": "stdout",
     "output_type": "stream",
     "text": [
      "             precision    recall  f1-score   support\n",
      "\n",
      "          0       1.00      1.00      1.00        13\n",
      "          1       0.81      1.00      0.90        13\n",
      "          2       1.00      0.75      0.86        12\n",
      "\n",
      "avg / total       0.94      0.92      0.92        38\n",
      "\n"
     ]
    }
   ],
   "source": [
    "print(\n",
    "classification_report(best_model.predict(f_test),t_test))"
   ]
  },
  {
   "cell_type": "code",
   "execution_count": 82,
   "metadata": {},
   "outputs": [
    {
     "data": {
      "text/plain": [
       "1"
      ]
     },
     "execution_count": 82,
     "metadata": {},
     "output_type": "execute_result"
    }
   ],
   "source": [
    "best_model.best_estimator_.get_params()['preprocess__pca__n_components']"
   ]
  },
  {
   "cell_type": "markdown",
   "metadata": {},
   "source": [
    "# モデル選定後のMetrixを出力したい"
   ]
  },
  {
   "cell_type": "markdown",
   "metadata": {},
   "source": [
    "- パラメータサーチのため全データを使ってしまい、Metrixが出力できない問題\n",
    "- そのため\n",
    "    -  パラメータ選択のためのcv(inner cv)をGridSearchでおこない\n",
    "    - Metrix出力のためのcv(outer cv)をcross_val_scoreで行う"
   ]
  },
  {
   "cell_type": "code",
   "execution_count": 88,
   "metadata": {},
   "outputs": [
    {
     "name": "stdout",
     "output_type": "stream",
     "text": [
      "Fitting 5 folds for each of 60 candidates, totalling 300 fits\n"
     ]
    },
    {
     "name": "stderr",
     "output_type": "stream",
     "text": [
      "[Parallel(n_jobs=1)]: Done 300 out of 300 | elapsed:    1.7s finished\n"
     ]
    },
    {
     "name": "stdout",
     "output_type": "stream",
     "text": [
      "Fitting 5 folds for each of 60 candidates, totalling 300 fits\n"
     ]
    },
    {
     "name": "stderr",
     "output_type": "stream",
     "text": [
      "[Parallel(n_jobs=1)]: Done 300 out of 300 | elapsed:    1.6s finished\n"
     ]
    },
    {
     "name": "stdout",
     "output_type": "stream",
     "text": [
      "Fitting 5 folds for each of 60 candidates, totalling 300 fits\n"
     ]
    },
    {
     "name": "stderr",
     "output_type": "stream",
     "text": [
      "[Parallel(n_jobs=1)]: Done 300 out of 300 | elapsed:    1.5s finished\n"
     ]
    },
    {
     "data": {
      "text/plain": [
       "0.9673202614379085"
      ]
     },
     "execution_count": 88,
     "metadata": {},
     "output_type": "execute_result"
    }
   ],
   "source": [
    "# 4のモデルを使う\n",
    "cross_val_score(clif,features,target).mean()"
   ]
  },
  {
   "cell_type": "markdown",
   "metadata": {},
   "source": [
    "データ量が多いだけ、精度が更に向上した"
   ]
  }
 ],
 "metadata": {
  "kernelspec": {
   "display_name": "Python 3",
   "language": "python",
   "name": "python3"
  },
  "language_info": {
   "codemirror_mode": {
    "name": "ipython",
    "version": 3
   },
   "file_extension": ".py",
   "mimetype": "text/x-python",
   "name": "python",
   "nbconvert_exporter": "python",
   "pygments_lexer": "ipython3",
   "version": "3.6.5"
  },
  "toc": {
   "base_numbering": 1,
   "nav_menu": {},
   "number_sections": true,
   "sideBar": true,
   "skip_h1_title": false,
   "title_cell": "Table of Contents",
   "title_sidebar": "Contents",
   "toc_cell": false,
   "toc_position": {},
   "toc_section_display": true,
   "toc_window_display": false
  }
 },
 "nbformat": 4,
 "nbformat_minor": 2
}
