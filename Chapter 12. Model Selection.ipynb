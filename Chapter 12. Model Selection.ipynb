{
 "cells": [
  {
   "cell_type": "markdown",
   "metadata": {},
   "source": [
    "# ある特定の範囲のなかで最適なパラメータを発見したい"
   ]
  },
  {
   "cell_type": "code",
   "execution_count": 26,
   "metadata": {},
   "outputs": [
    {
     "data": {
      "text/plain": [
       "0.9210526315789473"
      ]
     },
     "execution_count": 26,
     "metadata": {},
     "output_type": "execute_result"
    }
   ],
   "source": [
    "import numpy as np\n",
    "from sklearn import  linear_model,datasets\n",
    "from sklearn.model_selection import train_test_split,GridSearchCV\n",
    "from sklearn.metrics import accuracy_score\n",
    "\n",
    "\n",
    "\n",
    "\n",
    "iris=datasets.load_iris()\n",
    "features=iris.data\n",
    "target=iris.target\n",
    "f_train,f_test,t_train,t_test=train_test_split(features,target,random_state=1)\n",
    "\n",
    "logit=linear_model.LogisticRegression()\n",
    "\n",
    "penalty=['l1','l2']\n",
    "C=np.logspace(0,4,10)\n",
    "\n",
    "hypers=dict(C=C,penalty=penalty)\n",
    "\n",
    "# verboseを1~3に設定すると、実行経過のログを出力する\n",
    "gridsearch=GridSearchCV(logit,hypers,cv=5,verbose=0)\n",
    "\n",
    "best_model=gridsearch.fit(f_train,t_train)\n",
    "t_pred=best_model.predict(f_test)\n",
    "accuracy_score(t_pred,t_test)"
   ]
  },
  {
   "cell_type": "code",
   "execution_count": 31,
   "metadata": {},
   "outputs": [
    {
     "name": "stdout",
     "output_type": "stream",
     "text": [
      "best penalty is l2\n",
      "best C is 2.7825594022071245\n"
     ]
    }
   ],
   "source": [
    "print(f'best penalty is {best_model.best_estimator_.get_params()[\"penalty\"]}')\n",
    "print(f'best C is {best_model.best_estimator_.get_params()[\"C\"]}')"
   ]
  },
  {
   "cell_type": "markdown",
   "metadata": {},
   "source": [
    "# 比較的安価な方法でパラメータサーチを行いたい"
   ]
  },
  {
   "cell_type": "code",
   "execution_count": 43,
   "metadata": {},
   "outputs": [],
   "source": [
    "from scipy.stats import  uniform\n",
    "from sklearn import  linear_model,datasets\n",
    "from sklearn.model_selection import RandomizedSearchCV\n",
    "\n",
    "iris=datasets.load_iris()\n",
    "features=iris.data\n",
    "target=iris.target\n",
    "\n",
    "f_train,f_test,t_train,t_test=train_test_split(features,target,random_state=1)\n",
    "\n",
    "logit=linear_model.LogisticRegression()\n",
    "\n",
    "penalty=['l1','l2']\n",
    "\n",
    "# パラメータ候補をランダムに生成するジェネレータ\n",
    "C=uniform(loc=0,scale=4)\n",
    "\n",
    "hypers=dict(C=C,penalty=penalty)\n",
    "\n",
    "random_search=RandomizedSearchCV(\n",
    "logit,\n",
    "hypers,\n",
    "random_state=1,\n",
    "n_iter=100,\n",
    "cv=5,\n",
    "verbose=0)\n",
    "\n",
    "best_model=random_search.fit(f_train,t_train)"
   ]
  },
  {
   "cell_type": "code",
   "execution_count": 44,
   "metadata": {
    "scrolled": false
   },
   "outputs": [
    {
     "data": {
      "text/plain": [
       "0.9210526315789473"
      ]
     },
     "execution_count": 44,
     "metadata": {},
     "output_type": "execute_result"
    }
   ],
   "source": [
    "t_pred=best_model.predict(f_test)\n",
    "accuracy_score(t_pred,t_test)"
   ]
  },
  {
   "cell_type": "markdown",
   "metadata": {},
   "source": [
    "精度はGridSearchとほぼ変わらない"
   ]
  },
  {
   "cell_type": "code",
   "execution_count": 45,
   "metadata": {},
   "outputs": [
    {
     "name": "stdout",
     "output_type": "stream",
     "text": [
      "best penalty is l2\n",
      "best C is 3.730229437354635\n"
     ]
    }
   ],
   "source": [
    "print(f'best penalty is {best_model.best_estimator_.get_params()[\"penalty\"]}')\n",
    "print(f'best C is {best_model.best_estimator_.get_params()[\"C\"]}')"
   ]
  }
 ],
 "metadata": {
  "kernelspec": {
   "display_name": "Python 3",
   "language": "python",
   "name": "python3"
  },
  "language_info": {
   "codemirror_mode": {
    "name": "ipython",
    "version": 3
   },
   "file_extension": ".py",
   "mimetype": "text/x-python",
   "name": "python",
   "nbconvert_exporter": "python",
   "pygments_lexer": "ipython3",
   "version": "3.6.5"
  },
  "toc": {
   "base_numbering": 1,
   "nav_menu": {},
   "number_sections": true,
   "sideBar": true,
   "skip_h1_title": false,
   "title_cell": "Table of Contents",
   "title_sidebar": "Contents",
   "toc_cell": false,
   "toc_position": {},
   "toc_section_display": true,
   "toc_window_display": false
  }
 },
 "nbformat": 4,
 "nbformat_minor": 2
}
