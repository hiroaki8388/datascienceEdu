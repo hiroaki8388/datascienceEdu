{
 "cells": [
  {
   "cell_type": "markdown",
   "metadata": {},
   "source": [
    "# Pytgonによるプログラミングイントロダクション"
   ]
  },
  {
   "cell_type": "code",
   "execution_count": 2,
   "metadata": {},
   "outputs": [],
   "source": [
    "import numpy as np\n",
    "import pandas as pd\n",
    "import matplotlib.pyplot as plt\n",
    "%matplotlib inline"
   ]
  },
  {
   "cell_type": "markdown",
   "metadata": {},
   "source": [
    "## 二章"
   ]
  },
  {
   "cell_type": "code",
   "execution_count": 1,
   "metadata": {},
   "outputs": [
    {
     "name": "stdout",
     "output_type": "stream",
     "text": [
      "HelloWorld\n"
     ]
    }
   ],
   "source": [
    "print('HelloWorld')"
   ]
  },
  {
   "cell_type": "code",
   "execution_count": 5,
   "metadata": {},
   "outputs": [
    {
     "name": "stdout",
     "output_type": "stream",
     "text": [
      "odd\n"
     ]
    }
   ],
   "source": [
    "x=3\n",
    "if x%2==0:\n",
    "    print('even')\n",
    "else :\n",
    "    print('odd')"
   ]
  },
  {
   "cell_type": "code",
   "execution_count": 12,
   "metadata": {},
   "outputs": [],
   "source": [
    "def fib(n):\n",
    "    if n==0 or  n==1:\n",
    "        return 1\n",
    "    else:\n",
    "        return fib(n-1)+fib(n-2)\n",
    "    \n",
    "def testFib(n):\n",
    "    for i  in range(n+1):\n",
    "        print('fib',i,fib(i))"
   ]
  },
  {
   "cell_type": "code",
   "execution_count": 15,
   "metadata": {},
   "outputs": [
    {
     "name": "stdout",
     "output_type": "stream",
     "text": [
      "fib 0 1\n",
      "fib 1 1\n",
      "fib 2 2\n",
      "fib 3 3\n",
      "fib 4 5\n",
      "fib 5 8\n",
      "fib 6 13\n",
      "fib 7 21\n",
      "fib 8 34\n",
      "fib 9 55\n",
      "fib 10 89\n"
     ]
    }
   ],
   "source": [
    "testFib(10)"
   ]
  },
  {
   "cell_type": "markdown",
   "metadata": {},
   "source": [
    "\n"
   ]
  },
  {
   "cell_type": "markdown",
   "metadata": {},
   "source": [
    "## 八章: オブジェクト志向\n"
   ]
  },
  {
   "cell_type": "code",
   "execution_count": 6,
   "metadata": {},
   "outputs": [
    {
     "data": {
      "text/plain": [
       "' efg'"
      ]
     },
     "execution_count": 6,
     "metadata": {},
     "output_type": "execute_result"
    }
   ],
   "source": [
    "a=\"abc efg\"\n",
    "b=a.rindex(' ')\n",
    "a[b:]"
   ]
  },
  {
   "cell_type": "code",
   "execution_count": 9,
   "metadata": {},
   "outputs": [],
   "source": [
    "import datetime\n",
    "\n",
    "class Person(object):\n",
    "    def __init__(self,name):\n",
    "        self.name=name\n",
    "        try:\n",
    "            lastBlank=name.rindex(' ')\n",
    "            self.lastName=name[lastBlank+1:]\n",
    "            \n",
    "        except:\n",
    "            self.lastName=name\n",
    "        self.birthday=None\n",
    "    \n",
    "    def getName(self):\n",
    "        return self.name\n",
    "    \n",
    "    def setBirthday(self ,birthdate):\n",
    "        self.birthday=birthdate\n",
    "        \n",
    "    def getAge(self):\n",
    "        if self.birthday==None:\n",
    "            raise ValueError\n",
    "        \n",
    "        return (datetime.date.today()-self.birthday).days\n",
    "\n",
    "    \n",
    "    def __lt__(self ,other):\n",
    "        if self.lastName==other.lastName:\n",
    "            return self.name<other.name\n",
    "        \n",
    "        return self.lastName < other.lastName\n",
    "    \n",
    "    \n",
    "    def __str__(self):\n",
    "        return self.name"
   ]
  },
  {
   "cell_type": "code",
   "execution_count": 10,
   "metadata": {},
   "outputs": [
    {
     "data": {
      "text/plain": [
       "True"
      ]
     },
     "execution_count": 10,
     "metadata": {},
     "output_type": "execute_result"
    }
   ],
   "source": [
    "\"\"\"オブジェクト化\"\"\"\n",
    "\n",
    "me=Person('Hiroaki Hasegwa')\n",
    "obm=Person('B Obama')\n",
    "\n",
    "me.setBirthday(datetime.date(1991, 3,23))\n",
    "me.getName()\n",
    "me.getAge()\n",
    "\n",
    "me.__lt__(obm)\n",
    "\n",
    "me < obm"
   ]
  },
  {
   "cell_type": "code",
   "execution_count": 11,
   "metadata": {
    "scrolled": true
   },
   "outputs": [
    {
     "name": "stdout",
     "output_type": "stream",
     "text": [
      "B Obama\n",
      "Hiroaki Hasegwa\n",
      "Hiroaki Hasegwa\n",
      "B Obama\n"
     ]
    }
   ],
   "source": [
    "plist=[obm,me]\n",
    "\n",
    "for p in plist:\n",
    "    print(p)\n",
    "    \n",
    "plist.sort()\n",
    "\n",
    "for p in plist:\n",
    "    print(p)"
   ]
  },
  {
   "cell_type": "code",
   "execution_count": 12,
   "metadata": {},
   "outputs": [],
   "source": [
    "\"\"\"継承\"\"\"\n",
    "\n",
    "class MITPersion(Person):\n",
    "    \n",
    "    nextNum=0\n",
    "    \n",
    "    def __init__(self,name):\n",
    "        Person.__init__(self,name)\n",
    "        self.idNum=MITPersion.nextNum\n",
    "        \"idNameはclass全体で管理\"\n",
    "        MITPersion.nextNum+=1\n",
    "            \n",
    "    def getIdNum(self):\n",
    "        return self.idNum\n",
    "    \n",
    "    def __lt__(self,other):\n",
    "        return self.idNum< other.idNum\n",
    "    \n",
    "    \n",
    "    def getPersionType(self):\n",
    "        return type(self)\n",
    "    \n",
    "    \n",
    "    "
   ]
  },
  {
   "cell_type": "code",
   "execution_count": 13,
   "metadata": {},
   "outputs": [],
   "source": [
    "\"多重継承\"\n",
    "\n",
    "class MITGradStudent(MITPersion):\n",
    "    pass"
   ]
  },
  {
   "cell_type": "code",
   "execution_count": 14,
   "metadata": {},
   "outputs": [
    {
     "data": {
      "text/plain": [
       "__main__.MITGradStudent"
      ]
     },
     "execution_count": 14,
     "metadata": {},
     "output_type": "execute_result"
    }
   ],
   "source": [
    "grad=MITGradStudent(\"grad 1\")\n",
    "\n",
    "grad.getName()\n",
    "grad.getPersionType()"
   ]
  },
  {
   "cell_type": "code",
   "execution_count": 15,
   "metadata": {},
   "outputs": [
    {
     "data": {
      "text/plain": [
       "__main__.MITPersion"
      ]
     },
     "execution_count": 15,
     "metadata": {},
     "output_type": "execute_result"
    }
   ],
   "source": [
    "st1=MITPersion('st 1')\n",
    "st2=MITPersion('st 2')\n",
    "\n",
    "st1 < st2\n",
    "\n",
    "st1.getIdNum()\n",
    "st1.getPersionType()"
   ]
  },
  {
   "cell_type": "code",
   "execution_count": 16,
   "metadata": {},
   "outputs": [],
   "source": [
    "class Private(object):\n",
    "    __vis=1"
   ]
  },
  {
   "cell_type": "code",
   "execution_count": 17,
   "metadata": {},
   "outputs": [
    {
     "data": {
      "text/plain": [
       "1"
      ]
     },
     "execution_count": 17,
     "metadata": {},
     "output_type": "execute_result"
    }
   ],
   "source": [
    "pri=Private()\n",
    "\"アクセス不可\"\n",
    "# pri.__vis\n",
    "\n",
    "\"アクセスできてしまう\"\n",
    "pri._Private__vis"
   ]
  },
  {
   "cell_type": "code",
   "execution_count": 18,
   "metadata": {
    "scrolled": false
   },
   "outputs": [
    {
     "name": "stdout",
     "output_type": "stream",
     "text": [
      "True\n",
      "False\n"
     ]
    }
   ],
   "source": [
    "list=[1,2,3,]\n",
    "\"listをそのままかえす\"\n",
    "cpList=list\n",
    "cp2List=list[:]\n",
    "list.append(4)\n",
    "\n",
    "\"ポンタを渡す\"\n",
    "print(list==cpList)\n",
    "\n",
    "\"listをコピーして渡す\"\n",
    "print(list==cp2List)\n"
   ]
  },
  {
   "cell_type": "code",
   "execution_count": 58,
   "metadata": {},
   "outputs": [
    {
     "data": {
      "text/plain": [
       "<generator object Generator.getPersion at 0x10b14af10>"
      ]
     },
     "execution_count": 58,
     "metadata": {},
     "output_type": "execute_result"
    }
   ],
   "source": [
    "\"generator\"\n",
    "\n",
    "\n",
    "class Generator(object):\n",
    "    \n",
    "    def __init__(self,persions):\n",
    "        self.persions=persions\n",
    "        \n",
    "    def getPersion(self):\n",
    "        for p in self.persions:\n",
    "            yield p\n",
    "        \n",
    "\n",
    "pers=[me,obm]       \n",
    "gen=Generator(per)\n",
    "\n",
    "\n",
    "gen.getPersion()"
   ]
  },
  {
   "cell_type": "code",
   "execution_count": 20,
   "metadata": {},
   "outputs": [
    {
     "name": "stdout",
     "output_type": "stream",
     "text": [
      "3\n",
      "6\n",
      "5\n"
     ]
    }
   ],
   "source": [
    "import sys\n",
    "sys.path\n",
    "print( sys.version_info.major)\n",
    "print (sys.version_info.minor)\n",
    "print (sys.version_info.micro)"
   ]
  },
  {
   "cell_type": "code",
   "execution_count": null,
   "metadata": {},
   "outputs": [],
   "source": []
  },
  {
   "cell_type": "code",
   "execution_count": null,
   "metadata": {},
   "outputs": [],
   "source": []
  },
  {
   "cell_type": "code",
   "execution_count": null,
   "metadata": {},
   "outputs": [],
   "source": []
  },
  {
   "cell_type": "code",
   "execution_count": null,
   "metadata": {},
   "outputs": [],
   "source": []
  }
 ],
 "metadata": {
  "kernelspec": {
   "display_name": "Python 3",
   "language": "python",
   "name": "python3"
  },
  "language_info": {
   "codemirror_mode": {
    "name": "ipython",
    "version": 3
   },
   "file_extension": ".py",
   "mimetype": "text/x-python",
   "name": "python",
   "nbconvert_exporter": "python",
   "pygments_lexer": "ipython3",
   "version": "3.6.5"
  }
 },
 "nbformat": 4,
 "nbformat_minor": 2
}
