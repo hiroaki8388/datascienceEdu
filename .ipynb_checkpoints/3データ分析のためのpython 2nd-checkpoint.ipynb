{
 "cells": [
  {
   "cell_type": "markdown",
   "metadata": {},
   "source": [
    "# Chanper4: Chapter 4. NumPy Basics: Arrays and Vectorized Computation"
   ]
  },
  {
   "cell_type": "code",
   "execution_count": 2,
   "metadata": {},
   "outputs": [],
   "source": [
    " import numpy as np"
   ]
  },
  {
   "cell_type": "code",
   "execution_count": 8,
   "metadata": {},
   "outputs": [
    {
     "name": "stdout",
     "output_type": "stream",
     "text": [
      "CPU times: user 66.3 ms, sys: 1.32 ms, total: 67.6 ms\n",
      "Wall time: 66.8 ms\n",
      "CPU times: user 32.8 s, sys: 97.5 ms, total: 32.9 s\n",
      "Wall time: 33 s\n"
     ]
    }
   ],
   "source": [
    "# パフォーマンスチェック\n",
    "np_arr=np.arange(10000)\n",
    "list_arr=list(range(10000))\n"
   ]
  },
  {
   "cell_type": "code",
   "execution_count": 11,
   "metadata": {},
   "outputs": [
    {
     "name": "stdout",
     "output_type": "stream",
     "text": [
      "CPU times: user 728 µs, sys: 772 µs, total: 1.5 ms\n",
      "Wall time: 772 µs\n"
     ]
    }
   ],
   "source": [
    "%time  for _ in  range(10) : np_arr2=np_arr**2"
   ]
  },
  {
   "cell_type": "code",
   "execution_count": 12,
   "metadata": {
    "scrolled": true
   },
   "outputs": [
    {
     "name": "stdout",
     "output_type": "stream",
     "text": [
      "CPU times: user 34 ms, sys: 1.25 ms, total: 35.3 ms\n",
      "Wall time: 34.3 ms\n"
     ]
    }
   ],
   "source": [
    "%time  for _ in range(10) : list_arr2=[x**2 for x in list_arr]"
   ]
  }
 ],
 "metadata": {
  "kernelspec": {
   "display_name": "Python 3",
   "language": "python",
   "name": "python3"
  },
  "language_info": {
   "codemirror_mode": {
    "name": "ipython",
    "version": 3
   },
   "file_extension": ".py",
   "mimetype": "text/x-python",
   "name": "python",
   "nbconvert_exporter": "python",
   "pygments_lexer": "ipython3",
   "version": "3.6.0"
  }
 },
 "nbformat": 4,
 "nbformat_minor": 2
}
