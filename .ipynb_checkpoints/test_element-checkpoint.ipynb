{
 "cells": [
  {
   "cell_type": "markdown",
   "metadata": {},
   "source": [
    "# pytestの使い方"
   ]
  },
  {
   "cell_type": "code",
   "execution_count": 12,
   "metadata": {},
   "outputs": [],
   "source": [
    "# 簡単な使い方\n",
    "# pytest-ipnbを入れると、test*.ipynbに一致する内容をテストする\n",
    "\n",
    "def fu(x):\n",
    "    return x+1\n"
   ]
  },
  {
   "cell_type": "code",
   "execution_count": 14,
   "metadata": {},
   "outputs": [],
   "source": [
    "# asssetが存在するcellを全部テストする\n",
    "def test_answer():\n",
    "    assert fu(4)==6"
   ]
  },
  {
   "cell_type": "code",
   "execution_count": 16,
   "metadata": {},
   "outputs": [
    {
     "name": "stdout",
     "output_type": "stream",
     "text": [
      "\u001b[1m============================= test session starts ==============================\u001b[0m\n",
      "platform darwin -- Python 3.6.0, pytest-3.5.0, py-1.5.3, pluggy-0.6.0 -- /Users/hiroaki/.pyenv/versions/3.6.0/envs/pycoon/bin/python\n",
      "cachedir: .pytest_cache\n",
      "rootdir: /Users/hiroaki/Develop/project/DIUnit/pycoon, inifile:\n",
      "plugins: ipynb-1.1.0\n",
      "collected 4 items                                                              \u001b[0m\u001b[1m\n",
      "\n",
      "test_element.ipynb::test_element.ipynb \u001b[32mPASSED\u001b[0m\u001b[36m                            [ 25%]\u001b[0m\n",
      "test_element.ipynb::test_element.ipynb \u001b[32mPASSED\u001b[0m\u001b[36m                            [ 25%]\u001b[0m\n",
      "test_element.ipynb::test_element.ipynb \u001b[31mFAILED\u001b[0m\u001b[36m                            [ 25%]\u001b[0m\n",
      "test_element.ipynb::test_element.ipynb \u001b[31mFAILED\u001b[0m\u001b[36m                            [ 25%]\u001b[0m\n",
      "\n",
      "=================================== FAILURES ===================================\n",
      "\u001b[31m\u001b[1m_______________________________________  _______________________________________\u001b[0m\n",
      "pytest plugin exception: 'str' object is not callable\n",
      "\u001b[31m\u001b[1m_______________________________________  _______________________________________\u001b[0m\n",
      "pytest plugin exception: 'str' object is not callable\n",
      "\u001b[31m\u001b[1m===================== 2 failed, 2 passed in 42.23 seconds ======================\u001b[0m\n"
     ]
    }
   ],
   "source": [
    "!py.test -v"
   ]
  },
  {
   "cell_type": "code",
   "execution_count": null,
   "metadata": {},
   "outputs": [],
   "source": []
  }
 ],
 "metadata": {
  "kernelspec": {
   "display_name": "Python 3",
   "language": "python",
   "name": "python3"
  },
  "language_info": {
   "codemirror_mode": {
    "name": "ipython",
    "version": 3
   },
   "file_extension": ".py",
   "mimetype": "text/x-python",
   "name": "python",
   "nbconvert_exporter": "python",
   "pygments_lexer": "ipython3",
   "version": "3.6.0"
  }
 },
 "nbformat": 4,
 "nbformat_minor": 2
}
