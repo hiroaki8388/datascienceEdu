{
 "cells": [
  {
   "cell_type": "markdown",
   "metadata": {},
   "source": [
    "# Chapter 3. Built-in Data Structures, Functions, and Files"
   ]
  },
  {
   "cell_type": "code",
   "execution_count": 18,
   "metadata": {},
   "outputs": [],
   "source": [
    "import numpy as np"
   ]
  },
  {
   "cell_type": "code",
   "execution_count": 16,
   "metadata": {},
   "outputs": [
    {
     "data": {
      "text/plain": [
       "(1, 'a', True)"
      ]
     },
     "execution_count": 16,
     "metadata": {},
     "output_type": "execute_result"
    }
   ],
   "source": [
    "#　Tupleは、一度定義された要素は上書きできない\n",
    "tup_1= tuple([1,\"a\",True])\n",
    "\n",
    "tup_1\n",
    "# tup_1[2]=False # エラーになる"
   ]
  },
  {
   "cell_type": "code",
   "execution_count": 54,
   "metadata": {},
   "outputs": [
    {
     "name": "stdout",
     "output_type": "stream",
     "text": [
      "1 a True\n",
      "['a', True]\n",
      "0\n",
      "a=3.105036184601418e+231,b=-1.2907398897294913e-231,c=2.376635285906e-312\n",
      "a=2.1432157491e-312,b=2.37663528642e-312,c=2.56761490764e-312\n",
      "a=1.08221785359e-312,b=1.08221785361e-312,c=3.105036184601446e+231\n"
     ]
    }
   ],
   "source": [
    "# unpack\n",
    "a,b,c=tup_1\n",
    "print(a,b,c)\n",
    "\n",
    "a,*b=tup_1\n",
    "\n",
    "print(b)\n",
    "\n",
    "# いらなければこんなかんじ\n",
    "a,*_=tuple(range(10))\n",
    "\n",
    "print(a)\n",
    "\n",
    "\n",
    "# for でiterateのときに有用\n",
    "seq=np.empty((3,3))\n",
    "for a,b,c in seq:\n",
    "    print ('a={0},b={1},c={2}'.format(a,b,c))\n"
   ]
  },
  {
   "cell_type": "code",
   "execution_count": 39,
   "metadata": {},
   "outputs": [
    {
     "name": "stdout",
     "output_type": "stream",
     "text": [
      "[0, 1, 'a', 2, 3, 3]\n",
      "[0, 1, 2, 3, 3]\n",
      "[0, 1, 2, 3]\n",
      "[1, 3, 4]\n",
      "[1, 3, 4, 2, 3]\n"
     ]
    }
   ],
   "source": [
    "# listに挿入\n",
    "lis=list(range(4))\n",
    "\n",
    "# 末尾に追加\n",
    "lis.append(3)\n",
    "\n",
    "# 任意の場所に追加\n",
    "lis.insert(2,\"a\")\n",
    "\n",
    "print(lis)\n",
    "\n",
    "# insertの逆はpop\n",
    "lis.pop(2)\n",
    "print(lis)\n",
    "\n",
    "# 特定の値の除去はremove (一致した最初の要素のみ除去)\n",
    "lis.remove(3)\n",
    "print(lis)\n",
    "\n",
    "# +は新たなインスタンスを作るが、extendは既存のインスタンスを拡張する\n",
    "lis2=[1,3,4]\n",
    "lis2+[4,5]\n",
    "print(lis2)\n",
    "\n",
    "lis2.extend([2,3])\n",
    "print(lis2)"
   ]
  },
  {
   "cell_type": "code",
   "execution_count": 42,
   "metadata": {},
   "outputs": [
    {
     "data": {
      "text/plain": [
       "['a', 'de', 'bod', 'chen', 'Alics']"
      ]
     },
     "execution_count": 42,
     "metadata": {},
     "output_type": "execute_result"
    }
   ],
   "source": [
    "3 # ソート\n",
    "names=[\"a\",\"bod\",\"chen\",\"Alics\",\"de\"]\n",
    "\n",
    "names.sort(key=len)\n",
    "names"
   ]
  },
  {
   "cell_type": "code",
   "execution_count": 70,
   "metadata": {
    "scrolled": true
   },
   "outputs": [
    {
     "name": "stdout",
     "output_type": "stream",
     "text": [
      "{0: 'a', 1: 'b', 2: 'c', 3: 'd', 4: 'e'}\n",
      "[('a', 'あ'), ('b', 'い'), ('c', 'う')]\n",
      "0:a,あ\n",
      "\n",
      "1:b,い\n",
      "\n",
      "2:c,う\n",
      "\n",
      "[('Nolan', 'Roger', 'Schilling'), ('Ryan', 'Clemens', 'Curt')]\n",
      "{'a': 'あ', 'b': 'い', 'c': 'う'}\n"
     ]
    }
   ],
   "source": [
    "# 繰り返し\n",
    "mapping={}\n",
    "val=list(\"abcde\")\n",
    "# keyをくっつけられる\n",
    "for i , n in enumerate(val):\n",
    "    mapping[i]=n\n",
    "    \n",
    "print(mapping)\n",
    "\n",
    "\n",
    "# zipとenumlateのくみあわせ\n",
    "seq1=list(\"abc\")\n",
    "seq2=list(\"あいう\")\n",
    "\n",
    "\n",
    "print(list(zip(seq1,seq2)))\n",
    "for i,(a,b) in enumerate(zip(seq1,seq2)):\n",
    "    print('{0}:{1},{2}'.format(i,a,b)+'\\n')\n",
    "\n",
    "# 縦横の変換\n",
    "pitchers = [('Nolan', 'Ryan'), ('Roger', 'Clemens'), ('Schilling', 'Curt')]\n",
    "\n",
    "# *でlistを展開する\n",
    "a,b=zip(*pitchers)\n",
    "c=[a,b]\n",
    "print(c)\n",
    "\n"
   ]
  },
  {
   "cell_type": "code",
   "execution_count": 81,
   "metadata": {},
   "outputs": [
    {
     "name": "stdout",
     "output_type": "stream",
     "text": [
      "{'a': 'あ', 'b': 'い', 'c': 'う'}\n",
      "defaultdict(<class 'list'>, {'a': ['apple', 'atom'], 'b': ['bat', 'bar', 'book']})\n"
     ]
    },
    {
     "data": {
      "text/plain": [
       "3713081631934410656"
      ]
     },
     "execution_count": 81,
     "metadata": {},
     "output_type": "execute_result"
    }
   ],
   "source": [
    "# dictonary 系\n",
    "\n",
    "# zipでmapを作成\n",
    "zip_map={}\n",
    "\n",
    "for (a,b) in zip(seq1,seq2):\n",
    "    zip_map[a]=b\n",
    "    \n",
    "print(zip_map)\n",
    "\n",
    "# 組み込み関数を使うと、簡単に辞書が作れる\n",
    "from collections import defaultdict\n",
    "words = ['apple', 'bat', 'bar', 'atom', 'book']\n",
    "by_letter=defaultdict(list)\n",
    "for word in words:\n",
    "    by_letter[word[0]].append(word)\n",
    "    \n",
    "print(by_letter)\n",
    "\n",
    "\n",
    "# keyはimmutableなオブジェクト(int,float,str,tuple etc)のみしか不可能\n",
    "# これはhash化できるかと等価なのでhash化できる=ｋeyとして利用可能である\n",
    "\n",
    "hash(\"str\")\n",
    "hash((1,2))\n",
    "# hash([1,3]) # listはmutableなのでエラー\n",
    "hash(tuple([1,2])) # これは可能"
   ]
  },
  {
   "cell_type": "code",
   "execution_count": 99,
   "metadata": {
    "scrolled": false
   },
   "outputs": [
    {
     "name": "stdout",
     "output_type": "stream",
     "text": [
      "['BAT', 'CAR', 'DOVE', 'PYTHON']\n",
      "{0: 'a', 1: 'as', 2: 'bat', 3: 'car', 4: 'dove', 5: 'python'}\n",
      "['Steven']\n",
      "['John', 'Emily', 'Michael', 'Mary', 'Steven', 'Maria', 'Juan', 'Javier', 'Natalia', 'Pilar']\n"
     ]
    }
   ],
   "source": [
    "# 内包\n",
    "\n",
    "strings = ['a', 'as', 'bat', 'car', 'dove', 'python']\n",
    "# 文字数が２より大きいもののみ、大文字にする\n",
    "print([x.upper() for x in strings if len(x)>2])\n",
    "\n",
    "# 全要素に関数適用\n",
    "set(map(len,strings))\n",
    "\n",
    "# 添字つきのmapの生成\n",
    "loc_map={index : val for index,val in enumerate(strings)}\n",
    "print(loc_map)\n",
    "\n",
    "# list内listのフィルタリング\n",
    "all_data = [['John', 'Emily', 'Michael', 'Mary', 'Steven'], ['Maria', 'Juan', 'Javier', 'Natalia', 'Pilar']]\n",
    "    \n",
    "result=[name for names in all_data  for  name in names if name.count('e')>=2]\n",
    "print(result)\n",
    "\n",
    "# flatten\n",
    "flatten=[name for names in all_data for name in names]\n",
    "print(flatten)"
   ]
  },
  {
   "cell_type": "code",
   "execution_count": 123,
   "metadata": {},
   "outputs": [
    {
     "name": "stdout",
     "output_type": "stream",
     "text": [
      "1\n",
      "2\n",
      "3\n",
      "3\n",
      "4\n",
      "6\n",
      "[1, 9, 16]\n",
      "num is 0\n",
      "0\n",
      "num is 1\n",
      "1\n",
      "0\n",
      "1\n",
      "284\n",
      "A ['Alan', 'Adam']\n",
      "W ['Wes', 'Will']\n",
      "A ['Albert']\n",
      "S ['Steven']\n"
     ]
    }
   ],
   "source": [
    "# 関数\n",
    "\n",
    "# mapによる関数適用mapはiterableなので、forで要素を取り出せる\n",
    "for x in map(len,strings):\n",
    "    print(x)\n",
    "    \n",
    "\n",
    "    \n",
    "# 無名関数を定義し、関数に関数を引数として渡す\n",
    "lam=lambda x:x**2\n",
    "\n",
    "def my_map(f,*vals):\n",
    "    return [f(x) for x in vals]\n",
    "\n",
    "print(my_map(lam,1,3,4))\n",
    "\n",
    "# curry化\n",
    "## 本来curry化と部分適用はことなる概念だが、実務上ほぼかわらないので区別せずかいてある\n",
    "## functoo:lを使う\n",
    "from functools import partial\n",
    "curried=partial(my_map,lam)\n",
    "curried(36,46,78)\n",
    "\n",
    "# generator\n",
    "def seq(n=10):\n",
    "    for i in range(n):\n",
    "        print('num is {0}'.format(i))\n",
    "        yield i**2\n",
    "        \n",
    "a=seq(3)        \n",
    "print(next(a))\n",
    "print(next(a))\n",
    "    \n",
    "    \n",
    "# rangeを加工してgeneratorを生成\n",
    "gen=(  x**2 for  x in range(10))\n",
    "print(next(gen))\n",
    "print(next(gen))\n",
    "print (sum(gen))\n",
    "\n",
    "# iterator tool\n",
    "import itertools\n",
    "first_letter= lambda x:x[0]\n",
    "\n",
    "names = ['Alan', 'Adam', 'Wes', 'Will', 'Albert', 'Steven']\n",
    "\n",
    "# keyを生成するfuncを渡してgroubBy\n",
    "for letter,names in itertools.groupby(names,first_letter):\n",
    "    print(letter,list(names))"
   ]
  },
  {
   "cell_type": "code",
   "execution_count": null,
   "metadata": {},
   "outputs": [],
   "source": [
    "# \n"
   ]
  },
  {
   "cell_type": "code",
   "execution_count": null,
   "metadata": {},
   "outputs": [],
   "source": []
  }
 ],
 "metadata": {
  "kernelspec": {
   "display_name": "Python 3",
   "language": "python",
   "name": "python3"
  },
  "language_info": {
   "codemirror_mode": {
    "name": "ipython",
    "version": 3
   },
   "file_extension": ".py",
   "mimetype": "text/x-python",
   "name": "python",
   "nbconvert_exporter": "python",
   "pygments_lexer": "ipython3",
   "version": "3.6.0"
  }
 },
 "nbformat": 4,
 "nbformat_minor": 2
}
