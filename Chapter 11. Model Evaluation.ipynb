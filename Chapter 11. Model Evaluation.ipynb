{
 "cells": [
  {
   "cell_type": "markdown",
   "metadata": {},
   "source": [
    "# CVModel評価"
   ]
  },
  {
   "cell_type": "code",
   "execution_count": 29,
   "metadata": {},
   "outputs": [],
   "source": [
    "from sklearn import datasets,metrics\n",
    "from sklearn.model_selection import KFold,cross_val_score\n",
    "from sklearn.pipeline import make_pipeline\n",
    "from sklearn.linear_model import LogisticRegression\n",
    "from sklearn.preprocessing import StandardScaler\n",
    "\n",
    "\n",
    "# データの読み込み\n",
    "digits=datasets.load_digits()\n",
    "\n",
    "feature=digits.data\n",
    "target=digits.target\n",
    "\n",
    "# 変換\n",
    "standardzer=StandardScaler()\n",
    "\n",
    "# 予測\n",
    "logit=LogisticRegression()\n",
    "\n",
    "# 結合\n",
    "pipline=make_pipeline(standardzer,logit)\n",
    "\n",
    "\n",
    "# 分割\n",
    "kf=KFold(n_splits=10,shuffle=True,random_state=1)\n",
    "\n",
    "# 評価\n",
    "cv_result=cross_val_score(\n",
    "    pipline,\n",
    "    feature,\n",
    "    target,\n",
    "    cv=kf, # 分け方を指定\n",
    "    scoring='accuracy',# precision,recallなど、べつの評価も可能\n",
    "    n_jobs=1 # -1ですべてのcpuを使用\n",
    "    )"
   ]
  },
  {
   "cell_type": "code",
   "execution_count": 30,
   "metadata": {},
   "outputs": [
    {
     "data": {
      "text/plain": [
       "0.964931719428926"
      ]
     },
     "execution_count": 30,
     "metadata": {},
     "output_type": "execute_result"
    }
   ],
   "source": [
    "#　評価値の確認\n",
    "cv_result.mean()"
   ]
  },
  {
   "cell_type": "markdown",
   "metadata": {},
   "source": [
    "# 二値分類の評価と可視化"
   ]
  },
  {
   "cell_type": "code",
   "execution_count": 65,
   "metadata": {
    "scrolled": true
   },
   "outputs": [
    {
     "data": {
      "text/plain": [
       "[<matplotlib.lines.Line2D at 0x11179fc50>]"
      ]
     },
     "execution_count": 65,
     "metadata": {},
     "output_type": "execute_result"
    },
    {
     "data": {
      "image/png": "[encoded data removed]",
      "text/plain": [
       "<Figure size 432x288 with 1 Axes>"
      ]
     },
     "metadata": {},
     "output_type": "display_data"
    }
   ],
   "source": [
    "import matplotlib.pyplot as plt\n",
    "from sklearn.datasets import make_classification\n",
    "from sklearn.linear_model import LogisticRegression\n",
    "from sklearn.metrics import roc_curve,roc_auc_score\n",
    "from sklearn.model_selection import train_test_split\n",
    "\n",
    "# データの分割\n",
    "feature,target=make_classification(\n",
    "    n_samples=10000,\n",
    "    n_features=10,\n",
    "    n_classes=2,\n",
    "    n_informative=3,\n",
    "    random_state=3)\n",
    "\n",
    "feature_train,feature_test,target_train,target_test=train_test_split(feature,target,test_size=0.1,random_state=1)\n",
    "\n",
    "logit=LogisticRegression()\n",
    "\n",
    "logit.fit(feature_train,target_train)\n",
    "\n",
    "# LogRegreessionでの予測値\n",
    "target_prob=logit.predict_proba(feature_test)[:,1]\n",
    "\n",
    "# rocカーブのデータ\n",
    "# thの値以上のscoreをpositiveと判定する(閾値)\n",
    "f_p_rate,t_p_rate,th=roc_curve(target_test,target_prob)\n",
    "\n",
    "\n",
    "fig=plt.figure()\n",
    "ax=fig.subplots()\n",
    "\n",
    "ax.plot(f_p_rate,t_p_rate)\n",
    "ax.plot([0,1],ls='--')\n",
    "ax.plot([0,0],[1,0],c='.7')\n",
    "ax.plot([1,1],c='.7')"
   ]
  },
  {
   "cell_type": "code",
   "execution_count": 67,
   "metadata": {
    "scrolled": true
   },
   "outputs": [
    {
     "data": {
      "text/plain": [
       "0.9073389355742296"
      ]
     },
     "execution_count": 67,
     "metadata": {},
     "output_type": "execute_result"
    }
   ],
   "source": [
    "# AUCの値\n",
    "roc_auc_score(target_test,target_prob)"
   ]
  },
  {
   "cell_type": "markdown",
   "metadata": {},
   "source": [
    "# 複数クラスの分類評価"
   ]
  },
  {
   "cell_type": "code",
   "execution_count": 8,
   "metadata": {},
   "outputs": [
    {
     "data": {
      "text/plain": [
       "array([0.7201056 , 0.71523715, 0.71745717])"
      ]
     },
     "execution_count": 8,
     "metadata": {},
     "output_type": "execute_result"
    }
   ],
   "source": [
    "from sklearn.model_selection import cross_val_score\n",
    "from sklearn.linear_model import LogisticRegression\n",
    "from sklearn.datasets import make_classification\n",
    "\n",
    "features,target=make_classification(\n",
    "n_samples=100000,\n",
    "n_features=3,\n",
    "n_informative=3,\n",
    "n_redundant=0,\n",
    "n_classes=3,\n",
    "random_state=1)\n",
    "\n",
    "# 多分類でも普通にlogitでいける\n",
    "logit=LogisticRegression()\n",
    "\n",
    "# CV\n",
    "cross_val_score(logit,features,target,scoring='accuracy')"
   ]
  },
  {
   "cell_type": "markdown",
   "metadata": {},
   "source": [
    "# クラス分類器のパフォーマンスの可視化"
   ]
  },
  {
   "cell_type": "code",
   "execution_count": 26,
   "metadata": {},
   "outputs": [
    {
     "data": {
      "text/plain": [
       "Text(33,0.5,'True Class')"
      ]
     },
     "execution_count": 26,
     "metadata": {},
     "output_type": "execute_result"
    },
    {
     "data": {
      "image/png": "[encoded data removed]",
      "text/plain": [
       "<Figure size 432x288 with 2 Axes>"
      ]
     },
     "metadata": {},
     "output_type": "display_data"
    }
   ],
   "source": [
    "import matplotlib.pyplot as plt\n",
    "import seaborn as sns\n",
    "from sklearn.model_selection import train_test_split\n",
    "from sklearn.linear_model import LogisticRegression\n",
    "from sklearn.metrics import confusion_matrix\n",
    "import pandas as pd\n",
    "from sklearn import datasets\n",
    "\n",
    "iris=datasets.load_iris()\n",
    "\n",
    "\n",
    "features=iris.data\n",
    "target=iris.target\n",
    "\n",
    "\n",
    "class_names=iris.target_names\n",
    "\n",
    "f_tran,f_test,t_train,t_test=train_test_split(features,target,random_state=1)\n",
    "\n",
    "logit=LogisticRegression()\n",
    "\n",
    "target_predit=logit.fit(f_tran,t_train).predict(f_test)\n",
    "\n",
    "# 混合行列を作成\n",
    "matrix=confusion_matrix(target_predit,t_test)\n",
    "\n",
    "# dfに変換\n",
    "matrix_df=pd.DataFrame(matrix,index=class_names,columns=class_names)\n",
    "\n",
    "# heatmapで混合行列を可視化\n",
    "# annotで値を表示\n",
    "ax=sns.heatmap(matrix_df,annot=True,cbar=True,cmap='Blues')\n",
    "ax.set_xlabel('Predict Class')\n",
    "ax.set_ylabel('True Class')"
   ]
  },
  {
   "cell_type": "markdown",
   "metadata": {},
   "source": [
    "- 対角部分の色が濃いほど、良い判定ができている\n",
    "- どれとどれが間違われやすいかが一目瞭然である\n",
    "- 混合行列は多分類でも定義できる"
   ]
  },
  {
   "cell_type": "markdown",
   "metadata": {},
   "source": [
    "# 回帰モデルのパフォーマンスを評価しいたい"
   ]
  },
  {
   "cell_type": "code",
   "execution_count": 37,
   "metadata": {},
   "outputs": [
    {
     "data": {
      "text/plain": [
       "array([-1718.22817783, -3103.4124284 , -1377.17858823])"
      ]
     },
     "execution_count": 37,
     "metadata": {},
     "output_type": "execute_result"
    }
   ],
   "source": [
    "from sklearn.datasets import make_regression\n",
    "from sklearn.model_selection import cross_val_score\n",
    "from sklearn.linear_model import LinearRegression\n",
    "\n",
    "# Generate features matrix, target vector\n",
    "features, target = make_regression(n_samples = 100,\n",
    "                                   n_features = 3,\n",
    "                                   n_informative = 3,\n",
    "                                   n_targets = 1,\n",
    "                                   noise = 50,\n",
    "                                   coef = False,\n",
    "                                   random_state = 1)\n",
    "\n",
    "ols=LinearRegression()\n",
    "\n",
    "# MSEで評価\n",
    "# scoreingを独自設定にしたければ、make_scorerを使う\n",
    "# 分割方法を独自設定したければ、cvを設定する\n",
    "cross_val_score(ols,features,target,scoring='neg_mean_squared_error')"
   ]
  },
  {
   "cell_type": "markdown",
   "metadata": {},
   "source": [
    "# トレーニングセットのサイズの評価における寄与を可視化したい"
   ]
  },
  {
   "cell_type": "code",
   "execution_count": 42,
   "metadata": {},
   "outputs": [],
   "source": [
    "import numpy as np\n",
    "from sklearn.ensemble import RandomForestClassifier\n",
    "from sklearn.datasets import load_digits\n",
    "from sklearn.model_selection import learning_curve\n",
    "\n",
    "disit=load_digits()\n",
    "\n",
    "features,target=disit.data,disit.target\n",
    "\n",
    "train_sizes,train_scores,test_scores=learning_curve(\n",
    "RandomForestClassifier(),\n",
    "features,\n",
    "target,\n",
    "cv=10,\n",
    "scoring='accuracy',\n",
    "train_sizes=np.linspace(0.01,1.0,50) # 50等分割ずつtrain量を増やしてく\n",
    ")"
   ]
  },
  {
   "cell_type": "code",
   "execution_count": 65,
   "metadata": {
    "scrolled": false
   },
   "outputs": [
    {
     "data": {
      "text/plain": [
       "<matplotlib.legend.Legend at 0x116d309e8>"
      ]
     },
     "execution_count": 65,
     "metadata": {},
     "output_type": "execute_result"
    },
    {
     "data": {
      "image/png": "[encoded data removed]",
      "text/plain": [
       "<Figure size 432x288 with 1 Axes>"
      ]
     },
     "metadata": {},
     "output_type": "display_data"
    }
   ],
   "source": [
    "train_mean=np.mean(train_scores,axis=1)\n",
    "train_std=np.std(train_scores,axis=1)\n",
    "test_mean=np.mean(test_scores,axis=1)\n",
    "test_std=np.std(test_scores,axis=1)\n",
    "\n",
    "\n",
    "plt.plot(train_sizes,train_mean,'k-',label='Training score')\n",
    "plt.plot(train_sizes,test_mean,'k-',label='CV score')\n",
    "\n",
    "# 標準偏差の範囲を色付け\n",
    "plt.fill_between(train_sizes,train_mean-train_std,train_mean+train_std)\n",
    "plt.fill_between(train_sizes,test_mean-test_std,test_mean+test_std)\n",
    "\n",
    "plt.xlabel('Data_Size')\n",
    "plt.ylabel('Accuracy')\n",
    "plt.legend()"
   ]
  },
  {
   "cell_type": "code",
   "execution_count": null,
   "metadata": {},
   "outputs": [],
   "source": []
  },
  {
   "cell_type": "code",
   "execution_count": null,
   "metadata": {},
   "outputs": [],
   "source": []
  }
 ],
 "metadata": {
  "kernelspec": {
   "display_name": "Python 3",
   "language": "python",
   "name": "python3"
  },
  "language_info": {
   "codemirror_mode": {
    "name": "ipython",
    "version": 3
   },
   "file_extension": ".py",
   "mimetype": "text/x-python",
   "name": "python",
   "nbconvert_exporter": "python",
   "pygments_lexer": "ipython3",
   "version": "3.6.0"
  },
  "toc": {
   "base_numbering": 1,
   "nav_menu": {},
   "number_sections": true,
   "sideBar": true,
   "skip_h1_title": false,
   "title_cell": "Table of Contents",
   "title_sidebar": "Contents",
   "toc_cell": false,
   "toc_position": {
    "height": "calc(100% - 180px)",
    "left": "10px",
    "top": "150px",
    "width": "227px"
   },
   "toc_section_display": true,
   "toc_window_display": true
  }
 },
 "nbformat": 4,
 "nbformat_minor": 2
}
