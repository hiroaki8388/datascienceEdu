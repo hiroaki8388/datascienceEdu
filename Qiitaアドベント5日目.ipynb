{
 "cells": [
  {
   "cell_type": "markdown",
   "metadata": {},
   "source": [
    "# Jupyterでデータセット作成アプリを作る"
   ]
  },
  {
   "cell_type": "markdown",
   "metadata": {},
   "source": [
    "# これなに"
   ]
  },
  {
   "cell_type": "markdown",
   "metadata": {},
   "source": [
    "Fringe81で機械学習エンジニアをやっている長谷川です。5日目の記事では、Jupyterを使用したデータセットを作るための簡単なアプリケーション作成方法について書きます。  "
   ]
  },
  {
   "cell_type": "markdown",
   "metadata": {},
   "source": [
    "## 実行例"
   ]
  },
  {
   "cell_type": "markdown",
   "metadata": {},
   "source": [
    "TODO "
   ]
  },
  {
   "cell_type": "markdown",
   "metadata": {},
   "source": [
    "# 機械学習をする際に一番つらいところ。データセットの教師ラベルづけ"
   ]
  },
  {
   "cell_type": "markdown",
   "metadata": {},
   "source": [
    "機械学習をする上で、ある意味アルゴリズム以上に辛いのは、データセットの作成です。教師あり学習の場合、当然教師ラベルを付与する必要があるのですが、そんな都合よくラベルが付いているデータがあることは少なく、仮についていたとしても人力での補正が必要な場合は多々あります。\n",
    "**そこで、人力でのラベル付をJupyter上で完結する形でできたら非常に便利です。**\n"
   ]
  },
  {
   "cell_type": "markdown",
   "metadata": {},
   "source": [
    "# Jupyterとは?"
   ]
  },
  {
   "cell_type": "markdown",
   "metadata": {},
   "source": [
    "さまざまなコードのインタラクティブな実行などが可能になる、ブラウザベースのエディタです。この記事もすべてJupyter上で書きました。  \n",
    "pythonのイメージが強いですが、kernelさえ入れ替えれば大抵の言語は実行可能です。(ちなみにJupyterの名前の由来はJulia+python+Rだそうです。)  \n",
    "さらに、juypterには**マジックコマンド**と呼ばれる機能があり、セルの先頭に*%%xxx*のようなアノテーションを付けると、シェルやsqlなど、さまざまな処理が実行可能になります。  \n",
    "そのマジックコマンドを利用し、pythonのコードと**%%javascriptと%%htmlを組み合わせることにより、簡易的なラベルで付けアプリを作成してみます。**"
   ]
  },
  {
   "cell_type": "markdown",
   "metadata": {},
   "source": [
    "# ライブラリのバージョン"
   ]
  },
  {
   "cell_type": "markdown",
   "metadata": {},
   "source": [
    "TODO"
   ]
  },
  {
   "cell_type": "markdown",
   "metadata": {},
   "source": [
    "# 実行例:twitterの検索結果のうち、Botのものをを判別する\n",
    "例として、twitterからデータを取得し、twitterのAPIから取得したデータのうち、Botかどうかのラベル付けを行います。  \n",
    "なお、以下のコードは[Real World DataScience]()を参考にしました。"
   ]
  },
  {
   "cell_type": "code",
   "execution_count": null,
   "metadata": {},
   "outputs": [],
   "source": []
  },
  {
   "cell_type": "markdown",
   "metadata": {},
   "source": [
    "## Tokenのロード\n",
    "まず、別ファイルに記述してあるTokenを読み込みます。  \n",
    "機密情報をJupyeにべた書きすると、予期せぬところで流出するリスクが極めて高いので、別ファイルに書き出しておいて読み込んだほうが良いです。"
   ]
  },
  {
   "cell_type": "markdown",
   "metadata": {},
   "source": [
    "```\n",
    "# twitter.json\n",
    "{\n",
    "\"consumer_key\":\"xxx\",\n",
    "\"consumer_secret\":\"xxx\",\n",
    "\"token\":\"xxx\",\n",
    "\"token_secret\":\"xxx\"\n",
    "}\n",
    "```"
   ]
  },
  {
   "cell_type": "code",
   "execution_count": 2,
   "metadata": {},
   "outputs": [],
   "source": [
    "import twitter\n",
    "import json \n",
    "\n",
    "# confidentailな情報をうっかりgitにあげないように、別ファイルに保存してあるものを取得\n",
    "with open('./twitter.json','r') as file: \n",
    "    token=json.load(file)\n",
    "authorization = twitter.OAuth(**token)\n",
    "\n",
    "# twitterとのI/Fのためのオブジェクト\n",
    "t=twitter.Twitter(auth=authorization)"
   ]
  },
  {
   "cell_type": "markdown",
   "metadata": {},
   "source": [
    "## APIを叩く\n",
    "データを取得するためのメソッドです。twitterが存在するもののみを返します。"
   ]
  },
  {
   "cell_type": "code",
   "execution_count": 3,
   "metadata": {},
   "outputs": [],
   "source": [
    "tweets=[] # tweetを格納していくlist\n",
    "\n",
    "def  twitter_gen(search_word,count=100):\n",
    "    search_results=t.search.tweets(q=search_word,count=count)['statuses']\n",
    "    index=0\n",
    "    \n",
    "    while True:\n",
    "        search_result=search_results[index]\n",
    "        if 'text' in search_result:\n",
    "            tweet=search_result['text']\n",
    "            tweets.append(tweet)           \n",
    "            yield tweet\n",
    "        index+=1 \n"
   ]
  },
  {
   "cell_type": "code",
   "execution_count": 4,
   "metadata": {},
   "outputs": [],
   "source": [
    "\n",
    "tweet_qiitas=twitter_gen('Qiita')\n",
    "\n",
    "def get_next_tweet():\n",
    "    return next(tweet_qiitas)"
   ]
  },
  {
   "cell_type": "code",
   "execution_count": 5,
   "metadata": {
    "scrolled": false
   },
   "outputs": [
    {
     "name": "stdout",
     "output_type": "stream",
     "text": [
      "RT @1984sakurai: 数値計算 Advent Calendar 2018 2日目の記事を書きました\n",
      "逆行列補題(Sherman Morrison Woodburyの公式)を利用してBFGS(H公式)を導出するというテーマになっています\n",
      "https://t.co/d0…\n"
     ]
    }
   ],
   "source": [
    "print(next(tweet_qiitas))"
   ]
  },
  {
   "cell_type": "markdown",
   "metadata": {},
   "source": [
    "取得できました。"
   ]
  },
  {
   "cell_type": "markdown",
   "metadata": {},
   "source": [
    "## アプリケーションの動きをJSで実装\n",
    "アプリケーション上で実行するために、**マジックコマンドを利用して、avascriptでscriptを記述します。**  \n",
    "そして、**JSからJupyterのkernelに処理を送る**ことで、バックグラウンドでpythonを実行し、データを読み込みます。"
   ]
  },
  {
   "cell_type": "code",
   "execution_count": 6,
   "metadata": {
    "scrolled": true
   },
   "outputs": [],
   "source": [
    "# 正解ラベルを格納するlist\n",
    "labels=[]"
   ]
  },
  {
   "cell_type": "markdown",
   "metadata": {},
   "source": [
    "まず、ユーザーから判定されたラベルを追加していく処理です。  \n",
    "Jupyterには`Python.notebook.kernel`を使用することで、処理が送信できます。  \n",
    "このオブジェクトの`execute`メソッドにより、JSからpythonのスクリプトを実行できます。"
   ]
  },
  {
   "cell_type": "code",
   "execution_count": 7,
   "metadata": {},
   "outputs": [
    {
     "data": {
      "application/javascript": [
       "\n",
       "function set_label(label){\n",
       "    var kernel = IPython.notebook.kernel;\n",
       "    kernel.execute(\"labels.append(\" + label + \")\");\n",
       "    load_next_tweet();\n",
       "}"
      ],
      "text/plain": [
       "<IPython.core.display.Javascript object>"
      ]
     },
     "metadata": {},
     "output_type": "display_data"
    }
   ],
   "source": [
    "%%javascript\n",
    "\n",
    "function set_label(label){\n",
    "    var kernel = IPython.notebook.kernel;\n",
    "    kernel.execute(\"labels.append(\" + label + \")\");\n",
    "    load_next_tweet();\n",
    "}\n"
   ]
  },
  {
   "cell_type": "markdown",
   "metadata": {},
   "source": [
    "TODO"
   ]
  },
  {
   "cell_type": "code",
   "execution_count": 8,
   "metadata": {},
   "outputs": [
    {
     "data": {
      "application/javascript": [
       "function load_next_tweet(){\n",
       "   var code_input = \"get_next_tweet()\";\n",
       "   var kernel = IPython.notebook.kernel;\n",
       "   var callbacks = { 'iopub' : {'output' : handle_output}};\n",
       "   kernel.execute(code_input, callbacks, {silent:false});\n",
       "}"
      ],
      "text/plain": [
       "<IPython.core.display.Javascript object>"
      ]
     },
     "metadata": {},
     "output_type": "display_data"
    }
   ],
   "source": [
    "%%javascript\n",
    "function load_next_tweet(){\n",
    "   var code_input = \"get_next_tweet()\";\n",
    "   var kernel = IPython.notebook.kernel;\n",
    "   var callbacks = { 'iopub' : {'output' : handle_output}};\n",
    "   kernel.execute(code_input, callbacks, {silent:false});\n",
    "}"
   ]
  },
  {
   "cell_type": "code",
   "execution_count": 9,
   "metadata": {},
   "outputs": [
    {
     "data": {
      "application/javascript": [
       "\n",
       "function handle_output(out){\n",
       "   var res = out.content.data[\"text/plain\"];\n",
       "   $(\"div#tweet_text\").html(res);\n",
       "}"
      ],
      "text/plain": [
       "<IPython.core.display.Javascript object>"
      ]
     },
     "metadata": {},
     "output_type": "display_data"
    }
   ],
   "source": [
    "%%javascript\n",
    "\n",
    "function handle_output(out){\n",
    "   var res = out.content.data[\"text/plain\"];\n",
    "   $(\"div#tweet_text\").html(res);\n",
    "}"
   ]
  },
  {
   "cell_type": "markdown",
   "metadata": {},
   "source": [
    "TODO"
   ]
  },
  {
   "cell_type": "code",
   "execution_count": 10,
   "metadata": {
    "code_folding": [],
    "scrolled": false
   },
   "outputs": [
    {
     "data": {
      "text/html": [
       "<div name=\"tweetbox\">\n",
       "    Instructions: Click in textbox. Enter a 1 if the tweet is relevant, enter 0 otherwise.<br>\n",
       "Tweet: \n",
       "    <div id=\"tweet_text\" value=\"text\"></div><br>\n",
       "<input type=text id=\"capture\"></input><br>\n",
       "</div>\n",
       "\n",
       "\n",
       "\n",
       "<script>\n",
       "$(\"input#capture\").keypress(function(e) {\n",
       "if(e.which == 48) {\n",
       "    set_label(0);\n",
       "    $(\"input#capture\").val(\"\");\n",
       "}else if (e.which==49){\n",
       "    set_label(1);\n",
       "    $(\"input#capture\").val(\"\");\n",
       "  }\n",
       "});\n",
       "\n",
       "\n",
       "load_next_tweet();\n",
       "</script>"
      ],
      "text/plain": [
       "<IPython.core.display.HTML object>"
      ]
     },
     "metadata": {},
     "output_type": "display_data"
    }
   ],
   "source": [
    "%%html\n",
    "<div name=\"tweetbox\">\n",
    "    Instructions: Click in textbox. Enter a 1 if the tweet is relevant, enter 0 otherwise.<br>\n",
    "Tweet: \n",
    "    <div id=\"tweet_text\" value=\"text\"></div><br>\n",
    "<input type=text id=\"capture\"></input><br>\n",
    "</div>\n",
    "\n",
    "\n",
    "\n",
    "<script>\n",
    "$(\"input#capture\").keypress(function(e) {\n",
    "if(e.which == 48) {\n",
    "    set_label(0);\n",
    "    $(\"input#capture\").val(\"\");\n",
    "}else if (e.which==49){\n",
    "    set_label(1);\n",
    "    $(\"input#capture\").val(\"\");\n",
    "  }\n",
    "});\n",
    "\n",
    "\n",
    "load_next_tweet();\n",
    "</script>\n"
   ]
  },
  {
   "cell_type": "code",
   "execution_count": null,
   "metadata": {},
   "outputs": [],
   "source": []
  },
  {
   "cell_type": "markdown",
   "metadata": {},
   "source": [
    "## ラベルを確認"
   ]
  },
  {
   "cell_type": "code",
   "execution_count": 11,
   "metadata": {
    "scrolled": true
   },
   "outputs": [
    {
     "name": "stdout",
     "output_type": "stream",
     "text": [
      "[0, 1, 0, 1, 0, 1, 0, 0, 1]\n",
      "['RT @1984sakurai: 数値計算 Advent Calendar 2018 2日目の記事を書きました\\n逆行列補題(Sherman Morrison Woodburyの公式)を利用してBFGS(H公式)を導出するというテーマになっています\\nhttps://t.co/d0…']\n"
     ]
    }
   ],
   "source": [
    "print(labels)\n",
    "print(tweets)"
   ]
  },
  {
   "cell_type": "markdown",
   "metadata": {},
   "source": [
    "無事、入力したラベルが入っています。"
   ]
  },
  {
   "cell_type": "markdown",
   "metadata": {},
   "source": [
    "## 保存してデータセットを作成\n",
    "最後にデータセットをファイルに書き出しましょう。"
   ]
  },
  {
   "cell_type": "code",
   "execution_count": 5,
   "metadata": {},
   "outputs": [
    {
     "ename": "TypeError",
     "evalue": "data argument can't be an iterator",
     "output_type": "error",
     "traceback": [
      "\u001b[0;31m---------------------------------------------------------------------------\u001b[0m",
      "\u001b[0;31mTypeError\u001b[0m                                 Traceback (most recent call last)",
      "\u001b[0;32m<ipython-input-5-04451d963fbf>\u001b[0m in \u001b[0;36m<module>\u001b[0;34m()\u001b[0m\n\u001b[1;32m      1\u001b[0m \u001b[0;32mimport\u001b[0m \u001b[0mpandas\u001b[0m \u001b[0;32mas\u001b[0m \u001b[0mpd\u001b[0m\u001b[0;34m\u001b[0m\u001b[0m\n\u001b[0;32m----> 2\u001b[0;31m \u001b[0mpd\u001b[0m\u001b[0;34m.\u001b[0m\u001b[0mDataFrame\u001b[0m\u001b[0;34m(\u001b[0m\u001b[0mzip\u001b[0m\u001b[0;34m(\u001b[0m\u001b[0;34m)\u001b[0m\u001b[0;34m)\u001b[0m\u001b[0;34m\u001b[0m\u001b[0m\n\u001b[0m",
      "\u001b[0;32m~/.pyenv/versions/3.6.5/envs/pycoon/lib/python3.6/site-packages/pandas/core/frame.py\u001b[0m in \u001b[0;36m__init__\u001b[0;34m(self, data, index, columns, dtype, copy)\u001b[0m\n\u001b[1;32m    387\u001b[0m                 \u001b[0mmgr\u001b[0m \u001b[0;34m=\u001b[0m \u001b[0mself\u001b[0m\u001b[0;34m.\u001b[0m\u001b[0m_init_dict\u001b[0m\u001b[0;34m(\u001b[0m\u001b[0;34m{\u001b[0m\u001b[0;34m}\u001b[0m\u001b[0;34m,\u001b[0m \u001b[0mindex\u001b[0m\u001b[0;34m,\u001b[0m \u001b[0mcolumns\u001b[0m\u001b[0;34m,\u001b[0m \u001b[0mdtype\u001b[0m\u001b[0;34m=\u001b[0m\u001b[0mdtype\u001b[0m\u001b[0;34m)\u001b[0m\u001b[0;34m\u001b[0m\u001b[0m\n\u001b[1;32m    388\u001b[0m         \u001b[0;32melif\u001b[0m \u001b[0misinstance\u001b[0m\u001b[0;34m(\u001b[0m\u001b[0mdata\u001b[0m\u001b[0;34m,\u001b[0m \u001b[0mcollections\u001b[0m\u001b[0;34m.\u001b[0m\u001b[0mIterator\u001b[0m\u001b[0;34m)\u001b[0m\u001b[0;34m:\u001b[0m\u001b[0;34m\u001b[0m\u001b[0m\n\u001b[0;32m--> 389\u001b[0;31m             \u001b[0;32mraise\u001b[0m \u001b[0mTypeError\u001b[0m\u001b[0;34m(\u001b[0m\u001b[0;34m\"data argument can't be an iterator\"\u001b[0m\u001b[0;34m)\u001b[0m\u001b[0;34m\u001b[0m\u001b[0m\n\u001b[0m\u001b[1;32m    390\u001b[0m         \u001b[0;32melse\u001b[0m\u001b[0;34m:\u001b[0m\u001b[0;34m\u001b[0m\u001b[0m\n\u001b[1;32m    391\u001b[0m             \u001b[0;32mtry\u001b[0m\u001b[0;34m:\u001b[0m\u001b[0;34m\u001b[0m\u001b[0m\n",
      "\u001b[0;31mTypeError\u001b[0m: data argument can't be an iterator"
     ]
    }
   ],
   "source": [
    "import pandas as pd\n",
    "pd.DataFrame(zip())"
   ]
  },
  {
   "cell_type": "code",
   "execution_count": 31,
   "metadata": {},
   "outputs": [
    {
     "data": {
      "text/plain": [
       "[0, 0, 1, 0, 1, 0, 0, 0]"
      ]
     },
     "execution_count": 31,
     "metadata": {},
     "output_type": "execute_result"
    }
   ],
   "source": [
    "labels"
   ]
  },
  {
   "cell_type": "code",
   "execution_count": null,
   "metadata": {},
   "outputs": [],
   "source": []
  },
  {
   "cell_type": "markdown",
   "metadata": {},
   "source": [
    "# 以下、過去の遺物"
   ]
  },
  {
   "cell_type": "markdown",
   "metadata": {},
   "source": [
    "## 対処となるデータを読み込む\n",
    "簡単のため、scikit-learnに組み込まれているMNISTを使用します。"
   ]
  },
  {
   "cell_type": "code",
   "execution_count": 67,
   "metadata": {},
   "outputs": [
    {
     "name": "stderr",
     "output_type": "stream",
     "text": [
      "UsageError: Line magic function `%mataplotlib` not found.\n"
     ]
    }
   ],
   "source": [
    "import pandas as pd\n",
    "\n",
    "\n",
    "import numpy as np\n",
    "\n",
    "import matplotlib.pyplot as plt\n",
    "%mataplotlib inline"
   ]
  },
  {
   "cell_type": "code",
   "execution_count": 68,
   "metadata": {},
   "outputs": [],
   "source": [
    "from sklearn.datasets import  load_digits\n",
    "images=load_digits()['images']\n",
    "# シャッフル\n",
    "np.random.shuffle(images)"
   ]
  },
  {
   "cell_type": "code",
   "execution_count": 69,
   "metadata": {
    "scrolled": true
   },
   "outputs": [
    {
     "data": {
      "image/png": "[encoded data removed]",
      "text/plain": [
       "<Figure size 432x288 with 1 Axes>"
      ]
     },
     "metadata": {},
     "output_type": "display_data"
    }
   ],
   "source": [
    "plt.imshow(images[3])\n",
    "plt.gray()"
   ]
  },
  {
   "cell_type": "markdown",
   "metadata": {},
   "source": [
    "これでラベル付けの対象となるデータはできました。ここから、実際にアプリケーション作成のためのコードを書いていきます。"
   ]
  },
  {
   "cell_type": "markdown",
   "metadata": {},
   "source": [
    "## 裏側で実行されるpythonのコード"
   ]
  },
  {
   "cell_type": "markdown",
   "metadata": {},
   "source": [
    "まず、"
   ]
  },
  {
   "cell_type": "code",
   "execution_count": 98,
   "metadata": {},
   "outputs": [],
   "source": [
    "def image_gen(index=0):\n",
    "    while True:\n",
    "        yield images[index]\n",
    "        index+=1"
   ]
  },
  {
   "cell_type": "code",
   "execution_count": 107,
   "metadata": {},
   "outputs": [],
   "source": [
    "image_gen=image_gen"
   ]
  },
  {
   "cell_type": "code",
   "execution_count": 123,
   "metadata": {
    "scrolled": false
   },
   "outputs": [
    {
     "data": {
      "text/plain": [
       "<matplotlib.image.AxesImage at 0x1144e8ef0>"
      ]
     },
     "execution_count": 123,
     "metadata": {},
     "output_type": "execute_result"
    },
    {
     "data": {
      "image/png": "[encoded data removed]",
      "text/plain": [
       "<Figure size 432x288 with 1 Axes>"
      ]
     },
     "metadata": {},
     "output_type": "display_data"
    }
   ],
   "source": [
    "plt.imshow(next(image_gen))"
   ]
  },
  {
   "cell_type": "markdown",
   "metadata": {},
   "source": [
    "## アプリケーションのインターフェースとして実行されるjavascript"
   ]
  },
  {
   "cell_type": "code",
   "execution_count": null,
   "metadata": {},
   "outputs": [],
   "source": [
    "ここから、アプリケーションのインターフェースとしての動きを定義していきます。 マジックコマン*%%javascript%%により、 \n"
   ]
  },
  {
   "cell_type": "code",
   "execution_count": 114,
   "metadata": {},
   "outputs": [
    {
     "data": {
      "application/javascript": [
       "\n",
       "function set_label(label){\n",
       "    var kernel = IPython.notebook.kernel;\n",
       "    kernel.execute(\"labels.append(\" + label + \")\");\n",
       "    load_next_image();\n",
       "}"
      ],
      "text/plain": [
       "<IPython.core.display.Javascript object>"
      ]
     },
     "metadata": {},
     "output_type": "display_data"
    }
   ],
   "source": [
    "%%javascript\n",
    "\n",
    "function set_label(label){\n",
    "    var kernel = IPython.notebook.kernel;\n",
    "    kernel.execute(\"labels.append(\" + label + \")\");\n",
    "    load_next_image();\n",
    "}\n"
   ]
  },
  {
   "cell_type": "code",
   "execution_count": 115,
   "metadata": {},
   "outputs": [
    {
     "data": {
      "application/javascript": [
       "function load_next_image(){\n",
       "   var code_input = \"next(image_gen)\";\n",
       "   var kernel = IPython.notebook.kernel;\n",
       "   var callbacks = { 'iopub' : {'output' : handle_output}};\n",
       "   kernel.execute(code_input, callbacks, {silent:false});\n",
       "}"
      ],
      "text/plain": [
       "<IPython.core.display.Javascript object>"
      ]
     },
     "metadata": {},
     "output_type": "display_data"
    }
   ],
   "source": [
    "%%javascript\n",
    "function load_next_image(){\n",
    "   var code_input = \"next(image_gen)\";\n",
    "   var kernel = IPython.notebook.kernel;\n",
    "   var callbacks = { 'iopub' : {'output' : handle_output}};\n",
    "   kernel.execute(code_input, callbacks, {silent:false});\n",
    "}"
   ]
  },
  {
   "cell_type": "code",
   "execution_count": 152,
   "metadata": {},
   "outputs": [
    {
     "data": {
      "application/javascript": [
       "\n",
       "function handle_output(){\n",
       "   var kernel = IPython.notebook.kernel;\n",
       "   var callbacks = { 'iopub' : {'output' : handle_output}};\n",
       "   kernel.execute(\"print(11111);aximshow(next(image_gen))\");\n",
       "}"
      ],
      "text/plain": [
       "<IPython.core.display.Javascript object>"
      ]
     },
     "metadata": {},
     "output_type": "display_data"
    }
   ],
   "source": [
    "%%javascript\n",
    "\n",
    "function handle_output(){\n",
    "   var kernel = IPython.notebook.kernel;\n",
    "   var callbacks = { 'iopub' : {'output' : handle_output}};\n",
    "   kernel.execute(\"print(11111);aximshow(next(image_gen))\");\n",
    "}"
   ]
  },
  {
   "cell_type": "code",
   "execution_count": 153,
   "metadata": {},
   "outputs": [
    {
     "data": {
      "text/html": [
       "<div name=\"imagebox\">\n",
       "    画像に一致すると思う数字を入力.<br>\n",
       "画像 \n",
       "    <div id=\"tweet_text\" value=\"text\"></div><br>\n",
       "<input type=text id=\"capture\"></input><br>\n",
       "</div>\n",
       "\n",
       "\n",
       "\n",
       "<script>\n",
       "$(\"input#capture\").keypress(function(e) {\n",
       "   handle_output()\n",
       "});\n",
       "\n",
       "\n",
       "</script>"
      ],
      "text/plain": [
       "<IPython.core.display.HTML object>"
      ]
     },
     "metadata": {},
     "output_type": "display_data"
    }
   ],
   "source": [
    "%%html\n",
    "<div name=\"imagebox\">\n",
    "    画像に一致すると思う数字を入力.<br>\n",
    "画像 \n",
    "    <div id=\"tweet_text\" value=\"text\"></div><br>\n",
    "<input type=text id=\"capture\"></input><br>\n",
    "</div>\n",
    "\n",
    "\n",
    "\n",
    "<script>\n",
    "$(\"input#capture\").keypress(function(e) {\n",
    "   handle_output()\n",
    "});\n",
    "\n",
    "\n",
    "</script>\n"
   ]
  },
  {
   "cell_type": "code",
   "execution_count": 151,
   "metadata": {
    "scrolled": false
   },
   "outputs": [
    {
     "data": {
      "text/plain": [
       "<matplotlib.image.AxesImage at 0x1145146d8>"
      ]
     },
     "execution_count": 151,
     "metadata": {},
     "output_type": "execute_result"
    },
    {
     "data": {
      "image/png": "[encoded data removed]",
      "text/plain": [
       "<Figure size 432x288 with 1 Axes>"
      ]
     },
     "metadata": {},
     "output_type": "display_data"
    }
   ],
   "source": [
    "ax.imshow(next(image_gen))"
   ]
  },
  {
   "cell_type": "code",
   "execution_count": 122,
   "metadata": {
    "code_folding": [],
    "scrolled": false
   },
   "outputs": [
    {
     "data": {
      "text/html": [
       "<div name=\"imagebox\">\n",
       "    画像に一致すると思う数字を入力.<br>\n",
       "画像 \n",
       "    <div id=\"tweet_text\" value=\"text\"></div><br>\n",
       "<input type=text id=\"capture\"></input><br>\n",
       "</div>\n",
       "\n",
       "\n",
       "\n",
       "<script>\n",
       "$(\"input#capture\").keypress(function(e) {\n",
       "    handle_output(e.which)\n",
       "    $(\"input#capture\").val(\"\");\n",
       "});\n",
       "\n",
       "function set_label(label){\n",
       "    var kernel = IPython.notebook.kernel;\n",
       "    kernel.execute(\"labels.append(\" + label + \")\");\n",
       "    load_next_tweet();\n",
       "}\n",
       "\n",
       "\n",
       "function load_next_tweet(){\n",
       "   var code_input = \"get_next_tweet()\";\n",
       "   var kernel = IPython.notebook.kernel;\n",
       "   var callbacks = { 'iopub' : {'output' : handle_output}};\n",
       "   kernel.execute(code_input, callbacks, {silent:false});\n",
       "}\n",
       "\n",
       "function handle_output(out){\n",
       "    var res = out.content.data['text/plain']\n",
       "   $(\"div#tweet_text\").html(res);\n",
       "}\n",
       "\n",
       "load_next_tweet();\n",
       "</script>"
      ],
      "text/plain": [
       "<IPython.core.display.HTML object>"
      ]
     },
     "metadata": {},
     "output_type": "display_data"
    }
   ],
   "source": [
    "%%html\n",
    "<div name=\"imagebox\">\n",
    "    画像に一致すると思う数字を入力.<br>\n",
    "画像 \n",
    "    <div id=\"tweet_text\" value=\"text\"></div><br>\n",
    "<input type=text id=\"capture\"></input><br>\n",
    "</div>\n",
    "\n",
    "\n",
    "\n",
    "<script>\n",
    "$(\"input#capture\").keypress(function(e) {\n",
    "    handle_output(e.which)\n",
    "    $(\"input#capture\").val(\"\");\n",
    "});\n",
    "\n",
    "function set_label(label){\n",
    "    var kernel = IPython.notebook.kernel;\n",
    "    kernel.execute(\"labels.append(\" + label + \")\");\n",
    "    load_next_tweet();\n",
    "}\n",
    "\n",
    "\n",
    "function load_next_tweet(){\n",
    "   var code_input = \"get_next_tweet()\";\n",
    "   var kernel = IPython.notebook.kernel;\n",
    "   var callbacks = { 'iopub' : {'output' : handle_output}};\n",
    "   kernel.execute(code_input, callbacks, {silent:false});\n",
    "}\n",
    "\n",
    "function handle_output(out){\n",
    "    var res = out.content.data['text/plain']\n",
    "   $(\"div#tweet_text\").html(res);\n",
    "}\n",
    "\n",
    "load_next_tweet();\n",
    "</script>\n"
   ]
  },
  {
   "cell_type": "code",
   "execution_count": null,
   "metadata": {},
   "outputs": [],
   "source": [
    "# ラベルをファイルに保存\n",
    "labels_file='./tweet_labels'\n",
    "\n",
    "with open(labels_file,'w') as file:\n",
    "    json.dump(labels,file)"
   ]
  },
  {
   "cell_type": "code",
   "execution_count": null,
   "metadata": {},
   "outputs": [],
   "source": []
  },
  {
   "cell_type": "code",
   "execution_count": null,
   "metadata": {
    "scrolled": true
   },
   "outputs": [],
   "source": [
    "import twitter\n",
    "import json \n",
    "\n",
    "# https://apps.twitter.com/app/13142176/show\n",
    "# confidentailな情報をうっかりgitにあげないように、別ファイルに書き出し\n",
    "with open('./twitter.json','r') as file: \n",
    "    token=json.load(file)\n",
    "authorization = twitter.OAuth(**token)\n",
    "\n",
    "# twitterとのI/Fのためのオブジェクト\n",
    "t=twitter.Twitter(auth=authorization)"
   ]
  },
  {
   "cell_type": "code",
   "execution_count": null,
   "metadata": {},
   "outputs": [],
   "source": [
    "# 検索データをファイルにアウトプット\n",
    "output_file='./python_tweets.json'\n",
    "\n",
    "with open(output_file,'a') as file:\n",
    "    search_results=t.search.tweets(q='python',count=100)['statuses']\n",
    "    \n",
    "    for tweet in search_results:\n",
    "        if 'text' in tweet:\n",
    "            # オブジェクトをjsonに変換\n",
    "            file.write(json.dumps(tweet))\n",
    "            file.write('\\n\\n')"
   ]
  }
 ],
 "metadata": {
  "kernelspec": {
   "display_name": "Python 3",
   "language": "python",
   "name": "python3"
  },
  "language_info": {
   "codemirror_mode": {
    "name": "ipython",
    "version": 3
   },
   "file_extension": ".py",
   "mimetype": "text/x-python",
   "name": "python",
   "nbconvert_exporter": "python",
   "pygments_lexer": "ipython3",
   "version": "3.6.5"
  },
  "varInspector": {
   "cols": {
    "lenName": 16,
    "lenType": 16,
    "lenVar": 40
   },
   "kernels_config": {
    "python": {
     "delete_cmd_postfix": "",
     "delete_cmd_prefix": "del ",
     "library": "var_list.py",
     "varRefreshCmd": "print(var_dic_list())"
    },
    "r": {
     "delete_cmd_postfix": ") ",
     "delete_cmd_prefix": "rm(",
     "library": "var_list.r",
     "varRefreshCmd": "cat(var_dic_list()) "
    }
   },
   "types_to_exclude": [
    "module",
    "function",
    "builtin_function_or_method",
    "instance",
    "_Feature"
   ],
   "window_display": false
  }
 },
 "nbformat": 4,
 "nbformat_minor": 2
}
