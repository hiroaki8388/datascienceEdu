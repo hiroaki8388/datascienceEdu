{
 "cells": [
  {
   "cell_type": "markdown",
   "metadata": {},
   "source": [
    "# Jupyterのマジックコマンドを利用して、簡単なアプリを作る"
   ]
  },
  {
   "cell_type": "markdown",
   "metadata": {},
   "source": [
    "# これなに?"
   ]
  },
  {
   "cell_type": "markdown",
   "metadata": {},
   "source": [
    "Fringe81で機械学習エンジニアをやっている長谷川です。  業務では主に広告配信のサーバ側の開発(Scala)および、その配信上で実行する機械学習アルゴリズムの開発(Python)をやっています。  \n",
    "この記事では、Jupyterのマジックコマンドを利用して複数の言語を組み合わせることで、簡単なアプリケーション作成方法について書きます。   \n",
    "なおjsのコードが少し出てきますが、、僕は殆ど書いたことがないので、なにか間違いがありましたらごめんなさい。  "
   ]
  },
  {
   "cell_type": "markdown",
   "metadata": {},
   "source": [
    "## 作るアプリの実行例\n",
    "twitterのデータを手動でラベルづけするアプリです。Jupter上で実行してます。"
   ]
  },
  {
   "cell_type": "markdown",
   "metadata": {},
   "source": [
    "TODO"
   ]
  },
  {
   "cell_type": "markdown",
   "metadata": {},
   "source": [
    "# Jupyterとは?"
   ]
  },
  {
   "cell_type": "markdown",
   "metadata": {},
   "source": [
    "さまざまなコードのインタラクティブな実行などが可能になる、ブラウザベースのエディタです。余談ですがこの記事もすべてJupyter上で書きました。  \n",
    "pythonのイメージが強いですが、kernelさえ入れ替えれば大抵の言語は実行可能です。(ちなみにJupyterの名前の由来はJulia+python+Rだそうです。)  \n"
   ]
  },
  {
   "cell_type": "markdown",
   "metadata": {},
   "source": [
    "# マジックコマンドとは?"
   ]
  },
  {
   "cell_type": "markdown",
   "metadata": {},
   "source": [
    "さらに、juypterには**マジックコマンド**と呼ばれる機能があり、セルの先頭に*%%xxx*のようなアノテーションを付けると、シェルやsqlなど、さまざまな処理が実行可能になります。  \n",
    "そのマジックコマンドを利用し、pythonのコードと**%%javascriptと%%htmlを組み合わせることにより、簡易的なラベルで付けアプリを作成してみます。**"
   ]
  },
  {
   "cell_type": "markdown",
   "metadata": {},
   "source": [
    "## %%javascript"
   ]
  },
  {
   "cell_type": "code",
   "execution_count": 2,
   "metadata": {},
   "outputs": [
    {
     "data": {
      "application/javascript": [
       "alert('こんにちはJS');"
      ],
      "text/plain": [
       "<IPython.core.display.Javascript object>"
      ]
     },
     "metadata": {},
     "output_type": "display_data"
    }
   ],
   "source": [
    "%%javascript\n",
    "alert('こんにちはJS');"
   ]
  },
  {
   "cell_type": "markdown",
   "metadata": {},
   "source": [
    "Jupyter上で実行するとダイアログができます。"
   ]
  },
  {
   "cell_type": "markdown",
   "metadata": {},
   "source": [
    "## %HTML"
   ]
  },
  {
   "cell_type": "code",
   "execution_count": 8,
   "metadata": {},
   "outputs": [
    {
     "data": {
      "text/html": [
       "<script>\n",
       "<!-- alert(\"こんにちは　HTML\"); -->\n",
       "</script>"
      ],
      "text/plain": [
       "<IPython.core.display.HTML object>"
      ]
     },
     "metadata": {},
     "output_type": "display_data"
    }
   ],
   "source": [
    "%%html\n",
    "<script>\n",
    "alert(\"こんにちは　HTML\");\n",
    "</script>"
   ]
  },
  {
   "cell_type": "markdown",
   "metadata": {},
   "source": [
    "同じくダイアログが出ます。"
   ]
  },
  {
   "cell_type": "markdown",
   "metadata": {},
   "source": [
    "# ライブラリのバージョン"
   ]
  },
  {
   "cell_type": "markdown",
   "metadata": {},
   "source": [
    "TODO"
   ]
  },
  {
   "cell_type": "markdown",
   "metadata": {},
   "source": [
    "# アプリの例: データセットのラベルづけ\n",
    "機械学習をする上で、ある意味アルゴリズム以上に辛いのは、データセットの作成です。教師あり学習の場合、当然教師ラベルを付与する必要があるのですが、そんな都合よくラベルが付いているデータがあることは少なく、仮についていたとしても人力での補正が必要な場合は多々あります。  \n",
    "そこで、人力でのラベル付をJupyter上で完結する形で実装してみます。\n",
    "例として、twitterから某メーカーのきのこたけのこに関して検索したデータを取得し、tweetの内容をみて、たけのこ派かどうかのラベル付けを行います。 (たけのこ派を1、そうでないかどちらとも言えない場合0とする)^1   \n",
    "なお、下記の例(特にjavascriptの部分)はこちらの、[Python Real World Data Science ](https://www.packtpub.com/big-data-and-business-intelligence/python-real-world-data-science)をかなり参考にしました。(邦訳は多分ないですが、とてもいい本です)"
   ]
  },
  {
   "cell_type": "markdown",
   "metadata": {},
   "source": [
    "## Tokenのロード\n",
    "まず、別ファイルに記述してあるTokenを読み込みます。  \n",
    "機密情報をJupyeにべた書きすると、予期せぬところで流出するリスクが極めて高いので、別ファイルに書き出しておいて読み込んだほうが良いです。"
   ]
  },
  {
   "cell_type": "markdown",
   "metadata": {},
   "source": [
    "```\n",
    "# twitter.json\n",
    "{\n",
    "\"consumer_key\":\"xxx\",\n",
    "\"consumer_secret\":\"xxx\",\n",
    "\"token\":\"xxx\",\n",
    "\"token_secret\":\"xxx\"\n",
    "}\n",
    "```"
   ]
  },
  {
   "cell_type": "code",
   "execution_count": 3,
   "metadata": {
    "scrolled": true
   },
   "outputs": [
    {
     "name": "stdout",
     "output_type": "stream",
     "text": [
      "Requirement already satisfied: twitter in /Users/hiroaki/.pyenv/versions/anaconda3-5.3.0/lib/python3.7/site-packages (1.18.0)\n",
      "\u001b[31mtwisted 18.7.0 requires PyHamcrest>=1.9.0, which is not installed.\u001b[0m\n",
      "\u001b[33mYou are using pip version 10.0.1, however version 18.1 is available.\n",
      "You should consider upgrading via the 'pip install --upgrade pip' command.\u001b[0m\n"
     ]
    }
   ],
   "source": [
    "# twitterのAPIを叩くためにpipでいれる\n",
    "!pip install twitter"
   ]
  },
  {
   "cell_type": "code",
   "execution_count": 1,
   "metadata": {},
   "outputs": [],
   "source": [
    "import twitter\n",
    "import json \n",
    "\n",
    "# confidentailな情報をうっかりgitにあげないように、別ファイルに保存してあるものを取得\n",
    "with open('./twitter.json','r') as file: \n",
    "    token=json.load(file)\n",
    "authorization = twitter.OAuth(**token)\n",
    "\n",
    "# twitterとのI/Fのためのオブジェクト\n",
    "t=twitter.Twitter(auth=authorization)"
   ]
  },
  {
   "cell_type": "markdown",
   "metadata": {},
   "source": [
    "## APIを叩く\n",
    "データを取得するためのメソッドです。tweetが存在するもののみを返します。"
   ]
  },
  {
   "cell_type": "code",
   "execution_count": 6,
   "metadata": {},
   "outputs": [],
   "source": [
    "tweets=[] # tweetを格納していくlist\n",
    "\n",
    "def  twitter_gen(search_word,count=100):\n",
    "    search_results=t.search.tweets(q=search_word,count=count)['statuses']\n",
    "    index=0\n",
    "    \n",
    "    while True:\n",
    "        search_result=search_results[index]\n",
    "        if 'text' in search_result: # contentにtextがあるもののみを取得\n",
    "            tweet=search_result['text']\n",
    "            tweets.append(tweet)           \n",
    "            yield tweet\n",
    "        index+=1 \n"
   ]
  },
  {
   "cell_type": "code",
   "execution_count": 46,
   "metadata": {},
   "outputs": [],
   "source": [
    "tweet_meiji_war=twitter_gen('たけのこ派 きのこ派')"
   ]
  },
  {
   "cell_type": "markdown",
   "metadata": {},
   "source": [
    "generatorで取得しているので、`next`で読み込みます"
   ]
  },
  {
   "cell_type": "code",
   "execution_count": 50,
   "metadata": {
    "scrolled": true
   },
   "outputs": [
    {
     "name": "stdout",
     "output_type": "stream",
     "text": [
      "笹谷「卒業シーズンとかさ、『いっぱい喧嘩もしたけど、だからこそ今がある』みたいなキャッチコピーよく聞くよな」茂庭「鎌ちはよく二口に突っかかってるし、当てはまるんじゃない？」鎌先「この間はきのこ派たけのこ派で戦争したけど」茂庭「あーそれだめなやつだわ」笹谷「つか戦争って…」\n"
     ]
    }
   ],
   "source": [
    "print(next(tweet_meiji_war))"
   ]
  },
  {
   "cell_type": "markdown",
   "metadata": {},
   "source": [
    "取得できました。"
   ]
  },
  {
   "cell_type": "markdown",
   "metadata": {},
   "source": [
    "## アプリケーションの動きをJSで実装\n",
    "アプリケーション上で実行するために、**マジックコマンドを利用して、jsでscriptを記述します。**  \n",
    "そして、そのscriptから**Jupyterのkernelに処理を送る**ことで、バックグラウンドでpythonを実行し、データを読み込みます。"
   ]
  },
  {
   "cell_type": "code",
   "execution_count": 14,
   "metadata": {
    "scrolled": true
   },
   "outputs": [],
   "source": [
    "# 正解ラベルを格納するlist\n",
    "labels=[]"
   ]
  },
  {
   "cell_type": "markdown",
   "metadata": {},
   "source": [
    "まず、ユーザーから判定されたラベルを追加していく処理です。  \n",
    "Jupyterには`Python.notebook.kernel`を使用することで、処理が送信できます。  \n",
    "このオブジェクトの`execute`メソッドにより、JSからpythonのスクリプトを実行できます。"
   ]
  },
  {
   "cell_type": "code",
   "execution_count": 15,
   "metadata": {},
   "outputs": [
    {
     "data": {
      "application/javascript": [
       "\n",
       "function set_label(label){\n",
       "    var kernel = IPython.notebook.kernel;\n",
       "    kernel.execute(\"labels.append(\" + label + \")\");\n",
       "    load_next_tweet();\n",
       "}"
      ],
      "text/plain": [
       "<IPython.core.display.Javascript object>"
      ]
     },
     "metadata": {},
     "output_type": "display_data"
    }
   ],
   "source": [
    "%%javascript\n",
    "\n",
    "function set_label(label){\n",
    "    var kernel = IPython.notebook.kernel;\n",
    "    kernel.execute(\"labels.append(\" + label + \")\");\n",
    "    load_next_tweet();\n",
    "}\n"
   ]
  },
  {
   "cell_type": "markdown",
   "metadata": {},
   "source": [
    "TODO"
   ]
  },
  {
   "cell_type": "code",
   "execution_count": 54,
   "metadata": {},
   "outputs": [
    {
     "data": {
      "application/javascript": [
       "function load_next_tweet(){\n",
       "   var code_input = \"next(tweet_meiji_war)\";\n",
       "   var kernel = IPython.notebook.kernel;\n",
       "   var callbacks = { 'iopub' : {'output' : handle_output}};\n",
       "   kernel.execute(code_input, callbacks, {silent:false});\n",
       "}"
      ],
      "text/plain": [
       "<IPython.core.display.Javascript object>"
      ]
     },
     "metadata": {},
     "output_type": "display_data"
    }
   ],
   "source": [
    "%%javascript\n",
    "function load_next_tweet(){\n",
    "   var code_input = \"next(tweet_meiji_war)\";\n",
    "   var kernel = IPython.notebook.kernel;\n",
    "   var callbacks = { 'iopub' : {'output' : handle_output}};\n",
    "   kernel.execute(code_input, callbacks, {silent:false});\n",
    "}"
   ]
  },
  {
   "cell_type": "code",
   "execution_count": 17,
   "metadata": {},
   "outputs": [
    {
     "data": {
      "application/javascript": [
       "\n",
       "function handle_output(out){\n",
       "   var res = out.content.data[\"text/plain\"];\n",
       "   $(\"div#tweet_text\").html(res);\n",
       "}"
      ],
      "text/plain": [
       "<IPython.core.display.Javascript object>"
      ]
     },
     "metadata": {},
     "output_type": "display_data"
    }
   ],
   "source": [
    "%%javascript\n",
    "\n",
    "function handle_output(out){\n",
    "   var res = out.content.data[\"text/plain\"];\n",
    "   $(\"div#tweet_text\").html(res);\n",
    "}"
   ]
  },
  {
   "cell_type": "markdown",
   "metadata": {},
   "source": [
    "TODO"
   ]
  },
  {
   "cell_type": "code",
   "execution_count": 55,
   "metadata": {
    "code_folding": [],
    "scrolled": true
   },
   "outputs": [
    {
     "data": {
      "text/html": [
       "<div name=\"tweetbox\">\n",
       "    たけのこ派の場合は1、そうでない場合は0を押してください<br>\n",
       "Tweet: \n",
       "    <div id=\"tweet_text\" value=\"text\"></div><br>\n",
       "<input type=text id=\"capture\"></input><br>\n",
       "</div>\n",
       "\n",
       "\n",
       "\n",
       "<script>\n",
       "load_next_tweet();\n",
       "$(\"input#capture\").keypress(function(e) {\n",
       "if(e.which == 48) {\n",
       "    set_label(0);\n",
       "    $(\"input#capture\").val(\"\");\n",
       "}else if (e.which==49){\n",
       "    set_label(1);\n",
       "    $(\"input#capture\").val(\"\");\n",
       "  }\n",
       "});\n",
       "\n",
       "function set_label(label){\n",
       "    var kernel = IPython.notebook.kernel;\n",
       "    kernel.execute(\"labels.append(\" + label + \")\");\n",
       "    load_next_tweet();\n",
       "}\n",
       "\n",
       "function load_next_tweet(){\n",
       "   var code_input = \"next(tweet_meiji_war)\";\n",
       "   var kernel = IPython.notebook.kernel;\n",
       "   var callbacks = { 'iopub' : {'output' : handle_output}};\n",
       "   kernel.execute(code_input, callbacks, {silent:false});\n",
       "}\n",
       "\n",
       "function handle_output(out){\n",
       "   var res = out.content.data[\"text/plain\"];\n",
       "   $(\"div#tweet_text\").html(res);\n",
       "}\n",
       "</script>"
      ],
      "text/plain": [
       "<IPython.core.display.HTML object>"
      ]
     },
     "metadata": {},
     "output_type": "display_data"
    }
   ],
   "source": [
    "%%html\n",
    "<div name=\"tweetbox\">\n",
    "    たけのこ派の場合は1、そうでない場合は0を押してください<br>\n",
    "Tweet: \n",
    "    <div id=\"tweet_text\" value=\"text\"></div><br>\n",
    "<input type=text id=\"capture\"></input><br>\n",
    "</div>\n",
    "\n",
    "\n",
    "\n",
    "<script>\n",
    "load_next_tweet();\n",
    "$(\"input#capture\").keypress(function(e) {\n",
    "if(e.which == 48) {\n",
    "    set_label(0);\n",
    "    $(\"input#capture\").val(\"\");\n",
    "}else if (e.which==49){\n",
    "    set_label(1);\n",
    "    $(\"input#capture\").val(\"\");\n",
    "  }\n",
    "});\n",
    "\n",
    "function set_label(label){\n",
    "    var kernel = IPython.notebook.kernel;\n",
    "    kernel.execute(\"labels.append(\" + label + \")\");\n",
    "    load_next_tweet();\n",
    "}\n",
    "\n",
    "function load_next_tweet(){\n",
    "   var code_input = \"next(tweet_meiji_war)\";\n",
    "   var kernel = IPython.notebook.kernel;\n",
    "   var callbacks = { 'iopub' : {'output' : handle_output}};\n",
    "   kernel.execute(code_input, callbacks, {silent:false});\n",
    "}\n",
    "\n",
    "function handle_output(out){\n",
    "   var res = out.content.data[\"text/plain\"];\n",
    "   $(\"div#tweet_text\").html(res);\n",
    "}\n",
    "</script>\n"
   ]
  },
  {
   "cell_type": "markdown",
   "metadata": {},
   "source": [
    "## ラベルを確認"
   ]
  },
  {
   "cell_type": "code",
   "execution_count": 53,
   "metadata": {
    "scrolled": false
   },
   "outputs": [
    {
     "name": "stdout",
     "output_type": "stream",
     "text": [
      "[0, 1, 1]\n",
      "['技術系のポッドキャスト教えてくりーーー / “エンジニアが情報収集とトレンドを追うのに読むと良いサイト - Qiita” https://t.co/VNjwy5Uo6a', 'JavaScript Standard Styleのススメ - Qiita https://t.co/cXSBK5d4vR', 'RT @sugitk: きた〜\\n\\nOpenShift 全部俺 Advent Calendar 2018 #Qiita https://t.co/kVKfc66GhD', 'Cloud Datastoreのクエリでがんばるハナシ [Go] on @Qiita https://t.co/AkdpyPZagj', '“文末のセミコロンは禁止” / “JavaScript Standard Styleのススメ - Qiita” https://t.co/D4yyvfl7OY', 'RT @koukiwf: やべかった。//Unity でリアルな雲を表現するためのシェーダを作成する https://t.co/4JG2hz7QUF', 'RT @drken1215: クォータニオンについて総合的に総整理した記事を書いてみました！\\nUnity、3D CG、航空宇宙と分野横断的に活躍しているのが心そそられます。\\n\\n昨日の夜 12 時に、突然編集画面が真っ白になったときは泣きたくなったん...^^;\\n(昨日朝時点のバ…', '@H_O_R_Z https://t.co/SeVvv7XWOo\\nhttps://t.co/82x283s2Wi', '創作キャラの、きのこたけのこ戦争何派か知りたくないです？私は知りたい', '笹谷「卒業シーズンとかさ、『いっぱい喧嘩もしたけど、だからこそ今がある』みたいなキャッチコピーよく聞くよな」茂庭「鎌ちはよく二口に突っかかってるし、当てはまるんじゃない？」鎌先「この間はきのこ派たけのこ派で戦争したけど」茂庭「あーそれだめなやつだわ」笹谷「つか戦争って…」', '今忙しくて、後にしてくれませんか！いや、きのこたけのこ戦争をしてて。ザップさんと。', 'な、なんか最近きのこたけのこ戦争起きそうになってるんだけど…(￣▽￣;)', '風見さんときのこvsたけのこで戦争した後、こんどは粒あんvsこしあんで仁義なき戦いを繰り広げることとなる部下ちゃん', '【きのこ派？\\u3000たけのこ派？】\\nたけのこ派（これ以上の言及はしません）。 \\n\\n#peing #質問箱 https://t.co/jO5EtYgW8e', '@Asaga_ryuu りゅうくんありがとう😊\\n私もたけのこ派です！！\\nめっちゃ分かります！笑', 'きのこ派かたけのこ派か？どちらが好きかと言われても、その二つになんの共通点が？あまり理論的ではないと思うんですが……ちょっと渚くん！どうして笑ってるんです！', '圧倒的たけのこ派 \\n\\n#peing #質問箱 https://t.co/kmPduhz8pC', '笹谷「卒業シーズンとかさ、『いっぱい喧嘩もしたけど、だからこそ今がある』みたいなキャッチコピーよく聞くよな」茂庭「鎌ちはよく二口に突っかかってるし、当てはまるんじゃない？」鎌先「この間はきのこ派たけのこ派で戦争したけど」茂庭「あーそれだめなやつだわ」笹谷「つか戦争って…」', '雨売「ポッキーゲームしよ。僕こっちね」\\n零太「…何で雨売くんがチョコ側なの」\\n雨売「いいじゃん少しチョコ少ないだけだよ」\\n零太「は？雨売君はきのこの山をビスケット部分から食べるの⁉︎」\\n雨売「零太君きのこ派…？」\\n零太「たけのこ派⁉︎」\\n「「殺す！」」', 'たけのこの里！\\n\\nたけのこ派です！ \\n\\n#peing #質問箱 https://t.co/vQgNTHrX3G', 'ずっとたけのこ派なんだけど大人の～に両方入ってるから久々にきのこ食べたら記憶にあったきのこより美味しくてやるじゃんって思いながら食べてたら、最後の1個がカサのところでプレッツェルぽっきり折れてて、そういうところが駄目なんだよってなった', '【きのこ派？\\u3000たけのこ派？】\\nたけのこ派（これ以上の言及はしません）。 \\n\\n#peing #質問箱 https://t.co/jO5EtYgW8e', 'きのこ派かたけのこ派か？どちらが好きかと言われても、その二つになんの共通点が？あまり理論的ではないと思うんですが……ちょっと渚くん！どうして笑ってるんです！', '笹谷「卒業シーズンとかさ、『いっぱい喧嘩もしたけど、だからこそ今がある』みたいなキャッチコピーよく聞くよな」茂庭「鎌ちはよく二口に突っかかってるし、当てはまるんじゃない？」鎌先「この間はきのこ派たけのこ派で戦争したけど」茂庭「あーそれだめなやつだわ」笹谷「つか戦争って…」', '雨売「ポッキーゲームしよ。僕こっちね」\\n零太「…何で雨売くんがチョコ側なの」\\n雨売「いいじゃん少しチョコ少ないだけだよ」\\n零太「は？雨売君はきのこの山をビスケット部分から食べるの⁉︎」\\n雨売「零太君きのこ派…？」\\n零太「たけのこ派⁉︎」\\n「「殺す！」」', 'ずっとたけのこ派なんだけど大人の～に両方入ってるから久々にきのこ食べたら記憶にあったきのこより美味しくてやるじゃんって思いながら食べてたら、最後の1個がカサのところでプレッツェルぽっきり折れてて、そういうところが駄目なんだよってなった', 'きのこもたけのこも同じ会社から出てるので、この戦争は仕組まれたものだと考える陰謀論派です。', 'RT @obaharu_rintaro: 友達がたけのこ派です。私はきのこ派です。これは戦争しなければですね。', '男2『たけのこ派？きのこ派？』\\n\\n男『俺たけのk.......』\\n\\n男2『えっ！たけのこが好きだって？』\\n\\n男『だったら何なんだよ！』', 'ブン太「俺はたけのこ派だけど、もうきのこ派の奴らとは争いたくない。そもそも『たけのこ』と『きのこ』ふたつあるから別れんだし、この際一緒にしようぜぃ。名前は平等にたけのこの『たけ』と、きのこの『のこ』をあわせて『たけのこ』で」仁王「よろしい、戦争じゃ」', 'RT @59GD_E_D: 創作どっち派\\nきのこたけのこ並みにこれあれだろ創作上のなんやらかんやら', 'きのこもたけのこも両方愛する穏健派です', 'ボマ：ポッキーゲームしまショウ\\nビリ：構わないが、何でお前がチョコ側なんだ\\nボマ：ほんの少しチョコの量が少ないだけじゃないデスカ\\nビリ：お前はきのこの山をビスケット部分から食うのか\\nボマ：アナタ、きのこ派デスカ！\\nビリ：たけのこ派だと！？\\nB&amp;V：殺す', '@sweet_suama きのこ派かたけのこ派かは気になりますね', '皆はどっち派～?きのこの山orたけのこの里。私はたけのこ派～♪\\u3000＃どっち派', '圧倒的たけのこ派だったんだけど、改めてきのこ食べてみたら美味しいな、これ', 'この世の中には２種類の人間しかいない。そう、たけのこ派か、きのこ派かだ。\\nきのこ派のYM豊明です\\nうちのスマホは法人様にもすごくオトク♥\\n６台以上持つとなんと一台当たりの基本料がプランSで１９８０円に!!\\n１GB使えて１０分300回も通話できてイチキュッパカ!!\\nお見積もりもすぐ', 'RT @patosense: たけのこの里にだけ卵が使われていてアレルギー持ちの息子は食べられない。きのこの山は大丈夫。\\n妻は昔からのたけのこ派だったが、この衝撃の事実を目の当たりにして、わが家のきのこたけのこ戦争は終焉を迎えようとしている。\\n\\n必ず両方買う、という着地点で。', 'きのこ派かたけのこ派かって言われると一応きのこって答えるけど正直どっちでもいい派アルフォートうめぇ', '【きのこ派？\\u3000たけのこ派？】\\nたけのこ派（これ以上の言及はしません）。 \\n\\n#peing #質問箱 https://t.co/jO5EtYgW8e', 'きのこ派かたけのこ派か？どちらが好きかと言われても、その二つになんの共通点が？あまり理論的ではないと思うんですが……ちょっと渚くん！どうして笑ってるんです！', '笹谷「卒業シーズンとかさ、『いっぱい喧嘩もしたけど、だからこそ今がある』みたいなキャッチコピーよく聞くよな」茂庭「鎌ちはよく二口に突っかかってるし、当てはまるんじゃない？」鎌先「この間はきのこ派たけのこ派で戦争したけど」茂庭「あーそれだめなやつだわ」笹谷「つか戦争って…」', '弟子「きのこ派ですか？たけのこ派ですか？」師匠「すぎのこ派」弟子「すぎのこ・・・？」師匠「山、里ときたら村だろ」弟子「（また師匠がわけのわからないことを）」', 'たけのこの里にだけ卵が使われていてアレルギー持ちの息子は食べられない。きのこの山は大丈夫。\\n妻は昔からのたけのこ派だったが、この衝撃の事実を目の当たりにして、わが家のきのこたけのこ戦争は終焉を迎えようとしている。\\n\\n必ず両方買う、という着地点で。']\n"
     ]
    }
   ],
   "source": [
    "print(labels)\n",
    "print(tweets)"
   ]
  },
  {
   "cell_type": "markdown",
   "metadata": {},
   "source": [
    "無事、入力したラベルが入っています。"
   ]
  },
  {
   "cell_type": "markdown",
   "metadata": {},
   "source": [
    "## 保存してデータセットを作成\n",
    "最後にデータセットをファイルに書き出しましょう。"
   ]
  },
  {
   "cell_type": "code",
   "execution_count": 5,
   "metadata": {
    "scrolled": false
   },
   "outputs": [
    {
     "ename": "TypeError",
     "evalue": "data argument can't be an iterator",
     "output_type": "error",
     "traceback": [
      "\u001b[0;31m---------------------------------------------------------------------------\u001b[0m",
      "\u001b[0;31mTypeError\u001b[0m                                 Traceback (most recent call last)",
      "\u001b[0;32m<ipython-input-5-04451d963fbf>\u001b[0m in \u001b[0;36m<module>\u001b[0;34m()\u001b[0m\n\u001b[1;32m      1\u001b[0m \u001b[0;32mimport\u001b[0m \u001b[0mpandas\u001b[0m \u001b[0;32mas\u001b[0m \u001b[0mpd\u001b[0m\u001b[0;34m\u001b[0m\u001b[0m\n\u001b[0;32m----> 2\u001b[0;31m \u001b[0mpd\u001b[0m\u001b[0;34m.\u001b[0m\u001b[0mDataFrame\u001b[0m\u001b[0;34m(\u001b[0m\u001b[0mzip\u001b[0m\u001b[0;34m(\u001b[0m\u001b[0;34m)\u001b[0m\u001b[0;34m)\u001b[0m\u001b[0;34m\u001b[0m\u001b[0m\n\u001b[0m",
      "\u001b[0;32m~/.pyenv/versions/3.6.5/envs/pycoon/lib/python3.6/site-packages/pandas/core/frame.py\u001b[0m in \u001b[0;36m__init__\u001b[0;34m(self, data, index, columns, dtype, copy)\u001b[0m\n\u001b[1;32m    387\u001b[0m                 \u001b[0mmgr\u001b[0m \u001b[0;34m=\u001b[0m \u001b[0mself\u001b[0m\u001b[0;34m.\u001b[0m\u001b[0m_init_dict\u001b[0m\u001b[0;34m(\u001b[0m\u001b[0;34m{\u001b[0m\u001b[0;34m}\u001b[0m\u001b[0;34m,\u001b[0m \u001b[0mindex\u001b[0m\u001b[0;34m,\u001b[0m \u001b[0mcolumns\u001b[0m\u001b[0;34m,\u001b[0m \u001b[0mdtype\u001b[0m\u001b[0;34m=\u001b[0m\u001b[0mdtype\u001b[0m\u001b[0;34m)\u001b[0m\u001b[0;34m\u001b[0m\u001b[0m\n\u001b[1;32m    388\u001b[0m         \u001b[0;32melif\u001b[0m \u001b[0misinstance\u001b[0m\u001b[0;34m(\u001b[0m\u001b[0mdata\u001b[0m\u001b[0;34m,\u001b[0m \u001b[0mcollections\u001b[0m\u001b[0;34m.\u001b[0m\u001b[0mIterator\u001b[0m\u001b[0;34m)\u001b[0m\u001b[0;34m:\u001b[0m\u001b[0;34m\u001b[0m\u001b[0m\n\u001b[0;32m--> 389\u001b[0;31m             \u001b[0;32mraise\u001b[0m \u001b[0mTypeError\u001b[0m\u001b[0;34m(\u001b[0m\u001b[0;34m\"data argument can't be an iterator\"\u001b[0m\u001b[0;34m)\u001b[0m\u001b[0;34m\u001b[0m\u001b[0m\n\u001b[0m\u001b[1;32m    390\u001b[0m         \u001b[0;32melse\u001b[0m\u001b[0;34m:\u001b[0m\u001b[0;34m\u001b[0m\u001b[0m\n\u001b[1;32m    391\u001b[0m             \u001b[0;32mtry\u001b[0m\u001b[0;34m:\u001b[0m\u001b[0;34m\u001b[0m\u001b[0m\n",
      "\u001b[0;31mTypeError\u001b[0m: data argument can't be an iterator"
     ]
    }
   ],
   "source": [
    "import pandas as pd\n",
    "pd.DataFrame(zip())"
   ]
  },
  {
   "cell_type": "markdown",
   "metadata": {},
   "source": [
    "^1 例が無意味にセンシティブな内容ですが、正例、負例ちょうどよいバランスで取得できるデータが他に思いつかなかったので、これにしました。"
   ]
  }
 ],
 "metadata": {
  "kernelspec": {
   "display_name": "Python 3",
   "language": "python",
   "name": "python3"
  },
  "language_info": {
   "codemirror_mode": {
    "name": "ipython",
    "version": 3
   },
   "file_extension": ".py",
   "mimetype": "text/x-python",
   "name": "python",
   "nbconvert_exporter": "python",
   "pygments_lexer": "ipython3",
   "version": "3.7.0"
  },
  "toc": {
   "base_numbering": 1,
   "nav_menu": {},
   "number_sections": true,
   "sideBar": true,
   "skip_h1_title": false,
   "title_cell": "Table of Contents",
   "title_sidebar": "Contents",
   "toc_cell": false,
   "toc_position": {},
   "toc_section_display": true,
   "toc_window_display": false
  },
  "varInspector": {
   "cols": {
    "lenName": 16,
    "lenType": 16,
    "lenVar": 40
   },
   "kernels_config": {
    "python": {
     "delete_cmd_postfix": "",
     "delete_cmd_prefix": "del ",
     "library": "var_list.py",
     "varRefreshCmd": "print(var_dic_list())"
    },
    "r": {
     "delete_cmd_postfix": ") ",
     "delete_cmd_prefix": "rm(",
     "library": "var_list.r",
     "varRefreshCmd": "cat(var_dic_list()) "
    }
   },
   "types_to_exclude": [
    "module",
    "function",
    "builtin_function_or_method",
    "instance",
    "_Feature"
   ],
   "window_display": false
  }
 },
 "nbformat": 4,
 "nbformat_minor": 2
}
