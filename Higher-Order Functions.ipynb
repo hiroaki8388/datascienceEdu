{
 "cells": [
  {
   "cell_type": "markdown",
   "metadata": {},
   "source": [
    "# Using max() and min() to find extrema"
   ]
  },
  {
   "cell_type": "code",
   "execution_count": 2,
   "metadata": {},
   "outputs": [],
   "source": [
    "# 始点、終点、距離のデータ\n",
    "data=(\n",
    " ((37.54901619777347, -76.33029518659048), (37.840832, -76.273834), 17.7246), \n",
    " ((37.840832, -76.273834), (38.331501, -76.459503), 30.7382), \n",
    " ((38.331501, -76.459503), (38.845501, -76.537331), 31.0756), \n",
    " ((36.843334, -76.298668), (37.549, -76.331169), 42.3962), \n",
    " ((37.549, -76.331169), (38.330166, -76.458504), 47.2866), \n",
    " ((38.330166, -76.458504), (38.976334, -76.473503), 38.8019)\n",
    ")"
   ]
  },
  {
   "cell_type": "markdown",
   "metadata": {},
   "source": [
    "## 最大、最小の距離のみ抽出\n",
    "- genrator functionを使う\n",
    "- wrapしてからunwrapする\n",
    "- 関数を引数として与える"
   ]
  },
  {
   "cell_type": "code",
   "execution_count": 4,
   "metadata": {},
   "outputs": [
    {
     "data": {
      "text/plain": [
       "17.7246"
      ]
     },
     "execution_count": 4,
     "metadata": {},
     "output_type": "execute_result"
    }
   ],
   "source": [
    "# 方法1\n",
    "max(dist for start,end,dist in data)\n",
    "min(dist for start,end,dist in data)"
   ]
  },
  {
   "cell_type": "code",
   "execution_count": 7,
   "metadata": {},
   "outputs": [],
   "source": [
    "# 方法2 TODO\n",
    "from typing import Iterator,Iterable,Tuple,Any\n",
    "\n",
    "Wrapped=Tuple[Any,Tuple]\n",
    "\n",
    "def wrap(leg_iter:Iterable[Tuple]) -> Iterable[Wrapped]:\n",
    "    return ((leg[2],leg) for leg in leg_iter)\n",
    "\n"
   ]
  },
  {
   "cell_type": "code",
   "execution_count": 11,
   "metadata": {},
   "outputs": [
    {
     "data": {
      "text/plain": [
       "((37.54901619777347, -76.33029518659048), (37.840832, -76.273834), 17.7246)"
      ]
     },
     "execution_count": 11,
     "metadata": {},
     "output_type": "execute_result"
    }
   ],
   "source": [
    "# 方法3\n",
    "\n",
    "def by_dist(leg:Tuple[Any,Any,Any])->Any:\n",
    "    lat,lon,dist=leg\n",
    "    \n",
    "    return dist\n",
    "\n",
    "\n",
    "max(data,key=by_dist)\n",
    "min(data,key=by_dist)"
   ]
  },
  {
   "cell_type": "code",
   "execution_count": 14,
   "metadata": {},
   "outputs": [],
   "source": [
    "# 同時に　higher func を定義\n",
    "from typing import Iterable,Any,Callable\n",
    "\n",
    "def max_like(trip:Iterable[Any],key:Callable)->Any:\n",
    "    wrap=((key(leg),leg) for leg in trip)\n",
    "    \n",
    "    return sorted(wrap)[-1][1]"
   ]
  },
  {
   "cell_type": "code",
   "execution_count": 15,
   "metadata": {},
   "outputs": [
    {
     "data": {
      "text/plain": [
       "((37.549, -76.331169), (38.330166, -76.458504), 47.2866)"
      ]
     },
     "execution_count": 15,
     "metadata": {},
     "output_type": "execute_result"
    }
   ],
   "source": [
    "max_like(data,key=by_dist)"
   ]
  }
 ],
 "metadata": {
  "kernelspec": {
   "display_name": "Python 3",
   "language": "python",
   "name": "python3"
  },
  "language_info": {
   "codemirror_mode": {
    "name": "ipython",
    "version": 3
   },
   "file_extension": ".py",
   "mimetype": "text/x-python",
   "name": "python",
   "nbconvert_exporter": "python",
   "pygments_lexer": "ipython3",
   "version": "3.6.0"
  },
  "toc": {
   "base_numbering": 1,
   "nav_menu": {},
   "number_sections": true,
   "sideBar": true,
   "skip_h1_title": false,
   "title_cell": "Table of Contents",
   "title_sidebar": "Contents",
   "toc_cell": false,
   "toc_position": {},
   "toc_section_display": true,
   "toc_window_display": false
  }
 },
 "nbformat": 4,
 "nbformat_minor": 2
}
