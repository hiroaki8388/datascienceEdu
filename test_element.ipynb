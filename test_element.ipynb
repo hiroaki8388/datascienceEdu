{
 "cells": [
  {
   "cell_type": "markdown",
   "metadata": {},
   "source": [
    "# pytestの使い方"
   ]
  },
  {
   "cell_type": "code",
   "execution_count": 78,
   "metadata": {},
   "outputs": [
    {
     "name": "stdout",
     "output_type": "stream",
     "text": [
      "Overwriting test_1.py\n"
     ]
    }
   ],
   "source": [
    "%%writefile test_1.py\n",
    "# 簡単な使い方\n",
    "# test**.pyの名前の走査し、その中のassertをすべてテストする\n",
    "def func(x):\n",
    "    return x+1\n",
    "\n",
    "\n",
    "# test_**で始まる関数をすべてテストする\n",
    "def test_answer():\n",
    "    assert func(4)==6\n"
   ]
  },
  {
   "cell_type": "code",
   "execution_count": 79,
   "metadata": {
    "scrolled": true
   },
   "outputs": [
    {
     "name": "stdout",
     "output_type": "stream",
     "text": [
      "\u001b[1m============================= test session starts ==============================\u001b[0m\r\n",
      "platform darwin -- Python 3.6.0, pytest-3.5.0, py-1.5.3, pluggy-0.6.0 -- /Users/hiroaki/.pyenv/versions/3.6.0/envs/pycoon/bin/python\r\n",
      "cachedir: .pytest_cache\r\n",
      "rootdir: /Users/hiroaki/Develop/project/DIUnit/pycoon, inifile:\r\n",
      "\u001b[1m\r",
      "collecting 0 items                                                             \u001b[0m\u001b[1m\r",
      "collecting 1 item                                                              \u001b[0m\u001b[1m\r",
      "collected 1 item                                                               \u001b[0m\r\n",
      "\r\n",
      "test_1.py::test_answer \u001b[31mFAILED\u001b[0m\u001b[36m                                            [100%]\u001b[0m\r\n",
      "\r\n",
      "=================================== FAILURES ===================================\r\n",
      "\u001b[31m\u001b[1m_________________________________ test_answer __________________________________\u001b[0m\r\n",
      "\r\n",
      "\u001b[1m    def test_answer():\u001b[0m\r\n",
      "\u001b[1m>       assert func(4)==6\u001b[0m\r\n",
      "\u001b[1m\u001b[31mE       assert 5 == 6\u001b[0m\r\n",
      "\u001b[1m\u001b[31mE        +  where 5 = func(4)\u001b[0m\r\n",
      "\r\n",
      "\u001b[1m\u001b[31mtest_1.py\u001b[0m:9: AssertionError\r\n",
      "\u001b[31m\u001b[1m=========================== 1 failed in 0.03 seconds ===========================\u001b[0m\r\n"
     ]
    }
   ],
   "source": [
    "# 実行\n",
    "!pytest -v test_1.py"
   ]
  },
  {
   "cell_type": "code",
   "execution_count": 108,
   "metadata": {},
   "outputs": [
    {
     "name": "stdout",
     "output_type": "stream",
     "text": [
      "Overwriting test_2.py\n"
     ]
    }
   ],
   "source": [
    "%%writefile test_2.py\n",
    "from __future__ import print_function\n",
    "import pytest\n",
    " \n",
    "# テストごとに前後処理を行うためのマーキング(アノテーション)\n",
    "@pytest.fixture()\n",
    "def resource_a():\n",
    "    print('\\nresources_a() \"setup\"')\n",
    " \n",
    "def test_1_that_needs_resource_a(resource_a):\n",
    "    print('test_1_that_needs_resource_a()')\n",
    " \n",
    "def test_2_that_does_not():\n",
    "    print('\\ntest_2_that_does_not()')\n",
    " \n",
    "def test_3_that_does(resource_a):\n",
    "    print('test_3_that_does()')"
   ]
  },
  {
   "cell_type": "code",
   "execution_count": 111,
   "metadata": {},
   "outputs": [
    {
     "name": "stdout",
     "output_type": "stream",
     "text": [
      "\u001b[1m============================= test session starts ==============================\u001b[0m\r\n",
      "platform darwin -- Python 3.6.0, pytest-3.5.0, py-1.5.3, pluggy-0.6.0 -- /Users/hiroaki/.pyenv/versions/3.6.0/envs/pycoon/bin/python\r\n",
      "cachedir: .pytest_cache\r\n",
      "rootdir: /Users/hiroaki/Develop/project/DIUnit/pycoon, inifile:\r\n",
      "\u001b[1m\r",
      "collecting 0 items                                                             \u001b[0m\u001b[1m\r",
      "collecting 3 items                                                             \u001b[0m\u001b[1m\r",
      "collected 3 items                                                              \u001b[0m\r\n",
      "\r\n",
      "test_2.py::test_1_that_needs_resource_a \u001b[32mPASSED\u001b[0m\u001b[36m                           [ 33%]\u001b[0m\r\n",
      "test_2.py::test_2_that_does_not \u001b[32mPASSED\u001b[0m\u001b[36m                                   [ 66%]\u001b[0m\r\n",
      "test_2.py::test_3_that_does \u001b[32mPASSED\u001b[0m\u001b[36m                                       [100%]\u001b[0m\r\n",
      "\r\n",
      "\u001b[32m\u001b[1m=========================== 3 passed in 0.01 seconds ===========================\u001b[0m\r\n"
     ]
    }
   ],
   "source": [
    "!pytest -v  test_2.py"
   ]
  },
  {
   "cell_type": "code",
   "execution_count": 105,
   "metadata": {},
   "outputs": [
    {
     "name": "stdout",
     "output_type": "stream",
     "text": [
      "Overwriting test_3.py\n"
     ]
    }
   ],
   "source": [
    "%%writefile test_3.py\n",
    "import sys\n",
    "current_module=sys.modules[__name__]\n",
    "\n",
    "# mock\n",
    "\n",
    "# monkeypatch.setattr(a, b, c)\n",
    "# a:モックにしたい[関数, クラス]を含む[モジュール, クラス]\n",
    "# b:モックにしたい[関数名, クラス名]\n",
    "# c:モックの[関数, クラス]\n",
    "\n",
    "# 関数をmock\n",
    "def bar():\n",
    "    return \"bar\"\n",
    "\n",
    "def test_bar(monkeypatch):\n",
    "    monkeypatch.setattr(current_module,'bar',lambda:'patch')\n",
    "    assert bar()=='patch'\n",
    "    \n",
    "# class内の関数をmock\n",
    "class Piyo(object):\n",
    "    def piyo_func(self):\n",
    "        return 'piyo!'\n",
    " \n",
    "\n",
    "def hoge():\n",
    "    piyo=Piyo()\n",
    "    \n",
    "    return piyo.piyo_func()\n",
    "\n",
    "def test_piyo(monkeypatch):\n",
    "    monkeypatch.setattr(current_module.Piyo,'piyo_func',lambda *args:'patch')\n",
    "    \n",
    "    assert hoge() == 'patch' "
   ]
  },
  {
   "cell_type": "code",
   "execution_count": 107,
   "metadata": {},
   "outputs": [
    {
     "name": "stdout",
     "output_type": "stream",
     "text": [
      "\u001b[1m============================= test session starts ==============================\u001b[0m\r\n",
      "platform darwin -- Python 3.6.0, pytest-3.5.0, py-1.5.3, pluggy-0.6.0 -- /Users/hiroaki/.pyenv/versions/3.6.0/envs/pycoon/bin/python\r\n",
      "cachedir: .pytest_cache\r\n",
      "rootdir: /Users/hiroaki/Develop/project/DIUnit/pycoon, inifile:\r\n",
      "\u001b[1m\r",
      "collecting 0 items                                                             \u001b[0m\u001b[1m\r",
      "collecting 2 items                                                             \u001b[0m\u001b[1m\r",
      "collected 2 items                                                              \u001b[0m\r\n",
      "\r\n",
      "test_3.py::test_bar \u001b[32mPASSED\u001b[0m\u001b[36m                                               [ 50%]\u001b[0m\r\n",
      "test_3.py::test_piyo \u001b[32mPASSED\u001b[0m\u001b[36m                                              [100%]\u001b[0m\r\n",
      "\r\n",
      "\u001b[32m\u001b[1m=========================== 2 passed in 0.01 seconds ===========================\u001b[0m\r\n"
     ]
    }
   ],
   "source": [
    "!pytest -v test_3.py"
   ]
  },
  {
   "cell_type": "code",
   "execution_count": 131,
   "metadata": {},
   "outputs": [
    {
     "ename": "TypeError",
     "evalue": "can't send non-None value to a just-started generator",
     "output_type": "error",
     "traceback": [
      "\u001b[0;31m---------------------------------------------------------------------------\u001b[0m",
      "\u001b[0;31mTypeError\u001b[0m                                 Traceback (most recent call last)",
      "\u001b[0;32m<ipython-input-131-e7a0726a814b>\u001b[0m in \u001b[0;36m<module>\u001b[0;34m()\u001b[0m\n\u001b[1;32m      7\u001b[0m \u001b[0;34m\u001b[0m\u001b[0m\n\u001b[1;32m      8\u001b[0m \u001b[0mgen\u001b[0m\u001b[0;34m=\u001b[0m\u001b[0mtest_gen\u001b[0m\u001b[0;34m(\u001b[0m\u001b[0;36m50\u001b[0m\u001b[0;34m)\u001b[0m\u001b[0;34m\u001b[0m\u001b[0m\n\u001b[0;32m----> 9\u001b[0;31m \u001b[0mprint\u001b[0m\u001b[0;34m(\u001b[0m\u001b[0mnext\u001b[0m\u001b[0;34m(\u001b[0m\u001b[0mgen\u001b[0m\u001b[0;34m.\u001b[0m\u001b[0msend\u001b[0m\u001b[0;34m(\u001b[0m\u001b[0;36m100\u001b[0m\u001b[0;34m)\u001b[0m\u001b[0;34m)\u001b[0m\u001b[0;34m)\u001b[0m\u001b[0;34m\u001b[0m\u001b[0m\n\u001b[0m\u001b[1;32m     10\u001b[0m \u001b[0mprint\u001b[0m\u001b[0;34m(\u001b[0m\u001b[0mnext\u001b[0m\u001b[0;34m(\u001b[0m\u001b[0mgen\u001b[0m\u001b[0;34m)\u001b[0m\u001b[0;34m)\u001b[0m\u001b[0;34m\u001b[0m\u001b[0m\n",
      "\u001b[0;31mTypeError\u001b[0m: can't send non-None value to a just-started generator"
     ]
    }
   ],
   "source": [
    "# memo \n",
    "def test_gen(x=10):\n",
    "    val=0 \n",
    "    for i in range(10):\n",
    "        val +=x+i\n",
    "        yield(val)\n",
    "        \n",
    "gen=test_gen(50)\n",
    "print(next(gen.send(100)))\n",
    "print(next(gen))\n"
   ]
  },
  {
   "cell_type": "code",
   "execution_count": null,
   "metadata": {},
   "outputs": [],
   "source": []
  },
  {
   "cell_type": "code",
   "execution_count": null,
   "metadata": {},
   "outputs": [],
   "source": []
  }
 ],
 "metadata": {
  "kernelspec": {
   "display_name": "Python 3",
   "language": "python",
   "name": "python3"
  },
  "language_info": {
   "codemirror_mode": {
    "name": "ipython",
    "version": 3
   },
   "file_extension": ".py",
   "mimetype": "text/x-python",
   "name": "python",
   "nbconvert_exporter": "python",
   "pygments_lexer": "ipython3",
   "version": "3.6.0"
  }
 },
 "nbformat": 4,
 "nbformat_minor": 2
}
